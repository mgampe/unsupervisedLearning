{
 "cells": [
  {
   "cell_type": "code",
   "execution_count": 1,
   "metadata": {},
   "outputs": [],
   "source": [
    "import pandas as pd\n",
    "import numpy as np\n",
    "from sklearn import cluster\n",
    "from sklearn import mixture\n",
    "from matplotlib import pyplot as plt\n",
    "from mpl_toolkits import mplot3d\n",
    "import seaborn as sns\n",
    "from sklearn.decomposition import PCA\n",
    "from sklearn.decomposition import FastICA\n",
    "from sklearn.preprocessing import OneHotEncoder\n",
    "\n",
    "from sklearn.decomposition import PCA\n",
    "from sklearn.metrics import auc, accuracy_score, confusion_matrix, mean_squared_error\n",
    "from sklearn.model_selection import cross_val_score, GridSearchCV, KFold, RandomizedSearchCV, train_test_split\n",
    "import pickle\n",
    "\n",
    "import six\n",
    "import sys\n",
    "sys.modules['sklearn.externals.six'] = six\n",
    "import mlrose\n",
    "import numpy as np"
   ]
  },
  {
   "cell_type": "markdown",
   "metadata": {},
   "source": []
  },
  {
   "cell_type": "code",
   "execution_count": 2,
   "metadata": {},
   "outputs": [],
   "source": [
    "bd = pd.read_csv('./NNData_87.csv')\n",
    "sd = pd.read_csv('./cfb22_nn_w1_w9.csv')"
   ]
  },
  {
   "cell_type": "code",
   "execution_count": 3,
   "metadata": {},
   "outputs": [],
   "source": [
    "sd = sd.dropna(axis=0)"
   ]
  },
  {
   "cell_type": "code",
   "execution_count": 4,
   "metadata": {},
   "outputs": [],
   "source": [
    "bd_target = bd[['home_team_cover_spread']]\n",
    "sd_target = sd[['home_team_cover_spread']]"
   ]
  },
  {
   "cell_type": "code",
   "execution_count": 5,
   "metadata": {},
   "outputs": [],
   "source": [
    "bd = bd.drop(['Unnamed: 0','index', 'home_team_cover_spread' ,'year', 'home_conference_ACC', 'home_conference_American Athletic',\n",
    "       'home_conference_Big 12', 'home_conference_Big Ten',\n",
    "       'home_conference_Conference USA', 'home_conference_FBS Independents',\n",
    "       'home_conference_Mid-American', 'home_conference_Mountain West',\n",
    "       'home_conference_Pac-12', 'home_conference_SEC',\n",
    "       'home_conference_Sun Belt', 'away_conference_ACC',\n",
    "       'away_conference_American Athletic', 'away_conference_Big 12',\n",
    "       'away_conference_Big Ten', 'away_conference_Conference USA',\n",
    "       'away_conference_FBS Independents', 'away_conference_Mid-American',\n",
    "       'away_conference_Mountain West', 'away_conference_Pac-12',\n",
    "       'away_conference_SEC', 'away_conference_Sun Belt', 'neutral_site_False',\n",
    "       'neutral_site_True'], axis = 1)"
   ]
  },
  {
   "cell_type": "code",
   "execution_count": 6,
   "metadata": {},
   "outputs": [],
   "source": [
    "sd = sd.drop(['Unnamed: 0', 'home_team_cover_spread','week',  'home_conference_ACC', 'home_conference_American Athletic',\n",
    "       'home_conference_Big 12', 'home_conference_Big Ten',\n",
    "       'home_conference_Conference USA', 'home_conference_FBS Independents',\n",
    "       'home_conference_Mid-American', 'home_conference_Mountain West',\n",
    "       'home_conference_Pac-12', 'home_conference_SEC',\n",
    "       'home_conference_Sun Belt', 'away_conference_ACC',\n",
    "       'away_conference_American Athletic', 'away_conference_Big 12',\n",
    "       'away_conference_Big Ten', 'away_conference_Conference USA',\n",
    "       'away_conference_FBS Independents', 'away_conference_Mid-American',\n",
    "       'away_conference_Mountain West', 'away_conference_Pac-12',\n",
    "       'away_conference_SEC', 'away_conference_Sun Belt', 'neutral_site_False',\n",
    "       'neutral_site_True'],axis=1)"
   ]
  },
  {
   "cell_type": "code",
   "execution_count": 7,
   "metadata": {},
   "outputs": [],
   "source": [
    "bd_num = bd.copy()\n",
    "sd_num = sd.copy()"
   ]
  },
  {
   "cell_type": "code",
   "execution_count": 8,
   "metadata": {},
   "outputs": [
    {
     "data": {
      "text/plain": [
       "12"
      ]
     },
     "execution_count": 8,
     "metadata": {},
     "output_type": "execute_result"
    }
   ],
   "source": [
    "len(sd_num.columns)"
   ]
  },
  {
   "cell_type": "code",
   "execution_count": 9,
   "metadata": {},
   "outputs": [
    {
     "name": "stderr",
     "output_type": "stream",
     "text": [
      "C:\\Users\\magamp\\AppData\\Roaming\\Python\\Python38\\site-packages\\sklearn\\decomposition\\_fastica.py:494: FutureWarning: Starting in v1.3, whiten='unit-variance' will be used by default.\n",
      "  warnings.warn(\n",
      "C:\\Users\\magamp\\AppData\\Roaming\\Python\\Python38\\site-packages\\sklearn\\decomposition\\_fastica.py:120: ConvergenceWarning: FastICA did not converge. Consider increasing tolerance or the maximum number of iterations.\n",
      "  warnings.warn(\n"
     ]
    }
   ],
   "source": [
    "icabd = FastICA().fit_transform(bd_num)\n",
    "# icabd.mean()\n",
    "\n",
    "# plt.plot(np.cumsum(pca.explained_variance_ratio_))\n",
    "# plt.xlabel('number of components')\n",
    "# plt.ylabel('cumulative explained variance')"
   ]
  },
  {
   "cell_type": "code",
   "execution_count": 10,
   "metadata": {},
   "outputs": [],
   "source": [
    "def kurt(x):\n",
    "    n = np.shape(x)[0]\n",
    "    mean = np.sum((x**1)/n) # Calculate the mean\n",
    "    var = np.sum((x-mean)**2)/n # Calculate the variance\n",
    "    skew = np.sum((x-mean)**3)/n # Calculate the skewness\n",
    "    kurt = np.sum((x-mean)**4)/n # Calculate the kurtosis\n",
    "    kurt = kurt/(var**2)-3\n",
    "\n",
    "    return kurt, skew, var, mean"
   ]
  },
  {
   "cell_type": "code",
   "execution_count": 11,
   "metadata": {},
   "outputs": [
    {
     "data": {
      "text/html": [
       "<div>\n",
       "<style scoped>\n",
       "    .dataframe tbody tr th:only-of-type {\n",
       "        vertical-align: middle;\n",
       "    }\n",
       "\n",
       "    .dataframe tbody tr th {\n",
       "        vertical-align: top;\n",
       "    }\n",
       "\n",
       "    .dataframe thead th {\n",
       "        text-align: right;\n",
       "    }\n",
       "</style>\n",
       "<table border=\"1\" class=\"dataframe\">\n",
       "  <thead>\n",
       "    <tr style=\"text-align: right;\">\n",
       "      <th></th>\n",
       "      <th>0</th>\n",
       "      <th>1</th>\n",
       "      <th>2</th>\n",
       "      <th>3</th>\n",
       "      <th>4</th>\n",
       "      <th>5</th>\n",
       "      <th>6</th>\n",
       "      <th>7</th>\n",
       "      <th>8</th>\n",
       "      <th>9</th>\n",
       "      <th>...</th>\n",
       "      <th>51</th>\n",
       "      <th>52</th>\n",
       "      <th>53</th>\n",
       "      <th>54</th>\n",
       "      <th>55</th>\n",
       "      <th>56</th>\n",
       "      <th>57</th>\n",
       "      <th>58</th>\n",
       "      <th>59</th>\n",
       "      <th>target</th>\n",
       "    </tr>\n",
       "  </thead>\n",
       "  <tbody>\n",
       "    <tr>\n",
       "      <th>0</th>\n",
       "      <td>-0.032741</td>\n",
       "      <td>-0.029696</td>\n",
       "      <td>-0.009417</td>\n",
       "      <td>-0.015568</td>\n",
       "      <td>0.003039</td>\n",
       "      <td>0.015795</td>\n",
       "      <td>-0.003581</td>\n",
       "      <td>0.020526</td>\n",
       "      <td>0.017737</td>\n",
       "      <td>-0.008509</td>\n",
       "      <td>...</td>\n",
       "      <td>0.010657</td>\n",
       "      <td>0.006026</td>\n",
       "      <td>0.031277</td>\n",
       "      <td>0.019023</td>\n",
       "      <td>-0.003853</td>\n",
       "      <td>0.014724</td>\n",
       "      <td>-0.006690</td>\n",
       "      <td>-0.007249</td>\n",
       "      <td>0.006258</td>\n",
       "      <td>0</td>\n",
       "    </tr>\n",
       "    <tr>\n",
       "      <th>1</th>\n",
       "      <td>0.008823</td>\n",
       "      <td>-0.010826</td>\n",
       "      <td>0.017925</td>\n",
       "      <td>-0.010772</td>\n",
       "      <td>0.010337</td>\n",
       "      <td>-0.013395</td>\n",
       "      <td>0.022177</td>\n",
       "      <td>0.012704</td>\n",
       "      <td>-0.004884</td>\n",
       "      <td>-0.000965</td>\n",
       "      <td>...</td>\n",
       "      <td>0.001278</td>\n",
       "      <td>-0.002426</td>\n",
       "      <td>0.066311</td>\n",
       "      <td>0.012919</td>\n",
       "      <td>-0.008502</td>\n",
       "      <td>0.007414</td>\n",
       "      <td>0.009393</td>\n",
       "      <td>-0.011572</td>\n",
       "      <td>-0.001676</td>\n",
       "      <td>1</td>\n",
       "    </tr>\n",
       "    <tr>\n",
       "      <th>2</th>\n",
       "      <td>0.021890</td>\n",
       "      <td>0.000427</td>\n",
       "      <td>-0.018069</td>\n",
       "      <td>0.018598</td>\n",
       "      <td>0.003986</td>\n",
       "      <td>0.011694</td>\n",
       "      <td>-0.000854</td>\n",
       "      <td>-0.045140</td>\n",
       "      <td>0.008344</td>\n",
       "      <td>0.016117</td>\n",
       "      <td>...</td>\n",
       "      <td>-0.019316</td>\n",
       "      <td>0.004051</td>\n",
       "      <td>0.009930</td>\n",
       "      <td>-0.025382</td>\n",
       "      <td>0.017117</td>\n",
       "      <td>-0.024888</td>\n",
       "      <td>0.038374</td>\n",
       "      <td>0.014967</td>\n",
       "      <td>-0.023001</td>\n",
       "      <td>1</td>\n",
       "    </tr>\n",
       "    <tr>\n",
       "      <th>3</th>\n",
       "      <td>0.014305</td>\n",
       "      <td>-0.005278</td>\n",
       "      <td>-0.009769</td>\n",
       "      <td>-0.004266</td>\n",
       "      <td>-0.027834</td>\n",
       "      <td>0.006554</td>\n",
       "      <td>0.002006</td>\n",
       "      <td>0.035002</td>\n",
       "      <td>0.007302</td>\n",
       "      <td>-0.000774</td>\n",
       "      <td>...</td>\n",
       "      <td>-0.007552</td>\n",
       "      <td>-0.000267</td>\n",
       "      <td>-0.008885</td>\n",
       "      <td>-0.008946</td>\n",
       "      <td>0.015319</td>\n",
       "      <td>-0.000217</td>\n",
       "      <td>-0.018432</td>\n",
       "      <td>0.001002</td>\n",
       "      <td>-0.005675</td>\n",
       "      <td>0</td>\n",
       "    </tr>\n",
       "    <tr>\n",
       "      <th>4</th>\n",
       "      <td>0.021521</td>\n",
       "      <td>-0.024073</td>\n",
       "      <td>-0.019067</td>\n",
       "      <td>-0.045718</td>\n",
       "      <td>-0.002457</td>\n",
       "      <td>-0.011547</td>\n",
       "      <td>0.000898</td>\n",
       "      <td>-0.007672</td>\n",
       "      <td>0.004839</td>\n",
       "      <td>0.008163</td>\n",
       "      <td>...</td>\n",
       "      <td>-0.010666</td>\n",
       "      <td>0.008289</td>\n",
       "      <td>0.019424</td>\n",
       "      <td>-0.014291</td>\n",
       "      <td>-0.017086</td>\n",
       "      <td>-0.026825</td>\n",
       "      <td>-0.038844</td>\n",
       "      <td>0.000018</td>\n",
       "      <td>0.007438</td>\n",
       "      <td>1</td>\n",
       "    </tr>\n",
       "    <tr>\n",
       "      <th>...</th>\n",
       "      <td>...</td>\n",
       "      <td>...</td>\n",
       "      <td>...</td>\n",
       "      <td>...</td>\n",
       "      <td>...</td>\n",
       "      <td>...</td>\n",
       "      <td>...</td>\n",
       "      <td>...</td>\n",
       "      <td>...</td>\n",
       "      <td>...</td>\n",
       "      <td>...</td>\n",
       "      <td>...</td>\n",
       "      <td>...</td>\n",
       "      <td>...</td>\n",
       "      <td>...</td>\n",
       "      <td>...</td>\n",
       "      <td>...</td>\n",
       "      <td>...</td>\n",
       "      <td>...</td>\n",
       "      <td>...</td>\n",
       "      <td>...</td>\n",
       "    </tr>\n",
       "    <tr>\n",
       "      <th>4739</th>\n",
       "      <td>-0.013399</td>\n",
       "      <td>0.000425</td>\n",
       "      <td>-0.001505</td>\n",
       "      <td>-0.002622</td>\n",
       "      <td>0.005981</td>\n",
       "      <td>0.004380</td>\n",
       "      <td>-0.068532</td>\n",
       "      <td>0.000845</td>\n",
       "      <td>-0.000738</td>\n",
       "      <td>-0.022735</td>\n",
       "      <td>...</td>\n",
       "      <td>0.008658</td>\n",
       "      <td>-0.021842</td>\n",
       "      <td>-0.002851</td>\n",
       "      <td>0.002322</td>\n",
       "      <td>0.003209</td>\n",
       "      <td>-0.001540</td>\n",
       "      <td>0.001456</td>\n",
       "      <td>-0.009849</td>\n",
       "      <td>0.004548</td>\n",
       "      <td>1</td>\n",
       "    </tr>\n",
       "    <tr>\n",
       "      <th>4740</th>\n",
       "      <td>-0.016509</td>\n",
       "      <td>0.000864</td>\n",
       "      <td>-0.012459</td>\n",
       "      <td>-0.005986</td>\n",
       "      <td>-0.015736</td>\n",
       "      <td>0.012485</td>\n",
       "      <td>-0.007090</td>\n",
       "      <td>0.005140</td>\n",
       "      <td>-0.001690</td>\n",
       "      <td>-0.004638</td>\n",
       "      <td>...</td>\n",
       "      <td>0.006907</td>\n",
       "      <td>0.013396</td>\n",
       "      <td>-0.000621</td>\n",
       "      <td>0.000967</td>\n",
       "      <td>-0.002660</td>\n",
       "      <td>-0.008545</td>\n",
       "      <td>0.004890</td>\n",
       "      <td>-0.001214</td>\n",
       "      <td>-0.021541</td>\n",
       "      <td>0</td>\n",
       "    </tr>\n",
       "    <tr>\n",
       "      <th>4741</th>\n",
       "      <td>-0.022172</td>\n",
       "      <td>0.003981</td>\n",
       "      <td>-0.002986</td>\n",
       "      <td>-0.000368</td>\n",
       "      <td>0.000359</td>\n",
       "      <td>0.000481</td>\n",
       "      <td>0.009476</td>\n",
       "      <td>-0.001761</td>\n",
       "      <td>0.000513</td>\n",
       "      <td>0.017848</td>\n",
       "      <td>...</td>\n",
       "      <td>0.009555</td>\n",
       "      <td>0.003497</td>\n",
       "      <td>0.031669</td>\n",
       "      <td>-0.001454</td>\n",
       "      <td>-0.000916</td>\n",
       "      <td>-0.001471</td>\n",
       "      <td>0.006088</td>\n",
       "      <td>0.010810</td>\n",
       "      <td>0.000611</td>\n",
       "      <td>0</td>\n",
       "    </tr>\n",
       "    <tr>\n",
       "      <th>4742</th>\n",
       "      <td>0.000263</td>\n",
       "      <td>-0.001373</td>\n",
       "      <td>0.010561</td>\n",
       "      <td>-0.003296</td>\n",
       "      <td>0.016685</td>\n",
       "      <td>0.010374</td>\n",
       "      <td>0.004641</td>\n",
       "      <td>0.001027</td>\n",
       "      <td>0.003696</td>\n",
       "      <td>0.018033</td>\n",
       "      <td>...</td>\n",
       "      <td>-0.015412</td>\n",
       "      <td>-0.000587</td>\n",
       "      <td>0.006984</td>\n",
       "      <td>-0.003077</td>\n",
       "      <td>0.002365</td>\n",
       "      <td>0.003079</td>\n",
       "      <td>0.000811</td>\n",
       "      <td>0.032243</td>\n",
       "      <td>0.004037</td>\n",
       "      <td>1</td>\n",
       "    </tr>\n",
       "    <tr>\n",
       "      <th>4743</th>\n",
       "      <td>0.031040</td>\n",
       "      <td>0.002471</td>\n",
       "      <td>-0.011639</td>\n",
       "      <td>0.006229</td>\n",
       "      <td>0.010258</td>\n",
       "      <td>0.025801</td>\n",
       "      <td>0.011879</td>\n",
       "      <td>-0.000084</td>\n",
       "      <td>-0.065583</td>\n",
       "      <td>0.037984</td>\n",
       "      <td>...</td>\n",
       "      <td>0.016131</td>\n",
       "      <td>0.023181</td>\n",
       "      <td>-0.001357</td>\n",
       "      <td>0.012377</td>\n",
       "      <td>-0.001389</td>\n",
       "      <td>-0.004562</td>\n",
       "      <td>0.009265</td>\n",
       "      <td>-0.013044</td>\n",
       "      <td>0.006441</td>\n",
       "      <td>1</td>\n",
       "    </tr>\n",
       "  </tbody>\n",
       "</table>\n",
       "<p>4744 rows × 61 columns</p>\n",
       "</div>"
      ],
      "text/plain": [
       "             0         1         2         3         4         5         6  \\\n",
       "0    -0.032741 -0.029696 -0.009417 -0.015568  0.003039  0.015795 -0.003581   \n",
       "1     0.008823 -0.010826  0.017925 -0.010772  0.010337 -0.013395  0.022177   \n",
       "2     0.021890  0.000427 -0.018069  0.018598  0.003986  0.011694 -0.000854   \n",
       "3     0.014305 -0.005278 -0.009769 -0.004266 -0.027834  0.006554  0.002006   \n",
       "4     0.021521 -0.024073 -0.019067 -0.045718 -0.002457 -0.011547  0.000898   \n",
       "...        ...       ...       ...       ...       ...       ...       ...   \n",
       "4739 -0.013399  0.000425 -0.001505 -0.002622  0.005981  0.004380 -0.068532   \n",
       "4740 -0.016509  0.000864 -0.012459 -0.005986 -0.015736  0.012485 -0.007090   \n",
       "4741 -0.022172  0.003981 -0.002986 -0.000368  0.000359  0.000481  0.009476   \n",
       "4742  0.000263 -0.001373  0.010561 -0.003296  0.016685  0.010374  0.004641   \n",
       "4743  0.031040  0.002471 -0.011639  0.006229  0.010258  0.025801  0.011879   \n",
       "\n",
       "             7         8         9  ...        51        52        53  \\\n",
       "0     0.020526  0.017737 -0.008509  ...  0.010657  0.006026  0.031277   \n",
       "1     0.012704 -0.004884 -0.000965  ...  0.001278 -0.002426  0.066311   \n",
       "2    -0.045140  0.008344  0.016117  ... -0.019316  0.004051  0.009930   \n",
       "3     0.035002  0.007302 -0.000774  ... -0.007552 -0.000267 -0.008885   \n",
       "4    -0.007672  0.004839  0.008163  ... -0.010666  0.008289  0.019424   \n",
       "...        ...       ...       ...  ...       ...       ...       ...   \n",
       "4739  0.000845 -0.000738 -0.022735  ...  0.008658 -0.021842 -0.002851   \n",
       "4740  0.005140 -0.001690 -0.004638  ...  0.006907  0.013396 -0.000621   \n",
       "4741 -0.001761  0.000513  0.017848  ...  0.009555  0.003497  0.031669   \n",
       "4742  0.001027  0.003696  0.018033  ... -0.015412 -0.000587  0.006984   \n",
       "4743 -0.000084 -0.065583  0.037984  ...  0.016131  0.023181 -0.001357   \n",
       "\n",
       "            54        55        56        57        58        59  target  \n",
       "0     0.019023 -0.003853  0.014724 -0.006690 -0.007249  0.006258       0  \n",
       "1     0.012919 -0.008502  0.007414  0.009393 -0.011572 -0.001676       1  \n",
       "2    -0.025382  0.017117 -0.024888  0.038374  0.014967 -0.023001       1  \n",
       "3    -0.008946  0.015319 -0.000217 -0.018432  0.001002 -0.005675       0  \n",
       "4    -0.014291 -0.017086 -0.026825 -0.038844  0.000018  0.007438       1  \n",
       "...        ...       ...       ...       ...       ...       ...     ...  \n",
       "4739  0.002322  0.003209 -0.001540  0.001456 -0.009849  0.004548       1  \n",
       "4740  0.000967 -0.002660 -0.008545  0.004890 -0.001214 -0.021541       0  \n",
       "4741 -0.001454 -0.000916 -0.001471  0.006088  0.010810  0.000611       0  \n",
       "4742 -0.003077  0.002365  0.003079  0.000811  0.032243  0.004037       1  \n",
       "4743  0.012377 -0.001389 -0.004562  0.009265 -0.013044  0.006441       1  \n",
       "\n",
       "[4744 rows x 61 columns]"
      ]
     },
     "execution_count": 11,
     "metadata": {},
     "output_type": "execute_result"
    }
   ],
   "source": [
    "bd_red = pd.DataFrame(icabd)\n",
    "bd_red['target'] = bd_target\n",
    "bd_red"
   ]
  },
  {
   "cell_type": "code",
   "execution_count": 12,
   "metadata": {},
   "outputs": [
    {
     "data": {
      "text/plain": [
       "(0        -0.372476\n",
       " 1         9.654527\n",
       " 2        -0.580489\n",
       " 3         2.377085\n",
       " 4         0.996263\n",
       "             ...   \n",
       " 56        3.765570\n",
       " 57        2.193599\n",
       " 58        1.186283\n",
       " 59        1.900186\n",
       " target   -1.999519\n",
       " Length: 61, dtype: float64,\n",
       " 0         1.645228e-08\n",
       " 1         1.804565e-06\n",
       " 2        -4.691716e-08\n",
       " 3         2.732669e-07\n",
       " 4        -6.087856e-07\n",
       "               ...     \n",
       " 56        3.206832e-07\n",
       " 57        1.232890e-06\n",
       " 58        3.362982e-08\n",
       " 59        7.661668e-07\n",
       " target    2.739974e-03\n",
       " Length: 61, dtype: float64,\n",
       " 0         0.000211\n",
       " 1         0.000211\n",
       " 2         0.000211\n",
       " 3         0.000211\n",
       " 4         0.000211\n",
       "             ...   \n",
       " 56        0.000211\n",
       " 57        0.000211\n",
       " 58        0.000211\n",
       " 59        0.000211\n",
       " target    0.249970\n",
       " Length: 61, dtype: float64,\n",
       " 0        -1.290201e-17\n",
       " 1        -3.016793e-17\n",
       " 2         1.073360e-17\n",
       " 3        -5.887218e-17\n",
       " 4        -1.734723e-18\n",
       "               ...     \n",
       " 56        9.920450e-18\n",
       " 57        2.087089e-18\n",
       " 58       -1.846532e-17\n",
       " 59       -1.332213e-17\n",
       " target    4.945194e-01\n",
       " Length: 61, dtype: float64)"
      ]
     },
     "execution_count": 12,
     "metadata": {},
     "output_type": "execute_result"
    }
   ],
   "source": [
    "kurt(bd_red)"
   ]
  },
  {
   "cell_type": "code",
   "execution_count": 13,
   "metadata": {},
   "outputs": [
    {
     "data": {
      "text/plain": [
       "Text(0.5, 1.0, 'BD ICA 2 Components')"
      ]
     },
     "execution_count": 13,
     "metadata": {},
     "output_type": "execute_result"
    },
    {
     "data": {
      "image/png": "[encoded data removed]",
      "text/plain": [
       "<Figure size 432x288 with 1 Axes>"
      ]
     },
     "metadata": {
      "needs_background": "light"
     },
     "output_type": "display_data"
    }
   ],
   "source": [
    "plt.scatter(bd_red.iloc[:, 0], bd_red.iloc[:, 1], c = bd_red['target'])\n",
    "plt.title(\"BD ICA 2 Components\")"
   ]
  },
  {
   "cell_type": "code",
   "execution_count": 14,
   "metadata": {},
   "outputs": [
    {
     "data": {
      "text/plain": [
       "Text(0.5, 0.92, 'BD ICA 3 Components')"
      ]
     },
     "execution_count": 14,
     "metadata": {},
     "output_type": "execute_result"
    },
    {
     "data": {
      "image/png": "[encoded data removed]",
      "text/plain": [
       "<Figure size 432x288 with 1 Axes>"
      ]
     },
     "metadata": {
      "needs_background": "light"
     },
     "output_type": "display_data"
    }
   ],
   "source": [
    "fig = plt.figure()\n",
    "ax = plt.axes(projection='3d')\n",
    "ax.scatter3D(bd_red.iloc[:, 0], bd_red.iloc[:, 1], bd_red.iloc[:, 2],c=bd_red['target'])\n",
    "plt.title(\"BD ICA 3 Components\")"
   ]
  },
  {
   "cell_type": "markdown",
   "metadata": {},
   "source": [
    "### NN with BD ICA"
   ]
  },
  {
   "cell_type": "code",
   "execution_count": 15,
   "metadata": {},
   "outputs": [
    {
     "data": {
      "text/plain": [
       "0         0.046040\n",
       "1         0.095948\n",
       "2         0.039481\n",
       "3         0.061019\n",
       "4         0.063466\n",
       "            ...   \n",
       "56        0.070738\n",
       "57        0.081782\n",
       "58        0.058542\n",
       "59        0.075628\n",
       "target    1.000000\n",
       "Length: 61, dtype: float64"
      ]
     },
     "execution_count": 15,
     "metadata": {},
     "output_type": "execute_result"
    }
   ],
   "source": [
    "# bd_red = bd_red.drop('target', axis=1)\n",
    "\n",
    "bd_red.max(axis=0)"
   ]
  },
  {
   "cell_type": "code",
   "execution_count": 16,
   "metadata": {},
   "outputs": [],
   "source": [
    "trainx, testx, trainy, testy = train_test_split(bd_red, bd_target, test_size=.3, random_state=42)"
   ]
  },
  {
   "cell_type": "code",
   "execution_count": 17,
   "metadata": {},
   "outputs": [],
   "source": [
    "bd_ica_nn = mlrose.NeuralNetwork(hidden_nodes = [6,6], activation = 'relu', algorithm = 'gradient_descent', max_iters = 5000, bias = True, is_classifier = True, learning_rate = 0.0001,\n",
    "early_stopping = True, clip_max = 5, max_attempts = 1000, random_state = 3)"
   ]
  },
  {
   "cell_type": "code",
   "execution_count": 18,
   "metadata": {},
   "outputs": [
    {
     "data": {
      "text/html": [
       "<style>#sk-container-id-1 {color: black;background-color: white;}#sk-container-id-1 pre{padding: 0;}#sk-container-id-1 div.sk-toggleable {background-color: white;}#sk-container-id-1 label.sk-toggleable__label {cursor: pointer;display: block;width: 100%;margin-bottom: 0;padding: 0.3em;box-sizing: border-box;text-align: center;}#sk-container-id-1 label.sk-toggleable__label-arrow:before {content: \"▸\";float: left;margin-right: 0.25em;color: #696969;}#sk-container-id-1 label.sk-toggleable__label-arrow:hover:before {color: black;}#sk-container-id-1 div.sk-estimator:hover label.sk-toggleable__label-arrow:before {color: black;}#sk-container-id-1 div.sk-toggleable__content {max-height: 0;max-width: 0;overflow: hidden;text-align: left;background-color: #f0f8ff;}#sk-container-id-1 div.sk-toggleable__content pre {margin: 0.2em;color: black;border-radius: 0.25em;background-color: #f0f8ff;}#sk-container-id-1 input.sk-toggleable__control:checked~div.sk-toggleable__content {max-height: 200px;max-width: 100%;overflow: auto;}#sk-container-id-1 input.sk-toggleable__control:checked~label.sk-toggleable__label-arrow:before {content: \"▾\";}#sk-container-id-1 div.sk-estimator input.sk-toggleable__control:checked~label.sk-toggleable__label {background-color: #d4ebff;}#sk-container-id-1 div.sk-label input.sk-toggleable__control:checked~label.sk-toggleable__label {background-color: #d4ebff;}#sk-container-id-1 input.sk-hidden--visually {border: 0;clip: rect(1px 1px 1px 1px);clip: rect(1px, 1px, 1px, 1px);height: 1px;margin: -1px;overflow: hidden;padding: 0;position: absolute;width: 1px;}#sk-container-id-1 div.sk-estimator {font-family: monospace;background-color: #f0f8ff;border: 1px dotted black;border-radius: 0.25em;box-sizing: border-box;margin-bottom: 0.5em;}#sk-container-id-1 div.sk-estimator:hover {background-color: #d4ebff;}#sk-container-id-1 div.sk-parallel-item::after {content: \"\";width: 100%;border-bottom: 1px solid gray;flex-grow: 1;}#sk-container-id-1 div.sk-label:hover label.sk-toggleable__label {background-color: #d4ebff;}#sk-container-id-1 div.sk-serial::before {content: \"\";position: absolute;border-left: 1px solid gray;box-sizing: border-box;top: 0;bottom: 0;left: 50%;z-index: 0;}#sk-container-id-1 div.sk-serial {display: flex;flex-direction: column;align-items: center;background-color: white;padding-right: 0.2em;padding-left: 0.2em;position: relative;}#sk-container-id-1 div.sk-item {position: relative;z-index: 1;}#sk-container-id-1 div.sk-parallel {display: flex;align-items: stretch;justify-content: center;background-color: white;position: relative;}#sk-container-id-1 div.sk-item::before, #sk-container-id-1 div.sk-parallel-item::before {content: \"\";position: absolute;border-left: 1px solid gray;box-sizing: border-box;top: 0;bottom: 0;left: 50%;z-index: -1;}#sk-container-id-1 div.sk-parallel-item {display: flex;flex-direction: column;z-index: 1;position: relative;background-color: white;}#sk-container-id-1 div.sk-parallel-item:first-child::after {align-self: flex-end;width: 50%;}#sk-container-id-1 div.sk-parallel-item:last-child::after {align-self: flex-start;width: 50%;}#sk-container-id-1 div.sk-parallel-item:only-child::after {width: 0;}#sk-container-id-1 div.sk-dashed-wrapped {border: 1px dashed gray;margin: 0 0.4em 0.5em 0.4em;box-sizing: border-box;padding-bottom: 0.4em;background-color: white;}#sk-container-id-1 div.sk-label label {font-family: monospace;font-weight: bold;display: inline-block;line-height: 1.2em;}#sk-container-id-1 div.sk-label-container {text-align: center;}#sk-container-id-1 div.sk-container {/* jupyter's `normalize.less` sets `[hidden] { display: none; }` but bootstrap.min.css set `[hidden] { display: none !important; }` so we also need the `!important` here to be able to override the default hidden behavior on the sphinx rendered scikit-learn.org. See: https://github.com/scikit-learn/scikit-learn/issues/21755 */display: inline-block !important;position: relative;}#sk-container-id-1 div.sk-text-repr-fallback {display: none;}</style><div id=\"sk-container-id-1\" class=\"sk-top-container\"><div class=\"sk-text-repr-fallback\"><pre>NeuralNetwork(clip_max=5, early_stopping=True, hidden_nodes=[6, 6],\n",
       "              learning_rate=0.0001, max_iters=5000)</pre><b>In a Jupyter environment, please rerun this cell to show the HTML representation or trust the notebook. <br />On GitHub, the HTML representation is unable to render, please try loading this page with nbviewer.org.</b></div><div class=\"sk-container\" hidden><div class=\"sk-item\"><div class=\"sk-estimator sk-toggleable\"><input class=\"sk-toggleable__control sk-hidden--visually\" id=\"sk-estimator-id-1\" type=\"checkbox\" checked><label for=\"sk-estimator-id-1\" class=\"sk-toggleable__label sk-toggleable__label-arrow\">NeuralNetwork</label><div class=\"sk-toggleable__content\"><pre>NeuralNetwork(clip_max=5, early_stopping=True, hidden_nodes=[6, 6],\n",
       "              learning_rate=0.0001, max_iters=5000)</pre></div></div></div></div></div>"
      ],
      "text/plain": [
       "NeuralNetwork(clip_max=5, early_stopping=True, hidden_nodes=[6, 6],\n",
       "              learning_rate=0.0001, max_iters=5000)"
      ]
     },
     "execution_count": 18,
     "metadata": {},
     "output_type": "execute_result"
    }
   ],
   "source": [
    "bd_ica_nn.fit(trainx,trainy)"
   ]
  },
  {
   "cell_type": "code",
   "execution_count": 19,
   "metadata": {},
   "outputs": [
    {
     "name": "stdout",
     "output_type": "stream",
     "text": [
      "Training accuracy:  1.0\n",
      "Test accuracy:  1.0\n"
     ]
    }
   ],
   "source": [
    "y_train_pred = bd_ica_nn.predict(trainx)\n",
    "\n",
    "y_train_accuracy = accuracy_score(trainy, y_train_pred)\n",
    "\n",
    "print('Training accuracy: ', y_train_accuracy)\n",
    "\n",
    "# Predict labels for test set and assess accuracy\n",
    "y_test_pred = bd_ica_nn.predict(testx)\n",
    "\n",
    "y_test_accuracy = accuracy_score(testy, y_test_pred)\n",
    "\n",
    "print('Test accuracy: ', y_test_accuracy)"
   ]
  },
  {
   "cell_type": "markdown",
   "metadata": {},
   "source": [
    "### Small Data ICA"
   ]
  },
  {
   "cell_type": "code",
   "execution_count": 20,
   "metadata": {},
   "outputs": [
    {
     "name": "stderr",
     "output_type": "stream",
     "text": [
      "C:\\Users\\magamp\\AppData\\Roaming\\Python\\Python38\\site-packages\\sklearn\\decomposition\\_fastica.py:494: FutureWarning: Starting in v1.3, whiten='unit-variance' will be used by default.\n",
      "  warnings.warn(\n",
      "C:\\Users\\magamp\\AppData\\Roaming\\Python\\Python38\\site-packages\\sklearn\\decomposition\\_fastica.py:120: ConvergenceWarning: FastICA did not converge. Consider increasing tolerance or the maximum number of iterations.\n",
      "  warnings.warn(\n"
     ]
    }
   ],
   "source": [
    "icasd = FastICA().fit_transform(sd_num)"
   ]
  },
  {
   "cell_type": "code",
   "execution_count": 21,
   "metadata": {},
   "outputs": [
    {
     "data": {
      "text/html": [
       "<div>\n",
       "<style scoped>\n",
       "    .dataframe tbody tr th:only-of-type {\n",
       "        vertical-align: middle;\n",
       "    }\n",
       "\n",
       "    .dataframe tbody tr th {\n",
       "        vertical-align: top;\n",
       "    }\n",
       "\n",
       "    .dataframe thead th {\n",
       "        text-align: right;\n",
       "    }\n",
       "</style>\n",
       "<table border=\"1\" class=\"dataframe\">\n",
       "  <thead>\n",
       "    <tr style=\"text-align: right;\">\n",
       "      <th></th>\n",
       "      <th>home_elo</th>\n",
       "      <th>away_elo</th>\n",
       "      <th>spread</th>\n",
       "      <th>h_drives</th>\n",
       "      <th>h_d_explosiveness</th>\n",
       "      <th>h_d_successrate</th>\n",
       "      <th>h_d_stuffrate</th>\n",
       "      <th>h_d_totalPPA</th>\n",
       "      <th>h_o_explosiveness</th>\n",
       "      <th>h_o_successrate</th>\n",
       "      <th>h_o_stuffrate</th>\n",
       "      <th>h_o_totalPPA</th>\n",
       "      <th>target</th>\n",
       "    </tr>\n",
       "  </thead>\n",
       "  <tbody>\n",
       "    <tr>\n",
       "      <th>0</th>\n",
       "      <td>-0.002060</td>\n",
       "      <td>0.004017</td>\n",
       "      <td>0.000279</td>\n",
       "      <td>0.016841</td>\n",
       "      <td>-0.025823</td>\n",
       "      <td>-0.049544</td>\n",
       "      <td>0.053073</td>\n",
       "      <td>0.009142</td>\n",
       "      <td>-0.030406</td>\n",
       "      <td>-0.072718</td>\n",
       "      <td>0.036021</td>\n",
       "      <td>-0.018216</td>\n",
       "      <td>1.0</td>\n",
       "    </tr>\n",
       "    <tr>\n",
       "      <th>1</th>\n",
       "      <td>0.016955</td>\n",
       "      <td>-0.112731</td>\n",
       "      <td>0.025059</td>\n",
       "      <td>-0.021510</td>\n",
       "      <td>-0.026816</td>\n",
       "      <td>-0.022133</td>\n",
       "      <td>0.036774</td>\n",
       "      <td>-0.021203</td>\n",
       "      <td>0.071892</td>\n",
       "      <td>-0.022271</td>\n",
       "      <td>-0.005581</td>\n",
       "      <td>-0.019293</td>\n",
       "      <td>1.0</td>\n",
       "    </tr>\n",
       "    <tr>\n",
       "      <th>2</th>\n",
       "      <td>0.010769</td>\n",
       "      <td>0.029323</td>\n",
       "      <td>-0.070987</td>\n",
       "      <td>0.048590</td>\n",
       "      <td>0.024828</td>\n",
       "      <td>0.064361</td>\n",
       "      <td>-0.011390</td>\n",
       "      <td>-0.004466</td>\n",
       "      <td>0.002608</td>\n",
       "      <td>0.036984</td>\n",
       "      <td>0.005451</td>\n",
       "      <td>-0.060105</td>\n",
       "      <td>0.0</td>\n",
       "    </tr>\n",
       "    <tr>\n",
       "      <th>3</th>\n",
       "      <td>-0.021201</td>\n",
       "      <td>-0.005416</td>\n",
       "      <td>-0.032742</td>\n",
       "      <td>0.004604</td>\n",
       "      <td>0.000025</td>\n",
       "      <td>0.050453</td>\n",
       "      <td>0.030760</td>\n",
       "      <td>0.021983</td>\n",
       "      <td>-0.041110</td>\n",
       "      <td>0.070871</td>\n",
       "      <td>-0.026444</td>\n",
       "      <td>0.070660</td>\n",
       "      <td>0.0</td>\n",
       "    </tr>\n",
       "    <tr>\n",
       "      <th>4</th>\n",
       "      <td>0.018099</td>\n",
       "      <td>-0.049493</td>\n",
       "      <td>-0.028268</td>\n",
       "      <td>-0.049422</td>\n",
       "      <td>-0.025216</td>\n",
       "      <td>-0.006442</td>\n",
       "      <td>0.036730</td>\n",
       "      <td>0.020532</td>\n",
       "      <td>0.019121</td>\n",
       "      <td>0.048430</td>\n",
       "      <td>-0.000314</td>\n",
       "      <td>0.081891</td>\n",
       "      <td>0.0</td>\n",
       "    </tr>\n",
       "    <tr>\n",
       "      <th>...</th>\n",
       "      <td>...</td>\n",
       "      <td>...</td>\n",
       "      <td>...</td>\n",
       "      <td>...</td>\n",
       "      <td>...</td>\n",
       "      <td>...</td>\n",
       "      <td>...</td>\n",
       "      <td>...</td>\n",
       "      <td>...</td>\n",
       "      <td>...</td>\n",
       "      <td>...</td>\n",
       "      <td>...</td>\n",
       "      <td>...</td>\n",
       "    </tr>\n",
       "    <tr>\n",
       "      <th>452</th>\n",
       "      <td>-0.008019</td>\n",
       "      <td>-0.022930</td>\n",
       "      <td>-0.015796</td>\n",
       "      <td>0.017569</td>\n",
       "      <td>0.020773</td>\n",
       "      <td>-0.048307</td>\n",
       "      <td>-0.017238</td>\n",
       "      <td>-0.138943</td>\n",
       "      <td>0.049544</td>\n",
       "      <td>0.018865</td>\n",
       "      <td>-0.061320</td>\n",
       "      <td>-0.037239</td>\n",
       "      <td>0.0</td>\n",
       "    </tr>\n",
       "    <tr>\n",
       "      <th>453</th>\n",
       "      <td>-0.021927</td>\n",
       "      <td>0.016181</td>\n",
       "      <td>-0.016956</td>\n",
       "      <td>-0.001722</td>\n",
       "      <td>0.131413</td>\n",
       "      <td>-0.042793</td>\n",
       "      <td>-0.003202</td>\n",
       "      <td>-0.022887</td>\n",
       "      <td>-0.017881</td>\n",
       "      <td>0.058587</td>\n",
       "      <td>-0.021931</td>\n",
       "      <td>-0.013525</td>\n",
       "      <td>1.0</td>\n",
       "    </tr>\n",
       "    <tr>\n",
       "      <th>454</th>\n",
       "      <td>0.008558</td>\n",
       "      <td>0.015158</td>\n",
       "      <td>-0.023538</td>\n",
       "      <td>-0.014499</td>\n",
       "      <td>-0.027155</td>\n",
       "      <td>0.007636</td>\n",
       "      <td>0.062029</td>\n",
       "      <td>-0.011034</td>\n",
       "      <td>-0.055229</td>\n",
       "      <td>-0.011337</td>\n",
       "      <td>0.035834</td>\n",
       "      <td>0.026150</td>\n",
       "      <td>0.0</td>\n",
       "    </tr>\n",
       "    <tr>\n",
       "      <th>455</th>\n",
       "      <td>-0.014774</td>\n",
       "      <td>-0.028599</td>\n",
       "      <td>-0.061545</td>\n",
       "      <td>-0.074516</td>\n",
       "      <td>0.049699</td>\n",
       "      <td>0.006969</td>\n",
       "      <td>0.029811</td>\n",
       "      <td>0.005183</td>\n",
       "      <td>0.023281</td>\n",
       "      <td>-0.000151</td>\n",
       "      <td>0.064194</td>\n",
       "      <td>-0.051680</td>\n",
       "      <td>1.0</td>\n",
       "    </tr>\n",
       "    <tr>\n",
       "      <th>456</th>\n",
       "      <td>-0.007405</td>\n",
       "      <td>-0.059823</td>\n",
       "      <td>0.041597</td>\n",
       "      <td>0.055352</td>\n",
       "      <td>-0.081984</td>\n",
       "      <td>-0.052810</td>\n",
       "      <td>0.010421</td>\n",
       "      <td>-0.004610</td>\n",
       "      <td>0.021137</td>\n",
       "      <td>0.011417</td>\n",
       "      <td>0.044460</td>\n",
       "      <td>0.034958</td>\n",
       "      <td>0.0</td>\n",
       "    </tr>\n",
       "  </tbody>\n",
       "</table>\n",
       "<p>457 rows × 13 columns</p>\n",
       "</div>"
      ],
      "text/plain": [
       "     home_elo  away_elo    spread  h_drives  h_d_explosiveness  \\\n",
       "0   -0.002060  0.004017  0.000279  0.016841          -0.025823   \n",
       "1    0.016955 -0.112731  0.025059 -0.021510          -0.026816   \n",
       "2    0.010769  0.029323 -0.070987  0.048590           0.024828   \n",
       "3   -0.021201 -0.005416 -0.032742  0.004604           0.000025   \n",
       "4    0.018099 -0.049493 -0.028268 -0.049422          -0.025216   \n",
       "..        ...       ...       ...       ...                ...   \n",
       "452 -0.008019 -0.022930 -0.015796  0.017569           0.020773   \n",
       "453 -0.021927  0.016181 -0.016956 -0.001722           0.131413   \n",
       "454  0.008558  0.015158 -0.023538 -0.014499          -0.027155   \n",
       "455 -0.014774 -0.028599 -0.061545 -0.074516           0.049699   \n",
       "456 -0.007405 -0.059823  0.041597  0.055352          -0.081984   \n",
       "\n",
       "     h_d_successrate  h_d_stuffrate  h_d_totalPPA  h_o_explosiveness  \\\n",
       "0          -0.049544       0.053073      0.009142          -0.030406   \n",
       "1          -0.022133       0.036774     -0.021203           0.071892   \n",
       "2           0.064361      -0.011390     -0.004466           0.002608   \n",
       "3           0.050453       0.030760      0.021983          -0.041110   \n",
       "4          -0.006442       0.036730      0.020532           0.019121   \n",
       "..               ...            ...           ...                ...   \n",
       "452        -0.048307      -0.017238     -0.138943           0.049544   \n",
       "453        -0.042793      -0.003202     -0.022887          -0.017881   \n",
       "454         0.007636       0.062029     -0.011034          -0.055229   \n",
       "455         0.006969       0.029811      0.005183           0.023281   \n",
       "456        -0.052810       0.010421     -0.004610           0.021137   \n",
       "\n",
       "     h_o_successrate  h_o_stuffrate  h_o_totalPPA  target  \n",
       "0          -0.072718       0.036021     -0.018216     1.0  \n",
       "1          -0.022271      -0.005581     -0.019293     1.0  \n",
       "2           0.036984       0.005451     -0.060105     0.0  \n",
       "3           0.070871      -0.026444      0.070660     0.0  \n",
       "4           0.048430      -0.000314      0.081891     0.0  \n",
       "..               ...            ...           ...     ...  \n",
       "452         0.018865      -0.061320     -0.037239     0.0  \n",
       "453         0.058587      -0.021931     -0.013525     1.0  \n",
       "454        -0.011337       0.035834      0.026150     0.0  \n",
       "455        -0.000151       0.064194     -0.051680     1.0  \n",
       "456         0.011417       0.044460      0.034958     0.0  \n",
       "\n",
       "[457 rows x 13 columns]"
      ]
     },
     "execution_count": 21,
     "metadata": {},
     "output_type": "execute_result"
    }
   ],
   "source": [
    "sd_red = pd.DataFrame(icasd, columns=sd_num.columns)\n",
    "sd_red['target'] = sd_target\n",
    "sd_red"
   ]
  },
  {
   "cell_type": "code",
   "execution_count": 22,
   "metadata": {},
   "outputs": [
    {
     "data": {
      "text/plain": [
       "<matplotlib.collections.PathCollection at 0x1db8f5edd30>"
      ]
     },
     "execution_count": 22,
     "metadata": {},
     "output_type": "execute_result"
    },
    {
     "data": {
      "image/png": "[encoded data removed]",
      "text/plain": [
       "<Figure size 432x288 with 1 Axes>"
      ]
     },
     "metadata": {
      "needs_background": "light"
     },
     "output_type": "display_data"
    }
   ],
   "source": [
    "plt.scatter(sd_red.iloc[:, 0], sd_red.iloc[:, 1], c = sd_red['target'])"
   ]
  },
  {
   "cell_type": "code",
   "execution_count": 23,
   "metadata": {},
   "outputs": [
    {
     "data": {
      "text/plain": [
       "<mpl_toolkits.mplot3d.art3d.Path3DCollection at 0x1db93669ca0>"
      ]
     },
     "execution_count": 23,
     "metadata": {},
     "output_type": "execute_result"
    },
    {
     "data": {
      "image/png": "[encoded data removed]",
      "text/plain": [
       "<Figure size 432x288 with 1 Axes>"
      ]
     },
     "metadata": {
      "needs_background": "light"
     },
     "output_type": "display_data"
    }
   ],
   "source": [
    "fig = plt.figure()\n",
    "ax = plt.axes(projection='3d')\n",
    "ax.scatter3D(sd_red.iloc[:, 0], sd_red.iloc[:, 1], sd_red.iloc[:, 2],c=sd_red['target'])"
   ]
  },
  {
   "cell_type": "markdown",
   "metadata": {},
   "source": [
    "### Small Data ICA NN"
   ]
  },
  {
   "cell_type": "code",
   "execution_count": 24,
   "metadata": {},
   "outputs": [
    {
     "data": {
      "text/html": [
       "<div>\n",
       "<style scoped>\n",
       "    .dataframe tbody tr th:only-of-type {\n",
       "        vertical-align: middle;\n",
       "    }\n",
       "\n",
       "    .dataframe tbody tr th {\n",
       "        vertical-align: top;\n",
       "    }\n",
       "\n",
       "    .dataframe thead th {\n",
       "        text-align: right;\n",
       "    }\n",
       "</style>\n",
       "<table border=\"1\" class=\"dataframe\">\n",
       "  <thead>\n",
       "    <tr style=\"text-align: right;\">\n",
       "      <th></th>\n",
       "      <th>home_elo</th>\n",
       "      <th>away_elo</th>\n",
       "      <th>spread</th>\n",
       "      <th>h_drives</th>\n",
       "      <th>h_d_explosiveness</th>\n",
       "      <th>h_d_successrate</th>\n",
       "      <th>h_d_stuffrate</th>\n",
       "      <th>h_d_totalPPA</th>\n",
       "      <th>h_o_explosiveness</th>\n",
       "      <th>h_o_successrate</th>\n",
       "      <th>h_o_stuffrate</th>\n",
       "      <th>h_o_totalPPA</th>\n",
       "    </tr>\n",
       "  </thead>\n",
       "  <tbody>\n",
       "    <tr>\n",
       "      <th>0</th>\n",
       "      <td>-0.002060</td>\n",
       "      <td>0.004017</td>\n",
       "      <td>0.000279</td>\n",
       "      <td>0.016841</td>\n",
       "      <td>-0.025823</td>\n",
       "      <td>-0.049544</td>\n",
       "      <td>0.053073</td>\n",
       "      <td>0.009142</td>\n",
       "      <td>-0.030406</td>\n",
       "      <td>-0.072718</td>\n",
       "      <td>0.036021</td>\n",
       "      <td>-0.018216</td>\n",
       "    </tr>\n",
       "    <tr>\n",
       "      <th>1</th>\n",
       "      <td>0.016955</td>\n",
       "      <td>-0.112731</td>\n",
       "      <td>0.025059</td>\n",
       "      <td>-0.021510</td>\n",
       "      <td>-0.026816</td>\n",
       "      <td>-0.022133</td>\n",
       "      <td>0.036774</td>\n",
       "      <td>-0.021203</td>\n",
       "      <td>0.071892</td>\n",
       "      <td>-0.022271</td>\n",
       "      <td>-0.005581</td>\n",
       "      <td>-0.019293</td>\n",
       "    </tr>\n",
       "    <tr>\n",
       "      <th>2</th>\n",
       "      <td>0.010769</td>\n",
       "      <td>0.029323</td>\n",
       "      <td>-0.070987</td>\n",
       "      <td>0.048590</td>\n",
       "      <td>0.024828</td>\n",
       "      <td>0.064361</td>\n",
       "      <td>-0.011390</td>\n",
       "      <td>-0.004466</td>\n",
       "      <td>0.002608</td>\n",
       "      <td>0.036984</td>\n",
       "      <td>0.005451</td>\n",
       "      <td>-0.060105</td>\n",
       "    </tr>\n",
       "    <tr>\n",
       "      <th>3</th>\n",
       "      <td>-0.021201</td>\n",
       "      <td>-0.005416</td>\n",
       "      <td>-0.032742</td>\n",
       "      <td>0.004604</td>\n",
       "      <td>0.000025</td>\n",
       "      <td>0.050453</td>\n",
       "      <td>0.030760</td>\n",
       "      <td>0.021983</td>\n",
       "      <td>-0.041110</td>\n",
       "      <td>0.070871</td>\n",
       "      <td>-0.026444</td>\n",
       "      <td>0.070660</td>\n",
       "    </tr>\n",
       "    <tr>\n",
       "      <th>4</th>\n",
       "      <td>0.018099</td>\n",
       "      <td>-0.049493</td>\n",
       "      <td>-0.028268</td>\n",
       "      <td>-0.049422</td>\n",
       "      <td>-0.025216</td>\n",
       "      <td>-0.006442</td>\n",
       "      <td>0.036730</td>\n",
       "      <td>0.020532</td>\n",
       "      <td>0.019121</td>\n",
       "      <td>0.048430</td>\n",
       "      <td>-0.000314</td>\n",
       "      <td>0.081891</td>\n",
       "    </tr>\n",
       "    <tr>\n",
       "      <th>...</th>\n",
       "      <td>...</td>\n",
       "      <td>...</td>\n",
       "      <td>...</td>\n",
       "      <td>...</td>\n",
       "      <td>...</td>\n",
       "      <td>...</td>\n",
       "      <td>...</td>\n",
       "      <td>...</td>\n",
       "      <td>...</td>\n",
       "      <td>...</td>\n",
       "      <td>...</td>\n",
       "      <td>...</td>\n",
       "    </tr>\n",
       "    <tr>\n",
       "      <th>452</th>\n",
       "      <td>-0.008019</td>\n",
       "      <td>-0.022930</td>\n",
       "      <td>-0.015796</td>\n",
       "      <td>0.017569</td>\n",
       "      <td>0.020773</td>\n",
       "      <td>-0.048307</td>\n",
       "      <td>-0.017238</td>\n",
       "      <td>-0.138943</td>\n",
       "      <td>0.049544</td>\n",
       "      <td>0.018865</td>\n",
       "      <td>-0.061320</td>\n",
       "      <td>-0.037239</td>\n",
       "    </tr>\n",
       "    <tr>\n",
       "      <th>453</th>\n",
       "      <td>-0.021927</td>\n",
       "      <td>0.016181</td>\n",
       "      <td>-0.016956</td>\n",
       "      <td>-0.001722</td>\n",
       "      <td>0.131413</td>\n",
       "      <td>-0.042793</td>\n",
       "      <td>-0.003202</td>\n",
       "      <td>-0.022887</td>\n",
       "      <td>-0.017881</td>\n",
       "      <td>0.058587</td>\n",
       "      <td>-0.021931</td>\n",
       "      <td>-0.013525</td>\n",
       "    </tr>\n",
       "    <tr>\n",
       "      <th>454</th>\n",
       "      <td>0.008558</td>\n",
       "      <td>0.015158</td>\n",
       "      <td>-0.023538</td>\n",
       "      <td>-0.014499</td>\n",
       "      <td>-0.027155</td>\n",
       "      <td>0.007636</td>\n",
       "      <td>0.062029</td>\n",
       "      <td>-0.011034</td>\n",
       "      <td>-0.055229</td>\n",
       "      <td>-0.011337</td>\n",
       "      <td>0.035834</td>\n",
       "      <td>0.026150</td>\n",
       "    </tr>\n",
       "    <tr>\n",
       "      <th>455</th>\n",
       "      <td>-0.014774</td>\n",
       "      <td>-0.028599</td>\n",
       "      <td>-0.061545</td>\n",
       "      <td>-0.074516</td>\n",
       "      <td>0.049699</td>\n",
       "      <td>0.006969</td>\n",
       "      <td>0.029811</td>\n",
       "      <td>0.005183</td>\n",
       "      <td>0.023281</td>\n",
       "      <td>-0.000151</td>\n",
       "      <td>0.064194</td>\n",
       "      <td>-0.051680</td>\n",
       "    </tr>\n",
       "    <tr>\n",
       "      <th>456</th>\n",
       "      <td>-0.007405</td>\n",
       "      <td>-0.059823</td>\n",
       "      <td>0.041597</td>\n",
       "      <td>0.055352</td>\n",
       "      <td>-0.081984</td>\n",
       "      <td>-0.052810</td>\n",
       "      <td>0.010421</td>\n",
       "      <td>-0.004610</td>\n",
       "      <td>0.021137</td>\n",
       "      <td>0.011417</td>\n",
       "      <td>0.044460</td>\n",
       "      <td>0.034958</td>\n",
       "    </tr>\n",
       "  </tbody>\n",
       "</table>\n",
       "<p>457 rows × 12 columns</p>\n",
       "</div>"
      ],
      "text/plain": [
       "     home_elo  away_elo    spread  h_drives  h_d_explosiveness  \\\n",
       "0   -0.002060  0.004017  0.000279  0.016841          -0.025823   \n",
       "1    0.016955 -0.112731  0.025059 -0.021510          -0.026816   \n",
       "2    0.010769  0.029323 -0.070987  0.048590           0.024828   \n",
       "3   -0.021201 -0.005416 -0.032742  0.004604           0.000025   \n",
       "4    0.018099 -0.049493 -0.028268 -0.049422          -0.025216   \n",
       "..        ...       ...       ...       ...                ...   \n",
       "452 -0.008019 -0.022930 -0.015796  0.017569           0.020773   \n",
       "453 -0.021927  0.016181 -0.016956 -0.001722           0.131413   \n",
       "454  0.008558  0.015158 -0.023538 -0.014499          -0.027155   \n",
       "455 -0.014774 -0.028599 -0.061545 -0.074516           0.049699   \n",
       "456 -0.007405 -0.059823  0.041597  0.055352          -0.081984   \n",
       "\n",
       "     h_d_successrate  h_d_stuffrate  h_d_totalPPA  h_o_explosiveness  \\\n",
       "0          -0.049544       0.053073      0.009142          -0.030406   \n",
       "1          -0.022133       0.036774     -0.021203           0.071892   \n",
       "2           0.064361      -0.011390     -0.004466           0.002608   \n",
       "3           0.050453       0.030760      0.021983          -0.041110   \n",
       "4          -0.006442       0.036730      0.020532           0.019121   \n",
       "..               ...            ...           ...                ...   \n",
       "452        -0.048307      -0.017238     -0.138943           0.049544   \n",
       "453        -0.042793      -0.003202     -0.022887          -0.017881   \n",
       "454         0.007636       0.062029     -0.011034          -0.055229   \n",
       "455         0.006969       0.029811      0.005183           0.023281   \n",
       "456        -0.052810       0.010421     -0.004610           0.021137   \n",
       "\n",
       "     h_o_successrate  h_o_stuffrate  h_o_totalPPA  \n",
       "0          -0.072718       0.036021     -0.018216  \n",
       "1          -0.022271      -0.005581     -0.019293  \n",
       "2           0.036984       0.005451     -0.060105  \n",
       "3           0.070871      -0.026444      0.070660  \n",
       "4           0.048430      -0.000314      0.081891  \n",
       "..               ...            ...           ...  \n",
       "452         0.018865      -0.061320     -0.037239  \n",
       "453         0.058587      -0.021931     -0.013525  \n",
       "454        -0.011337       0.035834      0.026150  \n",
       "455        -0.000151       0.064194     -0.051680  \n",
       "456         0.011417       0.044460      0.034958  \n",
       "\n",
       "[457 rows x 12 columns]"
      ]
     },
     "execution_count": 24,
     "metadata": {},
     "output_type": "execute_result"
    }
   ],
   "source": [
    "sd_red = sd_red.drop('target', axis=1)\n",
    "sd_red"
   ]
  },
  {
   "cell_type": "code",
   "execution_count": 25,
   "metadata": {},
   "outputs": [],
   "source": [
    "trainx, testx, trainy, testy = train_test_split(sd_red, sd_target, test_size=.3, random_state=42)"
   ]
  },
  {
   "cell_type": "code",
   "execution_count": 26,
   "metadata": {},
   "outputs": [],
   "source": [
    "sd_ica_nn = mlrose.NeuralNetwork(hidden_nodes = [6,6], activation = 'relu', algorithm = 'gradient_descent', max_iters = 5000, bias = True, is_classifier = True, learning_rate = 0.0001,\n",
    "early_stopping = True, clip_max = 5, max_attempts = 1000, random_state = 3)"
   ]
  },
  {
   "cell_type": "code",
   "execution_count": 27,
   "metadata": {},
   "outputs": [
    {
     "data": {
      "text/html": [
       "<style>#sk-container-id-2 {color: black;background-color: white;}#sk-container-id-2 pre{padding: 0;}#sk-container-id-2 div.sk-toggleable {background-color: white;}#sk-container-id-2 label.sk-toggleable__label {cursor: pointer;display: block;width: 100%;margin-bottom: 0;padding: 0.3em;box-sizing: border-box;text-align: center;}#sk-container-id-2 label.sk-toggleable__label-arrow:before {content: \"▸\";float: left;margin-right: 0.25em;color: #696969;}#sk-container-id-2 label.sk-toggleable__label-arrow:hover:before {color: black;}#sk-container-id-2 div.sk-estimator:hover label.sk-toggleable__label-arrow:before {color: black;}#sk-container-id-2 div.sk-toggleable__content {max-height: 0;max-width: 0;overflow: hidden;text-align: left;background-color: #f0f8ff;}#sk-container-id-2 div.sk-toggleable__content pre {margin: 0.2em;color: black;border-radius: 0.25em;background-color: #f0f8ff;}#sk-container-id-2 input.sk-toggleable__control:checked~div.sk-toggleable__content {max-height: 200px;max-width: 100%;overflow: auto;}#sk-container-id-2 input.sk-toggleable__control:checked~label.sk-toggleable__label-arrow:before {content: \"▾\";}#sk-container-id-2 div.sk-estimator input.sk-toggleable__control:checked~label.sk-toggleable__label {background-color: #d4ebff;}#sk-container-id-2 div.sk-label input.sk-toggleable__control:checked~label.sk-toggleable__label {background-color: #d4ebff;}#sk-container-id-2 input.sk-hidden--visually {border: 0;clip: rect(1px 1px 1px 1px);clip: rect(1px, 1px, 1px, 1px);height: 1px;margin: -1px;overflow: hidden;padding: 0;position: absolute;width: 1px;}#sk-container-id-2 div.sk-estimator {font-family: monospace;background-color: #f0f8ff;border: 1px dotted black;border-radius: 0.25em;box-sizing: border-box;margin-bottom: 0.5em;}#sk-container-id-2 div.sk-estimator:hover {background-color: #d4ebff;}#sk-container-id-2 div.sk-parallel-item::after {content: \"\";width: 100%;border-bottom: 1px solid gray;flex-grow: 1;}#sk-container-id-2 div.sk-label:hover label.sk-toggleable__label {background-color: #d4ebff;}#sk-container-id-2 div.sk-serial::before {content: \"\";position: absolute;border-left: 1px solid gray;box-sizing: border-box;top: 0;bottom: 0;left: 50%;z-index: 0;}#sk-container-id-2 div.sk-serial {display: flex;flex-direction: column;align-items: center;background-color: white;padding-right: 0.2em;padding-left: 0.2em;position: relative;}#sk-container-id-2 div.sk-item {position: relative;z-index: 1;}#sk-container-id-2 div.sk-parallel {display: flex;align-items: stretch;justify-content: center;background-color: white;position: relative;}#sk-container-id-2 div.sk-item::before, #sk-container-id-2 div.sk-parallel-item::before {content: \"\";position: absolute;border-left: 1px solid gray;box-sizing: border-box;top: 0;bottom: 0;left: 50%;z-index: -1;}#sk-container-id-2 div.sk-parallel-item {display: flex;flex-direction: column;z-index: 1;position: relative;background-color: white;}#sk-container-id-2 div.sk-parallel-item:first-child::after {align-self: flex-end;width: 50%;}#sk-container-id-2 div.sk-parallel-item:last-child::after {align-self: flex-start;width: 50%;}#sk-container-id-2 div.sk-parallel-item:only-child::after {width: 0;}#sk-container-id-2 div.sk-dashed-wrapped {border: 1px dashed gray;margin: 0 0.4em 0.5em 0.4em;box-sizing: border-box;padding-bottom: 0.4em;background-color: white;}#sk-container-id-2 div.sk-label label {font-family: monospace;font-weight: bold;display: inline-block;line-height: 1.2em;}#sk-container-id-2 div.sk-label-container {text-align: center;}#sk-container-id-2 div.sk-container {/* jupyter's `normalize.less` sets `[hidden] { display: none; }` but bootstrap.min.css set `[hidden] { display: none !important; }` so we also need the `!important` here to be able to override the default hidden behavior on the sphinx rendered scikit-learn.org. See: https://github.com/scikit-learn/scikit-learn/issues/21755 */display: inline-block !important;position: relative;}#sk-container-id-2 div.sk-text-repr-fallback {display: none;}</style><div id=\"sk-container-id-2\" class=\"sk-top-container\"><div class=\"sk-text-repr-fallback\"><pre>NeuralNetwork(clip_max=5, early_stopping=True, hidden_nodes=[6, 6],\n",
       "              learning_rate=0.0001, max_iters=5000)</pre><b>In a Jupyter environment, please rerun this cell to show the HTML representation or trust the notebook. <br />On GitHub, the HTML representation is unable to render, please try loading this page with nbviewer.org.</b></div><div class=\"sk-container\" hidden><div class=\"sk-item\"><div class=\"sk-estimator sk-toggleable\"><input class=\"sk-toggleable__control sk-hidden--visually\" id=\"sk-estimator-id-2\" type=\"checkbox\" checked><label for=\"sk-estimator-id-2\" class=\"sk-toggleable__label sk-toggleable__label-arrow\">NeuralNetwork</label><div class=\"sk-toggleable__content\"><pre>NeuralNetwork(clip_max=5, early_stopping=True, hidden_nodes=[6, 6],\n",
       "              learning_rate=0.0001, max_iters=5000)</pre></div></div></div></div></div>"
      ],
      "text/plain": [
       "NeuralNetwork(clip_max=5, early_stopping=True, hidden_nodes=[6, 6],\n",
       "              learning_rate=0.0001, max_iters=5000)"
      ]
     },
     "execution_count": 27,
     "metadata": {},
     "output_type": "execute_result"
    }
   ],
   "source": [
    "sd_ica_nn.fit(trainx,trainy)"
   ]
  },
  {
   "cell_type": "code",
   "execution_count": 28,
   "metadata": {},
   "outputs": [
    {
     "name": "stdout",
     "output_type": "stream",
     "text": [
      "Training accuracy:  0.5078369905956113\n",
      "Test accuracy:  0.4855072463768116\n"
     ]
    }
   ],
   "source": [
    "y_train_pred = sd_ica_nn.predict(trainx)\n",
    "\n",
    "y_train_accuracy = accuracy_score(trainy, y_train_pred)\n",
    "\n",
    "print('Training accuracy: ', y_train_accuracy)\n",
    "\n",
    "# Predict labels for test set and assess accuracy\n",
    "y_test_pred = sd_ica_nn.predict(testx)\n",
    "\n",
    "y_test_accuracy = accuracy_score(testy, y_test_pred)\n",
    "\n",
    "print('Test accuracy: ', y_test_accuracy)"
   ]
  },
  {
   "cell_type": "markdown",
   "metadata": {},
   "source": [
    "## Now cluster the new ICA feutre sets"
   ]
  },
  {
   "cell_type": "markdown",
   "metadata": {},
   "source": [
    "### Big Data ICA K means"
   ]
  },
  {
   "cell_type": "code",
   "execution_count": 29,
   "metadata": {},
   "outputs": [
    {
     "data": {
      "text/html": [
       "<div>\n",
       "<style scoped>\n",
       "    .dataframe tbody tr th:only-of-type {\n",
       "        vertical-align: middle;\n",
       "    }\n",
       "\n",
       "    .dataframe tbody tr th {\n",
       "        vertical-align: top;\n",
       "    }\n",
       "\n",
       "    .dataframe thead th {\n",
       "        text-align: right;\n",
       "    }\n",
       "</style>\n",
       "<table border=\"1\" class=\"dataframe\">\n",
       "  <thead>\n",
       "    <tr style=\"text-align: right;\">\n",
       "      <th></th>\n",
       "      <th>0</th>\n",
       "      <th>1</th>\n",
       "      <th>2</th>\n",
       "      <th>3</th>\n",
       "      <th>4</th>\n",
       "      <th>5</th>\n",
       "      <th>6</th>\n",
       "      <th>7</th>\n",
       "      <th>8</th>\n",
       "      <th>9</th>\n",
       "      <th>...</th>\n",
       "      <th>51</th>\n",
       "      <th>52</th>\n",
       "      <th>53</th>\n",
       "      <th>54</th>\n",
       "      <th>55</th>\n",
       "      <th>56</th>\n",
       "      <th>57</th>\n",
       "      <th>58</th>\n",
       "      <th>59</th>\n",
       "      <th>target</th>\n",
       "    </tr>\n",
       "  </thead>\n",
       "  <tbody>\n",
       "    <tr>\n",
       "      <th>0</th>\n",
       "      <td>-0.032741</td>\n",
       "      <td>-0.029696</td>\n",
       "      <td>-0.009417</td>\n",
       "      <td>-0.015568</td>\n",
       "      <td>0.003039</td>\n",
       "      <td>0.015795</td>\n",
       "      <td>-0.003581</td>\n",
       "      <td>0.020526</td>\n",
       "      <td>0.017737</td>\n",
       "      <td>-0.008509</td>\n",
       "      <td>...</td>\n",
       "      <td>0.010657</td>\n",
       "      <td>0.006026</td>\n",
       "      <td>0.031277</td>\n",
       "      <td>0.019023</td>\n",
       "      <td>-0.003853</td>\n",
       "      <td>0.014724</td>\n",
       "      <td>-0.006690</td>\n",
       "      <td>-0.007249</td>\n",
       "      <td>0.006258</td>\n",
       "      <td>0</td>\n",
       "    </tr>\n",
       "    <tr>\n",
       "      <th>1</th>\n",
       "      <td>0.008823</td>\n",
       "      <td>-0.010826</td>\n",
       "      <td>0.017925</td>\n",
       "      <td>-0.010772</td>\n",
       "      <td>0.010337</td>\n",
       "      <td>-0.013395</td>\n",
       "      <td>0.022177</td>\n",
       "      <td>0.012704</td>\n",
       "      <td>-0.004884</td>\n",
       "      <td>-0.000965</td>\n",
       "      <td>...</td>\n",
       "      <td>0.001278</td>\n",
       "      <td>-0.002426</td>\n",
       "      <td>0.066311</td>\n",
       "      <td>0.012919</td>\n",
       "      <td>-0.008502</td>\n",
       "      <td>0.007414</td>\n",
       "      <td>0.009393</td>\n",
       "      <td>-0.011572</td>\n",
       "      <td>-0.001676</td>\n",
       "      <td>1</td>\n",
       "    </tr>\n",
       "    <tr>\n",
       "      <th>2</th>\n",
       "      <td>0.021890</td>\n",
       "      <td>0.000427</td>\n",
       "      <td>-0.018069</td>\n",
       "      <td>0.018598</td>\n",
       "      <td>0.003986</td>\n",
       "      <td>0.011694</td>\n",
       "      <td>-0.000854</td>\n",
       "      <td>-0.045140</td>\n",
       "      <td>0.008344</td>\n",
       "      <td>0.016117</td>\n",
       "      <td>...</td>\n",
       "      <td>-0.019316</td>\n",
       "      <td>0.004051</td>\n",
       "      <td>0.009930</td>\n",
       "      <td>-0.025382</td>\n",
       "      <td>0.017117</td>\n",
       "      <td>-0.024888</td>\n",
       "      <td>0.038374</td>\n",
       "      <td>0.014967</td>\n",
       "      <td>-0.023001</td>\n",
       "      <td>1</td>\n",
       "    </tr>\n",
       "    <tr>\n",
       "      <th>3</th>\n",
       "      <td>0.014305</td>\n",
       "      <td>-0.005278</td>\n",
       "      <td>-0.009769</td>\n",
       "      <td>-0.004266</td>\n",
       "      <td>-0.027834</td>\n",
       "      <td>0.006554</td>\n",
       "      <td>0.002006</td>\n",
       "      <td>0.035002</td>\n",
       "      <td>0.007302</td>\n",
       "      <td>-0.000774</td>\n",
       "      <td>...</td>\n",
       "      <td>-0.007552</td>\n",
       "      <td>-0.000267</td>\n",
       "      <td>-0.008885</td>\n",
       "      <td>-0.008946</td>\n",
       "      <td>0.015319</td>\n",
       "      <td>-0.000217</td>\n",
       "      <td>-0.018432</td>\n",
       "      <td>0.001002</td>\n",
       "      <td>-0.005675</td>\n",
       "      <td>0</td>\n",
       "    </tr>\n",
       "    <tr>\n",
       "      <th>4</th>\n",
       "      <td>0.021521</td>\n",
       "      <td>-0.024073</td>\n",
       "      <td>-0.019067</td>\n",
       "      <td>-0.045718</td>\n",
       "      <td>-0.002457</td>\n",
       "      <td>-0.011547</td>\n",
       "      <td>0.000898</td>\n",
       "      <td>-0.007672</td>\n",
       "      <td>0.004839</td>\n",
       "      <td>0.008163</td>\n",
       "      <td>...</td>\n",
       "      <td>-0.010666</td>\n",
       "      <td>0.008289</td>\n",
       "      <td>0.019424</td>\n",
       "      <td>-0.014291</td>\n",
       "      <td>-0.017086</td>\n",
       "      <td>-0.026825</td>\n",
       "      <td>-0.038844</td>\n",
       "      <td>0.000018</td>\n",
       "      <td>0.007438</td>\n",
       "      <td>1</td>\n",
       "    </tr>\n",
       "    <tr>\n",
       "      <th>...</th>\n",
       "      <td>...</td>\n",
       "      <td>...</td>\n",
       "      <td>...</td>\n",
       "      <td>...</td>\n",
       "      <td>...</td>\n",
       "      <td>...</td>\n",
       "      <td>...</td>\n",
       "      <td>...</td>\n",
       "      <td>...</td>\n",
       "      <td>...</td>\n",
       "      <td>...</td>\n",
       "      <td>...</td>\n",
       "      <td>...</td>\n",
       "      <td>...</td>\n",
       "      <td>...</td>\n",
       "      <td>...</td>\n",
       "      <td>...</td>\n",
       "      <td>...</td>\n",
       "      <td>...</td>\n",
       "      <td>...</td>\n",
       "      <td>...</td>\n",
       "    </tr>\n",
       "    <tr>\n",
       "      <th>4739</th>\n",
       "      <td>-0.013399</td>\n",
       "      <td>0.000425</td>\n",
       "      <td>-0.001505</td>\n",
       "      <td>-0.002622</td>\n",
       "      <td>0.005981</td>\n",
       "      <td>0.004380</td>\n",
       "      <td>-0.068532</td>\n",
       "      <td>0.000845</td>\n",
       "      <td>-0.000738</td>\n",
       "      <td>-0.022735</td>\n",
       "      <td>...</td>\n",
       "      <td>0.008658</td>\n",
       "      <td>-0.021842</td>\n",
       "      <td>-0.002851</td>\n",
       "      <td>0.002322</td>\n",
       "      <td>0.003209</td>\n",
       "      <td>-0.001540</td>\n",
       "      <td>0.001456</td>\n",
       "      <td>-0.009849</td>\n",
       "      <td>0.004548</td>\n",
       "      <td>1</td>\n",
       "    </tr>\n",
       "    <tr>\n",
       "      <th>4740</th>\n",
       "      <td>-0.016509</td>\n",
       "      <td>0.000864</td>\n",
       "      <td>-0.012459</td>\n",
       "      <td>-0.005986</td>\n",
       "      <td>-0.015736</td>\n",
       "      <td>0.012485</td>\n",
       "      <td>-0.007090</td>\n",
       "      <td>0.005140</td>\n",
       "      <td>-0.001690</td>\n",
       "      <td>-0.004638</td>\n",
       "      <td>...</td>\n",
       "      <td>0.006907</td>\n",
       "      <td>0.013396</td>\n",
       "      <td>-0.000621</td>\n",
       "      <td>0.000967</td>\n",
       "      <td>-0.002660</td>\n",
       "      <td>-0.008545</td>\n",
       "      <td>0.004890</td>\n",
       "      <td>-0.001214</td>\n",
       "      <td>-0.021541</td>\n",
       "      <td>0</td>\n",
       "    </tr>\n",
       "    <tr>\n",
       "      <th>4741</th>\n",
       "      <td>-0.022172</td>\n",
       "      <td>0.003981</td>\n",
       "      <td>-0.002986</td>\n",
       "      <td>-0.000368</td>\n",
       "      <td>0.000359</td>\n",
       "      <td>0.000481</td>\n",
       "      <td>0.009476</td>\n",
       "      <td>-0.001761</td>\n",
       "      <td>0.000513</td>\n",
       "      <td>0.017848</td>\n",
       "      <td>...</td>\n",
       "      <td>0.009555</td>\n",
       "      <td>0.003497</td>\n",
       "      <td>0.031669</td>\n",
       "      <td>-0.001454</td>\n",
       "      <td>-0.000916</td>\n",
       "      <td>-0.001471</td>\n",
       "      <td>0.006088</td>\n",
       "      <td>0.010810</td>\n",
       "      <td>0.000611</td>\n",
       "      <td>0</td>\n",
       "    </tr>\n",
       "    <tr>\n",
       "      <th>4742</th>\n",
       "      <td>0.000263</td>\n",
       "      <td>-0.001373</td>\n",
       "      <td>0.010561</td>\n",
       "      <td>-0.003296</td>\n",
       "      <td>0.016685</td>\n",
       "      <td>0.010374</td>\n",
       "      <td>0.004641</td>\n",
       "      <td>0.001027</td>\n",
       "      <td>0.003696</td>\n",
       "      <td>0.018033</td>\n",
       "      <td>...</td>\n",
       "      <td>-0.015412</td>\n",
       "      <td>-0.000587</td>\n",
       "      <td>0.006984</td>\n",
       "      <td>-0.003077</td>\n",
       "      <td>0.002365</td>\n",
       "      <td>0.003079</td>\n",
       "      <td>0.000811</td>\n",
       "      <td>0.032243</td>\n",
       "      <td>0.004037</td>\n",
       "      <td>1</td>\n",
       "    </tr>\n",
       "    <tr>\n",
       "      <th>4743</th>\n",
       "      <td>0.031040</td>\n",
       "      <td>0.002471</td>\n",
       "      <td>-0.011639</td>\n",
       "      <td>0.006229</td>\n",
       "      <td>0.010258</td>\n",
       "      <td>0.025801</td>\n",
       "      <td>0.011879</td>\n",
       "      <td>-0.000084</td>\n",
       "      <td>-0.065583</td>\n",
       "      <td>0.037984</td>\n",
       "      <td>...</td>\n",
       "      <td>0.016131</td>\n",
       "      <td>0.023181</td>\n",
       "      <td>-0.001357</td>\n",
       "      <td>0.012377</td>\n",
       "      <td>-0.001389</td>\n",
       "      <td>-0.004562</td>\n",
       "      <td>0.009265</td>\n",
       "      <td>-0.013044</td>\n",
       "      <td>0.006441</td>\n",
       "      <td>1</td>\n",
       "    </tr>\n",
       "  </tbody>\n",
       "</table>\n",
       "<p>4744 rows × 61 columns</p>\n",
       "</div>"
      ],
      "text/plain": [
       "             0         1         2         3         4         5         6  \\\n",
       "0    -0.032741 -0.029696 -0.009417 -0.015568  0.003039  0.015795 -0.003581   \n",
       "1     0.008823 -0.010826  0.017925 -0.010772  0.010337 -0.013395  0.022177   \n",
       "2     0.021890  0.000427 -0.018069  0.018598  0.003986  0.011694 -0.000854   \n",
       "3     0.014305 -0.005278 -0.009769 -0.004266 -0.027834  0.006554  0.002006   \n",
       "4     0.021521 -0.024073 -0.019067 -0.045718 -0.002457 -0.011547  0.000898   \n",
       "...        ...       ...       ...       ...       ...       ...       ...   \n",
       "4739 -0.013399  0.000425 -0.001505 -0.002622  0.005981  0.004380 -0.068532   \n",
       "4740 -0.016509  0.000864 -0.012459 -0.005986 -0.015736  0.012485 -0.007090   \n",
       "4741 -0.022172  0.003981 -0.002986 -0.000368  0.000359  0.000481  0.009476   \n",
       "4742  0.000263 -0.001373  0.010561 -0.003296  0.016685  0.010374  0.004641   \n",
       "4743  0.031040  0.002471 -0.011639  0.006229  0.010258  0.025801  0.011879   \n",
       "\n",
       "             7         8         9  ...        51        52        53  \\\n",
       "0     0.020526  0.017737 -0.008509  ...  0.010657  0.006026  0.031277   \n",
       "1     0.012704 -0.004884 -0.000965  ...  0.001278 -0.002426  0.066311   \n",
       "2    -0.045140  0.008344  0.016117  ... -0.019316  0.004051  0.009930   \n",
       "3     0.035002  0.007302 -0.000774  ... -0.007552 -0.000267 -0.008885   \n",
       "4    -0.007672  0.004839  0.008163  ... -0.010666  0.008289  0.019424   \n",
       "...        ...       ...       ...  ...       ...       ...       ...   \n",
       "4739  0.000845 -0.000738 -0.022735  ...  0.008658 -0.021842 -0.002851   \n",
       "4740  0.005140 -0.001690 -0.004638  ...  0.006907  0.013396 -0.000621   \n",
       "4741 -0.001761  0.000513  0.017848  ...  0.009555  0.003497  0.031669   \n",
       "4742  0.001027  0.003696  0.018033  ... -0.015412 -0.000587  0.006984   \n",
       "4743 -0.000084 -0.065583  0.037984  ...  0.016131  0.023181 -0.001357   \n",
       "\n",
       "            54        55        56        57        58        59  target  \n",
       "0     0.019023 -0.003853  0.014724 -0.006690 -0.007249  0.006258       0  \n",
       "1     0.012919 -0.008502  0.007414  0.009393 -0.011572 -0.001676       1  \n",
       "2    -0.025382  0.017117 -0.024888  0.038374  0.014967 -0.023001       1  \n",
       "3    -0.008946  0.015319 -0.000217 -0.018432  0.001002 -0.005675       0  \n",
       "4    -0.014291 -0.017086 -0.026825 -0.038844  0.000018  0.007438       1  \n",
       "...        ...       ...       ...       ...       ...       ...     ...  \n",
       "4739  0.002322  0.003209 -0.001540  0.001456 -0.009849  0.004548       1  \n",
       "4740  0.000967 -0.002660 -0.008545  0.004890 -0.001214 -0.021541       0  \n",
       "4741 -0.001454 -0.000916 -0.001471  0.006088  0.010810  0.000611       0  \n",
       "4742 -0.003077  0.002365  0.003079  0.000811  0.032243  0.004037       1  \n",
       "4743  0.012377 -0.001389 -0.004562  0.009265 -0.013044  0.006441       1  \n",
       "\n",
       "[4744 rows x 61 columns]"
      ]
     },
     "execution_count": 29,
     "metadata": {},
     "output_type": "execute_result"
    }
   ],
   "source": [
    "bd_red"
   ]
  },
  {
   "cell_type": "code",
   "execution_count": 30,
   "metadata": {},
   "outputs": [
    {
     "name": "stderr",
     "output_type": "stream",
     "text": [
      "C:\\Users\\magamp\\AppData\\Roaming\\Python\\Python38\\site-packages\\sklearn\\utils\\validation.py:1858: FutureWarning: Feature names only support names that are all strings. Got feature names with dtypes: ['int', 'str']. An error will be raised in 1.2.\n",
      "  warnings.warn(\n",
      "C:\\Users\\magamp\\AppData\\Roaming\\Python\\Python38\\site-packages\\sklearn\\utils\\validation.py:1858: FutureWarning: Feature names only support names that are all strings. Got feature names with dtypes: ['int', 'str']. An error will be raised in 1.2.\n",
      "  warnings.warn(\n",
      "C:\\Users\\magamp\\AppData\\Roaming\\Python\\Python38\\site-packages\\sklearn\\utils\\validation.py:1858: FutureWarning: Feature names only support names that are all strings. Got feature names with dtypes: ['int', 'str']. An error will be raised in 1.2.\n",
      "  warnings.warn(\n",
      "C:\\Users\\magamp\\AppData\\Roaming\\Python\\Python38\\site-packages\\sklearn\\utils\\validation.py:1858: FutureWarning: Feature names only support names that are all strings. Got feature names with dtypes: ['int', 'str']. An error will be raised in 1.2.\n",
      "  warnings.warn(\n",
      "C:\\Users\\magamp\\AppData\\Roaming\\Python\\Python38\\site-packages\\sklearn\\utils\\validation.py:1858: FutureWarning: Feature names only support names that are all strings. Got feature names with dtypes: ['int', 'str']. An error will be raised in 1.2.\n",
      "  warnings.warn(\n",
      "C:\\Users\\magamp\\AppData\\Roaming\\Python\\Python38\\site-packages\\sklearn\\utils\\validation.py:1858: FutureWarning: Feature names only support names that are all strings. Got feature names with dtypes: ['int', 'str']. An error will be raised in 1.2.\n",
      "  warnings.warn(\n",
      "C:\\Users\\magamp\\AppData\\Roaming\\Python\\Python38\\site-packages\\sklearn\\utils\\validation.py:1858: FutureWarning: Feature names only support names that are all strings. Got feature names with dtypes: ['int', 'str']. An error will be raised in 1.2.\n",
      "  warnings.warn(\n",
      "C:\\Users\\magamp\\AppData\\Roaming\\Python\\Python38\\site-packages\\sklearn\\utils\\validation.py:1858: FutureWarning: Feature names only support names that are all strings. Got feature names with dtypes: ['int', 'str']. An error will be raised in 1.2.\n",
      "  warnings.warn(\n",
      "C:\\Users\\magamp\\AppData\\Roaming\\Python\\Python38\\site-packages\\sklearn\\utils\\validation.py:1858: FutureWarning: Feature names only support names that are all strings. Got feature names with dtypes: ['int', 'str']. An error will be raised in 1.2.\n",
      "  warnings.warn(\n",
      "C:\\Users\\magamp\\AppData\\Roaming\\Python\\Python38\\site-packages\\sklearn\\utils\\validation.py:1858: FutureWarning: Feature names only support names that are all strings. Got feature names with dtypes: ['int', 'str']. An error will be raised in 1.2.\n",
      "  warnings.warn(\n",
      "C:\\Users\\magamp\\AppData\\Roaming\\Python\\Python38\\site-packages\\sklearn\\utils\\validation.py:1858: FutureWarning: Feature names only support names that are all strings. Got feature names with dtypes: ['int', 'str']. An error will be raised in 1.2.\n",
      "  warnings.warn(\n",
      "C:\\Users\\magamp\\AppData\\Roaming\\Python\\Python38\\site-packages\\sklearn\\utils\\validation.py:1858: FutureWarning: Feature names only support names that are all strings. Got feature names with dtypes: ['int', 'str']. An error will be raised in 1.2.\n",
      "  warnings.warn(\n",
      "C:\\Users\\magamp\\AppData\\Roaming\\Python\\Python38\\site-packages\\sklearn\\utils\\validation.py:1858: FutureWarning: Feature names only support names that are all strings. Got feature names with dtypes: ['int', 'str']. An error will be raised in 1.2.\n",
      "  warnings.warn(\n",
      "C:\\Users\\magamp\\AppData\\Roaming\\Python\\Python38\\site-packages\\sklearn\\utils\\validation.py:1858: FutureWarning: Feature names only support names that are all strings. Got feature names with dtypes: ['int', 'str']. An error will be raised in 1.2.\n",
      "  warnings.warn(\n",
      "C:\\Users\\magamp\\AppData\\Roaming\\Python\\Python38\\site-packages\\sklearn\\utils\\validation.py:1858: FutureWarning: Feature names only support names that are all strings. Got feature names with dtypes: ['int', 'str']. An error will be raised in 1.2.\n",
      "  warnings.warn(\n",
      "C:\\Users\\magamp\\AppData\\Roaming\\Python\\Python38\\site-packages\\sklearn\\utils\\validation.py:1858: FutureWarning: Feature names only support names that are all strings. Got feature names with dtypes: ['int', 'str']. An error will be raised in 1.2.\n",
      "  warnings.warn(\n",
      "C:\\Users\\magamp\\AppData\\Roaming\\Python\\Python38\\site-packages\\sklearn\\utils\\validation.py:1858: FutureWarning: Feature names only support names that are all strings. Got feature names with dtypes: ['int', 'str']. An error will be raised in 1.2.\n",
      "  warnings.warn(\n",
      "C:\\Users\\magamp\\AppData\\Roaming\\Python\\Python38\\site-packages\\sklearn\\utils\\validation.py:1858: FutureWarning: Feature names only support names that are all strings. Got feature names with dtypes: ['int', 'str']. An error will be raised in 1.2.\n",
      "  warnings.warn(\n",
      "C:\\Users\\magamp\\AppData\\Roaming\\Python\\Python38\\site-packages\\sklearn\\utils\\validation.py:1858: FutureWarning: Feature names only support names that are all strings. Got feature names with dtypes: ['int', 'str']. An error will be raised in 1.2.\n",
      "  warnings.warn(\n",
      "C:\\Users\\magamp\\AppData\\Roaming\\Python\\Python38\\site-packages\\sklearn\\utils\\validation.py:1858: FutureWarning: Feature names only support names that are all strings. Got feature names with dtypes: ['int', 'str']. An error will be raised in 1.2.\n",
      "  warnings.warn(\n",
      "C:\\Users\\magamp\\AppData\\Roaming\\Python\\Python38\\site-packages\\sklearn\\utils\\validation.py:1858: FutureWarning: Feature names only support names that are all strings. Got feature names with dtypes: ['int', 'str']. An error will be raised in 1.2.\n",
      "  warnings.warn(\n",
      "C:\\Users\\magamp\\AppData\\Roaming\\Python\\Python38\\site-packages\\sklearn\\utils\\validation.py:1858: FutureWarning: Feature names only support names that are all strings. Got feature names with dtypes: ['int', 'str']. An error will be raised in 1.2.\n",
      "  warnings.warn(\n",
      "C:\\Users\\magamp\\AppData\\Roaming\\Python\\Python38\\site-packages\\sklearn\\utils\\validation.py:1858: FutureWarning: Feature names only support names that are all strings. Got feature names with dtypes: ['int', 'str']. An error will be raised in 1.2.\n",
      "  warnings.warn(\n",
      "C:\\Users\\magamp\\AppData\\Roaming\\Python\\Python38\\site-packages\\sklearn\\utils\\validation.py:1858: FutureWarning: Feature names only support names that are all strings. Got feature names with dtypes: ['int', 'str']. An error will be raised in 1.2.\n",
      "  warnings.warn(\n"
     ]
    }
   ],
   "source": [
    "centers = []\n",
    "inertia = []\n",
    "for i in range(1,25):\n",
    "    km = cluster.KMeans(n_clusters=i, random_state=0).fit(bd_red)\n",
    "    centers.append(km.cluster_centers_)\n",
    "    inertia.append(km.inertia_)"
   ]
  },
  {
   "cell_type": "code",
   "execution_count": 31,
   "metadata": {},
   "outputs": [
    {
     "data": {
      "text/plain": [
       "[<matplotlib.lines.Line2D at 0x1db8f45df10>]"
      ]
     },
     "execution_count": 31,
     "metadata": {},
     "output_type": "execute_result"
    },
    {
     "data": {
      "image/png": "[encoded data removed]",
      "text/plain": [
       "<Figure size 432x288 with 1 Axes>"
      ]
     },
     "metadata": {
      "needs_background": "light"
     },
     "output_type": "display_data"
    }
   ],
   "source": [
    "plt.plot(range(1,25),inertia)"
   ]
  },
  {
   "cell_type": "code",
   "execution_count": 32,
   "metadata": {},
   "outputs": [
    {
     "name": "stderr",
     "output_type": "stream",
     "text": [
      "C:\\Users\\magamp\\AppData\\Roaming\\Python\\Python38\\site-packages\\sklearn\\utils\\validation.py:1858: FutureWarning: Feature names only support names that are all strings. Got feature names with dtypes: ['int', 'str']. An error will be raised in 1.2.\n",
      "  warnings.warn(\n",
      "C:\\Users\\magamp\\AppData\\Roaming\\Python\\Python38\\site-packages\\sklearn\\utils\\validation.py:1858: FutureWarning: Feature names only support names that are all strings. Got feature names with dtypes: ['int', 'str']. An error will be raised in 1.2.\n",
      "  warnings.warn(\n"
     ]
    }
   ],
   "source": [
    "kmeansbdica = cluster.KMeans(n_clusters=4)\n",
    "kmeansbdica.fit(bd_red)\n",
    "y_kmeans = kmeansbdica.predict(bd_red)\n",
    "kmbdicalabels = kmeansbdica.labels_"
   ]
  },
  {
   "cell_type": "code",
   "execution_count": 33,
   "metadata": {},
   "outputs": [
    {
     "data": {
      "text/plain": [
       "<matplotlib.collections.PathCollection at 0x1db8f492070>"
      ]
     },
     "execution_count": 33,
     "metadata": {},
     "output_type": "execute_result"
    },
    {
     "data": {
      "image/png": "[encoded data removed]",
      "text/plain": [
       "<Figure size 432x288 with 1 Axes>"
      ]
     },
     "metadata": {
      "needs_background": "light"
     },
     "output_type": "display_data"
    }
   ],
   "source": [
    "plt.scatter(bd_red.iloc[:, 0], bd_red.iloc[:, 1], c=y_kmeans, s=50, cmap='icefire')\n",
    "\n",
    "centers = kmeansbdica.cluster_centers_\n",
    "plt.scatter(centers[:, 0], centers[:, 1], c='black', s=200, alpha=0.5)"
   ]
  },
  {
   "cell_type": "code",
   "execution_count": 34,
   "metadata": {},
   "outputs": [
    {
     "data": {
      "text/plain": [
       "<mpl_toolkits.mplot3d.art3d.Path3DCollection at 0x1db8f540fa0>"
      ]
     },
     "execution_count": 34,
     "metadata": {},
     "output_type": "execute_result"
    },
    {
     "data": {
      "image/png": "[encoded data removed]",
      "text/plain": [
       "<Figure size 432x288 with 1 Axes>"
      ]
     },
     "metadata": {
      "needs_background": "light"
     },
     "output_type": "display_data"
    }
   ],
   "source": [
    "fig = plt.figure()\n",
    "ax = plt.axes(projection='3d')\n",
    "ax.scatter3D(bd_red.iloc[:,2],bd_red.iloc[:,1],bd_red.iloc[:,0], c=y_kmeans, s=40, cmap='icefire')"
   ]
  },
  {
   "cell_type": "markdown",
   "metadata": {},
   "source": [
    "### BD ICA K means NN"
   ]
  },
  {
   "cell_type": "code",
   "execution_count": 35,
   "metadata": {},
   "outputs": [
    {
     "data": {
      "text/plain": [
       "array([3, 2, 2, ..., 0, 2, 2])"
      ]
     },
     "execution_count": 35,
     "metadata": {},
     "output_type": "execute_result"
    }
   ],
   "source": [
    "bd_km = bd_red.copy()\n",
    "kmbdicalabels"
   ]
  },
  {
   "cell_type": "code",
   "execution_count": 36,
   "metadata": {},
   "outputs": [],
   "source": [
    "labelsdf = pd.DataFrame(kmbdicalabels, columns=[\"clusters\"])\n",
    "hot = OneHotEncoder().fit_transform(X = labelsdf).toarray()\n",
    "labelsdf2 = pd.DataFrame(hot, columns= ['C1', 'C2', 'C3', 'C4'])\n"
   ]
  },
  {
   "cell_type": "code",
   "execution_count": 37,
   "metadata": {},
   "outputs": [
    {
     "data": {
      "text/html": [
       "<div>\n",
       "<style scoped>\n",
       "    .dataframe tbody tr th:only-of-type {\n",
       "        vertical-align: middle;\n",
       "    }\n",
       "\n",
       "    .dataframe tbody tr th {\n",
       "        vertical-align: top;\n",
       "    }\n",
       "\n",
       "    .dataframe thead th {\n",
       "        text-align: right;\n",
       "    }\n",
       "</style>\n",
       "<table border=\"1\" class=\"dataframe\">\n",
       "  <thead>\n",
       "    <tr style=\"text-align: right;\">\n",
       "      <th></th>\n",
       "      <th>0</th>\n",
       "      <th>1</th>\n",
       "      <th>2</th>\n",
       "      <th>3</th>\n",
       "      <th>4</th>\n",
       "      <th>5</th>\n",
       "      <th>6</th>\n",
       "      <th>7</th>\n",
       "      <th>8</th>\n",
       "      <th>9</th>\n",
       "      <th>...</th>\n",
       "      <th>55</th>\n",
       "      <th>56</th>\n",
       "      <th>57</th>\n",
       "      <th>58</th>\n",
       "      <th>59</th>\n",
       "      <th>target</th>\n",
       "      <th>C1</th>\n",
       "      <th>C2</th>\n",
       "      <th>C3</th>\n",
       "      <th>C4</th>\n",
       "    </tr>\n",
       "  </thead>\n",
       "  <tbody>\n",
       "    <tr>\n",
       "      <th>0</th>\n",
       "      <td>-0.032741</td>\n",
       "      <td>-0.029696</td>\n",
       "      <td>-0.009417</td>\n",
       "      <td>-0.015568</td>\n",
       "      <td>0.003039</td>\n",
       "      <td>0.015795</td>\n",
       "      <td>-0.003581</td>\n",
       "      <td>0.020526</td>\n",
       "      <td>0.017737</td>\n",
       "      <td>-0.008509</td>\n",
       "      <td>...</td>\n",
       "      <td>-0.003853</td>\n",
       "      <td>0.014724</td>\n",
       "      <td>-0.006690</td>\n",
       "      <td>-0.007249</td>\n",
       "      <td>0.006258</td>\n",
       "      <td>0</td>\n",
       "      <td>0.0</td>\n",
       "      <td>0.0</td>\n",
       "      <td>0.0</td>\n",
       "      <td>1.0</td>\n",
       "    </tr>\n",
       "    <tr>\n",
       "      <th>1</th>\n",
       "      <td>0.008823</td>\n",
       "      <td>-0.010826</td>\n",
       "      <td>0.017925</td>\n",
       "      <td>-0.010772</td>\n",
       "      <td>0.010337</td>\n",
       "      <td>-0.013395</td>\n",
       "      <td>0.022177</td>\n",
       "      <td>0.012704</td>\n",
       "      <td>-0.004884</td>\n",
       "      <td>-0.000965</td>\n",
       "      <td>...</td>\n",
       "      <td>-0.008502</td>\n",
       "      <td>0.007414</td>\n",
       "      <td>0.009393</td>\n",
       "      <td>-0.011572</td>\n",
       "      <td>-0.001676</td>\n",
       "      <td>1</td>\n",
       "      <td>0.0</td>\n",
       "      <td>0.0</td>\n",
       "      <td>1.0</td>\n",
       "      <td>0.0</td>\n",
       "    </tr>\n",
       "    <tr>\n",
       "      <th>2</th>\n",
       "      <td>0.021890</td>\n",
       "      <td>0.000427</td>\n",
       "      <td>-0.018069</td>\n",
       "      <td>0.018598</td>\n",
       "      <td>0.003986</td>\n",
       "      <td>0.011694</td>\n",
       "      <td>-0.000854</td>\n",
       "      <td>-0.045140</td>\n",
       "      <td>0.008344</td>\n",
       "      <td>0.016117</td>\n",
       "      <td>...</td>\n",
       "      <td>0.017117</td>\n",
       "      <td>-0.024888</td>\n",
       "      <td>0.038374</td>\n",
       "      <td>0.014967</td>\n",
       "      <td>-0.023001</td>\n",
       "      <td>1</td>\n",
       "      <td>0.0</td>\n",
       "      <td>0.0</td>\n",
       "      <td>1.0</td>\n",
       "      <td>0.0</td>\n",
       "    </tr>\n",
       "    <tr>\n",
       "      <th>3</th>\n",
       "      <td>0.014305</td>\n",
       "      <td>-0.005278</td>\n",
       "      <td>-0.009769</td>\n",
       "      <td>-0.004266</td>\n",
       "      <td>-0.027834</td>\n",
       "      <td>0.006554</td>\n",
       "      <td>0.002006</td>\n",
       "      <td>0.035002</td>\n",
       "      <td>0.007302</td>\n",
       "      <td>-0.000774</td>\n",
       "      <td>...</td>\n",
       "      <td>0.015319</td>\n",
       "      <td>-0.000217</td>\n",
       "      <td>-0.018432</td>\n",
       "      <td>0.001002</td>\n",
       "      <td>-0.005675</td>\n",
       "      <td>0</td>\n",
       "      <td>0.0</td>\n",
       "      <td>0.0</td>\n",
       "      <td>0.0</td>\n",
       "      <td>1.0</td>\n",
       "    </tr>\n",
       "    <tr>\n",
       "      <th>4</th>\n",
       "      <td>0.021521</td>\n",
       "      <td>-0.024073</td>\n",
       "      <td>-0.019067</td>\n",
       "      <td>-0.045718</td>\n",
       "      <td>-0.002457</td>\n",
       "      <td>-0.011547</td>\n",
       "      <td>0.000898</td>\n",
       "      <td>-0.007672</td>\n",
       "      <td>0.004839</td>\n",
       "      <td>0.008163</td>\n",
       "      <td>...</td>\n",
       "      <td>-0.017086</td>\n",
       "      <td>-0.026825</td>\n",
       "      <td>-0.038844</td>\n",
       "      <td>0.000018</td>\n",
       "      <td>0.007438</td>\n",
       "      <td>1</td>\n",
       "      <td>0.0</td>\n",
       "      <td>1.0</td>\n",
       "      <td>0.0</td>\n",
       "      <td>0.0</td>\n",
       "    </tr>\n",
       "    <tr>\n",
       "      <th>...</th>\n",
       "      <td>...</td>\n",
       "      <td>...</td>\n",
       "      <td>...</td>\n",
       "      <td>...</td>\n",
       "      <td>...</td>\n",
       "      <td>...</td>\n",
       "      <td>...</td>\n",
       "      <td>...</td>\n",
       "      <td>...</td>\n",
       "      <td>...</td>\n",
       "      <td>...</td>\n",
       "      <td>...</td>\n",
       "      <td>...</td>\n",
       "      <td>...</td>\n",
       "      <td>...</td>\n",
       "      <td>...</td>\n",
       "      <td>...</td>\n",
       "      <td>...</td>\n",
       "      <td>...</td>\n",
       "      <td>...</td>\n",
       "      <td>...</td>\n",
       "    </tr>\n",
       "    <tr>\n",
       "      <th>4739</th>\n",
       "      <td>-0.013399</td>\n",
       "      <td>0.000425</td>\n",
       "      <td>-0.001505</td>\n",
       "      <td>-0.002622</td>\n",
       "      <td>0.005981</td>\n",
       "      <td>0.004380</td>\n",
       "      <td>-0.068532</td>\n",
       "      <td>0.000845</td>\n",
       "      <td>-0.000738</td>\n",
       "      <td>-0.022735</td>\n",
       "      <td>...</td>\n",
       "      <td>0.003209</td>\n",
       "      <td>-0.001540</td>\n",
       "      <td>0.001456</td>\n",
       "      <td>-0.009849</td>\n",
       "      <td>0.004548</td>\n",
       "      <td>1</td>\n",
       "      <td>0.0</td>\n",
       "      <td>1.0</td>\n",
       "      <td>0.0</td>\n",
       "      <td>0.0</td>\n",
       "    </tr>\n",
       "    <tr>\n",
       "      <th>4740</th>\n",
       "      <td>-0.016509</td>\n",
       "      <td>0.000864</td>\n",
       "      <td>-0.012459</td>\n",
       "      <td>-0.005986</td>\n",
       "      <td>-0.015736</td>\n",
       "      <td>0.012485</td>\n",
       "      <td>-0.007090</td>\n",
       "      <td>0.005140</td>\n",
       "      <td>-0.001690</td>\n",
       "      <td>-0.004638</td>\n",
       "      <td>...</td>\n",
       "      <td>-0.002660</td>\n",
       "      <td>-0.008545</td>\n",
       "      <td>0.004890</td>\n",
       "      <td>-0.001214</td>\n",
       "      <td>-0.021541</td>\n",
       "      <td>0</td>\n",
       "      <td>1.0</td>\n",
       "      <td>0.0</td>\n",
       "      <td>0.0</td>\n",
       "      <td>0.0</td>\n",
       "    </tr>\n",
       "    <tr>\n",
       "      <th>4741</th>\n",
       "      <td>-0.022172</td>\n",
       "      <td>0.003981</td>\n",
       "      <td>-0.002986</td>\n",
       "      <td>-0.000368</td>\n",
       "      <td>0.000359</td>\n",
       "      <td>0.000481</td>\n",
       "      <td>0.009476</td>\n",
       "      <td>-0.001761</td>\n",
       "      <td>0.000513</td>\n",
       "      <td>0.017848</td>\n",
       "      <td>...</td>\n",
       "      <td>-0.000916</td>\n",
       "      <td>-0.001471</td>\n",
       "      <td>0.006088</td>\n",
       "      <td>0.010810</td>\n",
       "      <td>0.000611</td>\n",
       "      <td>0</td>\n",
       "      <td>1.0</td>\n",
       "      <td>0.0</td>\n",
       "      <td>0.0</td>\n",
       "      <td>0.0</td>\n",
       "    </tr>\n",
       "    <tr>\n",
       "      <th>4742</th>\n",
       "      <td>0.000263</td>\n",
       "      <td>-0.001373</td>\n",
       "      <td>0.010561</td>\n",
       "      <td>-0.003296</td>\n",
       "      <td>0.016685</td>\n",
       "      <td>0.010374</td>\n",
       "      <td>0.004641</td>\n",
       "      <td>0.001027</td>\n",
       "      <td>0.003696</td>\n",
       "      <td>0.018033</td>\n",
       "      <td>...</td>\n",
       "      <td>0.002365</td>\n",
       "      <td>0.003079</td>\n",
       "      <td>0.000811</td>\n",
       "      <td>0.032243</td>\n",
       "      <td>0.004037</td>\n",
       "      <td>1</td>\n",
       "      <td>0.0</td>\n",
       "      <td>0.0</td>\n",
       "      <td>1.0</td>\n",
       "      <td>0.0</td>\n",
       "    </tr>\n",
       "    <tr>\n",
       "      <th>4743</th>\n",
       "      <td>0.031040</td>\n",
       "      <td>0.002471</td>\n",
       "      <td>-0.011639</td>\n",
       "      <td>0.006229</td>\n",
       "      <td>0.010258</td>\n",
       "      <td>0.025801</td>\n",
       "      <td>0.011879</td>\n",
       "      <td>-0.000084</td>\n",
       "      <td>-0.065583</td>\n",
       "      <td>0.037984</td>\n",
       "      <td>...</td>\n",
       "      <td>-0.001389</td>\n",
       "      <td>-0.004562</td>\n",
       "      <td>0.009265</td>\n",
       "      <td>-0.013044</td>\n",
       "      <td>0.006441</td>\n",
       "      <td>1</td>\n",
       "      <td>0.0</td>\n",
       "      <td>0.0</td>\n",
       "      <td>1.0</td>\n",
       "      <td>0.0</td>\n",
       "    </tr>\n",
       "  </tbody>\n",
       "</table>\n",
       "<p>4744 rows × 65 columns</p>\n",
       "</div>"
      ],
      "text/plain": [
       "             0         1         2         3         4         5         6  \\\n",
       "0    -0.032741 -0.029696 -0.009417 -0.015568  0.003039  0.015795 -0.003581   \n",
       "1     0.008823 -0.010826  0.017925 -0.010772  0.010337 -0.013395  0.022177   \n",
       "2     0.021890  0.000427 -0.018069  0.018598  0.003986  0.011694 -0.000854   \n",
       "3     0.014305 -0.005278 -0.009769 -0.004266 -0.027834  0.006554  0.002006   \n",
       "4     0.021521 -0.024073 -0.019067 -0.045718 -0.002457 -0.011547  0.000898   \n",
       "...        ...       ...       ...       ...       ...       ...       ...   \n",
       "4739 -0.013399  0.000425 -0.001505 -0.002622  0.005981  0.004380 -0.068532   \n",
       "4740 -0.016509  0.000864 -0.012459 -0.005986 -0.015736  0.012485 -0.007090   \n",
       "4741 -0.022172  0.003981 -0.002986 -0.000368  0.000359  0.000481  0.009476   \n",
       "4742  0.000263 -0.001373  0.010561 -0.003296  0.016685  0.010374  0.004641   \n",
       "4743  0.031040  0.002471 -0.011639  0.006229  0.010258  0.025801  0.011879   \n",
       "\n",
       "             7         8         9  ...        55        56        57  \\\n",
       "0     0.020526  0.017737 -0.008509  ... -0.003853  0.014724 -0.006690   \n",
       "1     0.012704 -0.004884 -0.000965  ... -0.008502  0.007414  0.009393   \n",
       "2    -0.045140  0.008344  0.016117  ...  0.017117 -0.024888  0.038374   \n",
       "3     0.035002  0.007302 -0.000774  ...  0.015319 -0.000217 -0.018432   \n",
       "4    -0.007672  0.004839  0.008163  ... -0.017086 -0.026825 -0.038844   \n",
       "...        ...       ...       ...  ...       ...       ...       ...   \n",
       "4739  0.000845 -0.000738 -0.022735  ...  0.003209 -0.001540  0.001456   \n",
       "4740  0.005140 -0.001690 -0.004638  ... -0.002660 -0.008545  0.004890   \n",
       "4741 -0.001761  0.000513  0.017848  ... -0.000916 -0.001471  0.006088   \n",
       "4742  0.001027  0.003696  0.018033  ...  0.002365  0.003079  0.000811   \n",
       "4743 -0.000084 -0.065583  0.037984  ... -0.001389 -0.004562  0.009265   \n",
       "\n",
       "            58        59  target   C1   C2   C3   C4  \n",
       "0    -0.007249  0.006258       0  0.0  0.0  0.0  1.0  \n",
       "1    -0.011572 -0.001676       1  0.0  0.0  1.0  0.0  \n",
       "2     0.014967 -0.023001       1  0.0  0.0  1.0  0.0  \n",
       "3     0.001002 -0.005675       0  0.0  0.0  0.0  1.0  \n",
       "4     0.000018  0.007438       1  0.0  1.0  0.0  0.0  \n",
       "...        ...       ...     ...  ...  ...  ...  ...  \n",
       "4739 -0.009849  0.004548       1  0.0  1.0  0.0  0.0  \n",
       "4740 -0.001214 -0.021541       0  1.0  0.0  0.0  0.0  \n",
       "4741  0.010810  0.000611       0  1.0  0.0  0.0  0.0  \n",
       "4742  0.032243  0.004037       1  0.0  0.0  1.0  0.0  \n",
       "4743 -0.013044  0.006441       1  0.0  0.0  1.0  0.0  \n",
       "\n",
       "[4744 rows x 65 columns]"
      ]
     },
     "execution_count": 37,
     "metadata": {},
     "output_type": "execute_result"
    }
   ],
   "source": [
    "bdkm = pd.concat([bd_km,labelsdf2], axis=1)\n",
    "bdkm"
   ]
  },
  {
   "cell_type": "code",
   "execution_count": 38,
   "metadata": {},
   "outputs": [],
   "source": [
    "trainx, testx, trainy, testy = train_test_split(bdkm, bd_target, test_size=.3, random_state=42)"
   ]
  },
  {
   "cell_type": "code",
   "execution_count": 39,
   "metadata": {},
   "outputs": [],
   "source": [
    "bd_km_ica_nn = mlrose.NeuralNetwork(hidden_nodes = [6,6], activation = 'relu', algorithm = 'gradient_descent', max_iters = 5000, bias = True, is_classifier = True, learning_rate = 0.0001,\n",
    "early_stopping = True, clip_max = 5, max_attempts = 1000, random_state = 3)"
   ]
  },
  {
   "cell_type": "code",
   "execution_count": 40,
   "metadata": {},
   "outputs": [
    {
     "data": {
      "text/html": [
       "<style>#sk-container-id-3 {color: black;background-color: white;}#sk-container-id-3 pre{padding: 0;}#sk-container-id-3 div.sk-toggleable {background-color: white;}#sk-container-id-3 label.sk-toggleable__label {cursor: pointer;display: block;width: 100%;margin-bottom: 0;padding: 0.3em;box-sizing: border-box;text-align: center;}#sk-container-id-3 label.sk-toggleable__label-arrow:before {content: \"▸\";float: left;margin-right: 0.25em;color: #696969;}#sk-container-id-3 label.sk-toggleable__label-arrow:hover:before {color: black;}#sk-container-id-3 div.sk-estimator:hover label.sk-toggleable__label-arrow:before {color: black;}#sk-container-id-3 div.sk-toggleable__content {max-height: 0;max-width: 0;overflow: hidden;text-align: left;background-color: #f0f8ff;}#sk-container-id-3 div.sk-toggleable__content pre {margin: 0.2em;color: black;border-radius: 0.25em;background-color: #f0f8ff;}#sk-container-id-3 input.sk-toggleable__control:checked~div.sk-toggleable__content {max-height: 200px;max-width: 100%;overflow: auto;}#sk-container-id-3 input.sk-toggleable__control:checked~label.sk-toggleable__label-arrow:before {content: \"▾\";}#sk-container-id-3 div.sk-estimator input.sk-toggleable__control:checked~label.sk-toggleable__label {background-color: #d4ebff;}#sk-container-id-3 div.sk-label input.sk-toggleable__control:checked~label.sk-toggleable__label {background-color: #d4ebff;}#sk-container-id-3 input.sk-hidden--visually {border: 0;clip: rect(1px 1px 1px 1px);clip: rect(1px, 1px, 1px, 1px);height: 1px;margin: -1px;overflow: hidden;padding: 0;position: absolute;width: 1px;}#sk-container-id-3 div.sk-estimator {font-family: monospace;background-color: #f0f8ff;border: 1px dotted black;border-radius: 0.25em;box-sizing: border-box;margin-bottom: 0.5em;}#sk-container-id-3 div.sk-estimator:hover {background-color: #d4ebff;}#sk-container-id-3 div.sk-parallel-item::after {content: \"\";width: 100%;border-bottom: 1px solid gray;flex-grow: 1;}#sk-container-id-3 div.sk-label:hover label.sk-toggleable__label {background-color: #d4ebff;}#sk-container-id-3 div.sk-serial::before {content: \"\";position: absolute;border-left: 1px solid gray;box-sizing: border-box;top: 0;bottom: 0;left: 50%;z-index: 0;}#sk-container-id-3 div.sk-serial {display: flex;flex-direction: column;align-items: center;background-color: white;padding-right: 0.2em;padding-left: 0.2em;position: relative;}#sk-container-id-3 div.sk-item {position: relative;z-index: 1;}#sk-container-id-3 div.sk-parallel {display: flex;align-items: stretch;justify-content: center;background-color: white;position: relative;}#sk-container-id-3 div.sk-item::before, #sk-container-id-3 div.sk-parallel-item::before {content: \"\";position: absolute;border-left: 1px solid gray;box-sizing: border-box;top: 0;bottom: 0;left: 50%;z-index: -1;}#sk-container-id-3 div.sk-parallel-item {display: flex;flex-direction: column;z-index: 1;position: relative;background-color: white;}#sk-container-id-3 div.sk-parallel-item:first-child::after {align-self: flex-end;width: 50%;}#sk-container-id-3 div.sk-parallel-item:last-child::after {align-self: flex-start;width: 50%;}#sk-container-id-3 div.sk-parallel-item:only-child::after {width: 0;}#sk-container-id-3 div.sk-dashed-wrapped {border: 1px dashed gray;margin: 0 0.4em 0.5em 0.4em;box-sizing: border-box;padding-bottom: 0.4em;background-color: white;}#sk-container-id-3 div.sk-label label {font-family: monospace;font-weight: bold;display: inline-block;line-height: 1.2em;}#sk-container-id-3 div.sk-label-container {text-align: center;}#sk-container-id-3 div.sk-container {/* jupyter's `normalize.less` sets `[hidden] { display: none; }` but bootstrap.min.css set `[hidden] { display: none !important; }` so we also need the `!important` here to be able to override the default hidden behavior on the sphinx rendered scikit-learn.org. See: https://github.com/scikit-learn/scikit-learn/issues/21755 */display: inline-block !important;position: relative;}#sk-container-id-3 div.sk-text-repr-fallback {display: none;}</style><div id=\"sk-container-id-3\" class=\"sk-top-container\"><div class=\"sk-text-repr-fallback\"><pre>NeuralNetwork(clip_max=5, early_stopping=True, hidden_nodes=[6, 6],\n",
       "              learning_rate=0.0001, max_iters=5000)</pre><b>In a Jupyter environment, please rerun this cell to show the HTML representation or trust the notebook. <br />On GitHub, the HTML representation is unable to render, please try loading this page with nbviewer.org.</b></div><div class=\"sk-container\" hidden><div class=\"sk-item\"><div class=\"sk-estimator sk-toggleable\"><input class=\"sk-toggleable__control sk-hidden--visually\" id=\"sk-estimator-id-3\" type=\"checkbox\" checked><label for=\"sk-estimator-id-3\" class=\"sk-toggleable__label sk-toggleable__label-arrow\">NeuralNetwork</label><div class=\"sk-toggleable__content\"><pre>NeuralNetwork(clip_max=5, early_stopping=True, hidden_nodes=[6, 6],\n",
       "              learning_rate=0.0001, max_iters=5000)</pre></div></div></div></div></div>"
      ],
      "text/plain": [
       "NeuralNetwork(clip_max=5, early_stopping=True, hidden_nodes=[6, 6],\n",
       "              learning_rate=0.0001, max_iters=5000)"
      ]
     },
     "execution_count": 40,
     "metadata": {},
     "output_type": "execute_result"
    }
   ],
   "source": [
    "bd_km_ica_nn.fit(trainx,trainy)"
   ]
  },
  {
   "cell_type": "code",
   "execution_count": 41,
   "metadata": {},
   "outputs": [
    {
     "name": "stdout",
     "output_type": "stream",
     "text": [
      "Training accuracy:  1.0\n",
      "Test accuracy:  1.0\n"
     ]
    }
   ],
   "source": [
    "y_train_pred = bd_km_ica_nn.predict(trainx)\n",
    "\n",
    "y_train_accuracy = accuracy_score(trainy, y_train_pred)\n",
    "\n",
    "print('Training accuracy: ', y_train_accuracy)\n",
    "\n",
    "# Predict labels for test set and assess accuracy\n",
    "y_test_pred = bd_km_ica_nn.predict(testx)\n",
    "\n",
    "y_test_accuracy = accuracy_score(testy, y_test_pred)\n",
    "\n",
    "print('Test accuracy: ', y_test_accuracy)"
   ]
  },
  {
   "cell_type": "markdown",
   "metadata": {},
   "source": [
    "## ICA Small Data - Kmeans"
   ]
  },
  {
   "cell_type": "code",
   "execution_count": 42,
   "metadata": {},
   "outputs": [],
   "source": [
    "centers = []\n",
    "inertia = []\n",
    "for i in range(1,25):\n",
    "    km = cluster.KMeans(n_clusters=i, random_state=0).fit(sd_red)\n",
    "    centers.append(km.cluster_centers_)\n",
    "    inertia.append(km.inertia_)"
   ]
  },
  {
   "cell_type": "code",
   "execution_count": 43,
   "metadata": {},
   "outputs": [
    {
     "data": {
      "text/plain": [
       "[<matplotlib.lines.Line2D at 0x1db94af0340>]"
      ]
     },
     "execution_count": 43,
     "metadata": {},
     "output_type": "execute_result"
    },
    {
     "data": {
      "image/png": "[encoded data removed]",
      "text/plain": [
       "<Figure size 432x288 with 1 Axes>"
      ]
     },
     "metadata": {
      "needs_background": "light"
     },
     "output_type": "display_data"
    }
   ],
   "source": [
    "plt.plot(range(1,25),inertia)"
   ]
  },
  {
   "cell_type": "code",
   "execution_count": 44,
   "metadata": {},
   "outputs": [],
   "source": [
    "kmeanssdica = cluster.KMeans(n_clusters=7)\n",
    "kmeanssdica.fit(sd_red)\n",
    "y_kmeans = kmeanssdica.predict(sd_red)\n",
    "kmsdicalabels = kmeanssdica.labels_"
   ]
  },
  {
   "cell_type": "code",
   "execution_count": 45,
   "metadata": {},
   "outputs": [
    {
     "data": {
      "text/plain": [
       "<matplotlib.collections.PathCollection at 0x1db94b16f70>"
      ]
     },
     "execution_count": 45,
     "metadata": {},
     "output_type": "execute_result"
    },
    {
     "data": {
      "image/png": "[encoded data removed]",
      "text/plain": [
       "<Figure size 432x288 with 1 Axes>"
      ]
     },
     "metadata": {
      "needs_background": "light"
     },
     "output_type": "display_data"
    }
   ],
   "source": [
    "plt.scatter(sd_red.iloc[:, 0], sd_red.iloc[:, 1], c=y_kmeans, s=50, cmap='icefire')\n",
    "\n",
    "centers = kmeanssdica.cluster_centers_\n",
    "plt.scatter(centers[:, 0], centers[:, 1], c='black', s=200, alpha=0.5)"
   ]
  },
  {
   "cell_type": "code",
   "execution_count": 46,
   "metadata": {},
   "outputs": [
    {
     "data": {
      "text/plain": [
       "<mpl_toolkits.mplot3d.art3d.Path3DCollection at 0x1dbaabed8b0>"
      ]
     },
     "execution_count": 46,
     "metadata": {},
     "output_type": "execute_result"
    },
    {
     "data": {
      "image/png": "[encoded data removed]",
      "text/plain": [
       "<Figure size 432x288 with 1 Axes>"
      ]
     },
     "metadata": {
      "needs_background": "light"
     },
     "output_type": "display_data"
    }
   ],
   "source": [
    "fig = plt.figure()\n",
    "ax = plt.axes(projection='3d')\n",
    "ax.scatter3D(sd_red.iloc[:,0],sd_red.iloc[:,1],sd_red.iloc[:,2], c=y_kmeans, s=40, cmap='icefire')"
   ]
  },
  {
   "cell_type": "markdown",
   "metadata": {},
   "source": [
    "## ICA SD Kmeans NN"
   ]
  },
  {
   "cell_type": "code",
   "execution_count": 47,
   "metadata": {},
   "outputs": [
    {
     "data": {
      "text/plain": [
       "array([0, 0, 5, 6, 6, 6, 1, 0, 4, 0, 0, 4, 3, 4, 3, 6, 5, 5, 4, 3, 2, 4,\n",
       "       5, 0, 4, 4, 3, 6, 0, 4, 6, 6, 0, 1, 0, 6, 0, 2, 1, 1, 4, 0, 0, 1,\n",
       "       4, 0, 1, 1, 3, 5, 6, 1, 5, 2, 2, 3, 5, 1, 1, 4, 4, 2, 0, 4, 3, 2,\n",
       "       4, 6, 6, 3, 4, 0, 0, 2, 6, 3, 2, 0, 5, 4, 5, 0, 4, 3, 6, 2, 1, 2,\n",
       "       4, 5, 4, 5, 0, 0, 1, 3, 1, 3, 1, 3, 4, 1, 4, 4, 3, 5, 2, 0, 5, 0,\n",
       "       0, 1, 0, 4, 2, 6, 2, 2, 4, 5, 4, 5, 0, 0, 5, 2, 4, 5, 0, 2, 1, 4,\n",
       "       0, 6, 0, 1, 3, 5, 0, 0, 3, 5, 0, 4, 3, 3, 2, 0, 3, 5, 4, 1, 3, 4,\n",
       "       3, 4, 4, 2, 1, 2, 6, 0, 0, 2, 4, 1, 5, 5, 0, 6, 1, 5, 1, 4, 2, 2,\n",
       "       2, 5, 5, 3, 4, 6, 2, 5, 5, 0, 6, 4, 4, 0, 4, 4, 1, 4, 2, 4, 0, 2,\n",
       "       1, 4, 1, 5, 3, 4, 5, 3, 0, 1, 2, 2, 1, 5, 2, 3, 1, 3, 1, 0, 5, 5,\n",
       "       2, 2, 2, 5, 6, 2, 2, 3, 5, 2, 1, 1, 0, 1, 0, 0, 0, 5, 5, 6, 0, 2,\n",
       "       6, 3, 3, 2, 1, 3, 5, 0, 5, 1, 6, 5, 2, 0, 4, 5, 1, 3, 3, 6, 5, 3,\n",
       "       6, 1, 0, 2, 1, 3, 2, 6, 2, 2, 3, 4, 4, 2, 3, 2, 4, 0, 6, 1, 2, 6,\n",
       "       1, 1, 0, 3, 2, 0, 3, 0, 5, 6, 0, 5, 3, 0, 3, 5, 0, 5, 0, 4, 0, 1,\n",
       "       2, 2, 3, 0, 0, 0, 5, 4, 6, 6, 5, 0, 0, 2, 1, 1, 0, 5, 3, 2, 5, 6,\n",
       "       1, 3, 2, 6, 3, 5, 4, 2, 1, 1, 0, 1, 1, 2, 2, 2, 2, 5, 3, 3, 2, 1,\n",
       "       5, 5, 1, 1, 3, 1, 0, 1, 5, 0, 3, 6, 5, 2, 2, 5, 2, 4, 2, 0, 6, 6,\n",
       "       5, 6, 2, 5, 5, 5, 5, 1, 1, 2, 2, 5, 2, 2, 1, 2, 0, 6, 3, 0, 5, 2,\n",
       "       3, 3, 2, 4, 2, 3, 6, 4, 5, 0, 3, 6, 0, 5, 1, 2, 3, 3, 1, 3, 0, 6,\n",
       "       3, 3, 5, 1, 0, 6, 2, 5, 0, 5, 3, 5, 2, 2, 1, 4, 0, 6, 0, 5, 2, 3,\n",
       "       1, 1, 5, 0, 5, 1, 1, 6, 5, 3, 2, 2, 3, 1, 2, 2, 0])"
      ]
     },
     "execution_count": 47,
     "metadata": {},
     "output_type": "execute_result"
    }
   ],
   "source": [
    "sd_km_ica_nn = sd_red.copy()\n",
    "kmsdicalabels"
   ]
  },
  {
   "cell_type": "code",
   "execution_count": 48,
   "metadata": {},
   "outputs": [],
   "source": [
    "labelsdf = pd.DataFrame(kmsdicalabels, columns=[\"clusters\"])\n",
    "hot = OneHotEncoder().fit_transform(X = labelsdf).toarray()\n",
    "labelsdf2 = pd.DataFrame(hot, columns= ['C1', 'C2', 'C3', 'C4', 'C5', 'C6', 'C7'])"
   ]
  },
  {
   "cell_type": "code",
   "execution_count": 49,
   "metadata": {},
   "outputs": [
    {
     "data": {
      "text/html": [
       "<div>\n",
       "<style scoped>\n",
       "    .dataframe tbody tr th:only-of-type {\n",
       "        vertical-align: middle;\n",
       "    }\n",
       "\n",
       "    .dataframe tbody tr th {\n",
       "        vertical-align: top;\n",
       "    }\n",
       "\n",
       "    .dataframe thead th {\n",
       "        text-align: right;\n",
       "    }\n",
       "</style>\n",
       "<table border=\"1\" class=\"dataframe\">\n",
       "  <thead>\n",
       "    <tr style=\"text-align: right;\">\n",
       "      <th></th>\n",
       "      <th>home_elo</th>\n",
       "      <th>away_elo</th>\n",
       "      <th>spread</th>\n",
       "      <th>h_drives</th>\n",
       "      <th>h_d_explosiveness</th>\n",
       "      <th>h_d_successrate</th>\n",
       "      <th>h_d_stuffrate</th>\n",
       "      <th>h_d_totalPPA</th>\n",
       "      <th>h_o_explosiveness</th>\n",
       "      <th>h_o_successrate</th>\n",
       "      <th>h_o_stuffrate</th>\n",
       "      <th>h_o_totalPPA</th>\n",
       "      <th>C1</th>\n",
       "      <th>C2</th>\n",
       "      <th>C3</th>\n",
       "      <th>C4</th>\n",
       "      <th>C5</th>\n",
       "      <th>C6</th>\n",
       "      <th>C7</th>\n",
       "    </tr>\n",
       "  </thead>\n",
       "  <tbody>\n",
       "    <tr>\n",
       "      <th>0</th>\n",
       "      <td>-0.002060</td>\n",
       "      <td>0.004017</td>\n",
       "      <td>0.000279</td>\n",
       "      <td>0.016841</td>\n",
       "      <td>-0.025823</td>\n",
       "      <td>-0.049544</td>\n",
       "      <td>0.053073</td>\n",
       "      <td>0.009142</td>\n",
       "      <td>-0.030406</td>\n",
       "      <td>-0.072718</td>\n",
       "      <td>0.036021</td>\n",
       "      <td>-0.018216</td>\n",
       "      <td>1.0</td>\n",
       "      <td>0.0</td>\n",
       "      <td>0.0</td>\n",
       "      <td>0.0</td>\n",
       "      <td>0.0</td>\n",
       "      <td>0.0</td>\n",
       "      <td>0.0</td>\n",
       "    </tr>\n",
       "    <tr>\n",
       "      <th>1</th>\n",
       "      <td>0.016955</td>\n",
       "      <td>-0.112731</td>\n",
       "      <td>0.025059</td>\n",
       "      <td>-0.021510</td>\n",
       "      <td>-0.026816</td>\n",
       "      <td>-0.022133</td>\n",
       "      <td>0.036774</td>\n",
       "      <td>-0.021203</td>\n",
       "      <td>0.071892</td>\n",
       "      <td>-0.022271</td>\n",
       "      <td>-0.005581</td>\n",
       "      <td>-0.019293</td>\n",
       "      <td>1.0</td>\n",
       "      <td>0.0</td>\n",
       "      <td>0.0</td>\n",
       "      <td>0.0</td>\n",
       "      <td>0.0</td>\n",
       "      <td>0.0</td>\n",
       "      <td>0.0</td>\n",
       "    </tr>\n",
       "    <tr>\n",
       "      <th>2</th>\n",
       "      <td>0.010769</td>\n",
       "      <td>0.029323</td>\n",
       "      <td>-0.070987</td>\n",
       "      <td>0.048590</td>\n",
       "      <td>0.024828</td>\n",
       "      <td>0.064361</td>\n",
       "      <td>-0.011390</td>\n",
       "      <td>-0.004466</td>\n",
       "      <td>0.002608</td>\n",
       "      <td>0.036984</td>\n",
       "      <td>0.005451</td>\n",
       "      <td>-0.060105</td>\n",
       "      <td>0.0</td>\n",
       "      <td>0.0</td>\n",
       "      <td>0.0</td>\n",
       "      <td>0.0</td>\n",
       "      <td>0.0</td>\n",
       "      <td>1.0</td>\n",
       "      <td>0.0</td>\n",
       "    </tr>\n",
       "    <tr>\n",
       "      <th>3</th>\n",
       "      <td>-0.021201</td>\n",
       "      <td>-0.005416</td>\n",
       "      <td>-0.032742</td>\n",
       "      <td>0.004604</td>\n",
       "      <td>0.000025</td>\n",
       "      <td>0.050453</td>\n",
       "      <td>0.030760</td>\n",
       "      <td>0.021983</td>\n",
       "      <td>-0.041110</td>\n",
       "      <td>0.070871</td>\n",
       "      <td>-0.026444</td>\n",
       "      <td>0.070660</td>\n",
       "      <td>0.0</td>\n",
       "      <td>0.0</td>\n",
       "      <td>0.0</td>\n",
       "      <td>0.0</td>\n",
       "      <td>0.0</td>\n",
       "      <td>0.0</td>\n",
       "      <td>1.0</td>\n",
       "    </tr>\n",
       "    <tr>\n",
       "      <th>4</th>\n",
       "      <td>0.018099</td>\n",
       "      <td>-0.049493</td>\n",
       "      <td>-0.028268</td>\n",
       "      <td>-0.049422</td>\n",
       "      <td>-0.025216</td>\n",
       "      <td>-0.006442</td>\n",
       "      <td>0.036730</td>\n",
       "      <td>0.020532</td>\n",
       "      <td>0.019121</td>\n",
       "      <td>0.048430</td>\n",
       "      <td>-0.000314</td>\n",
       "      <td>0.081891</td>\n",
       "      <td>0.0</td>\n",
       "      <td>0.0</td>\n",
       "      <td>0.0</td>\n",
       "      <td>0.0</td>\n",
       "      <td>0.0</td>\n",
       "      <td>0.0</td>\n",
       "      <td>1.0</td>\n",
       "    </tr>\n",
       "    <tr>\n",
       "      <th>...</th>\n",
       "      <td>...</td>\n",
       "      <td>...</td>\n",
       "      <td>...</td>\n",
       "      <td>...</td>\n",
       "      <td>...</td>\n",
       "      <td>...</td>\n",
       "      <td>...</td>\n",
       "      <td>...</td>\n",
       "      <td>...</td>\n",
       "      <td>...</td>\n",
       "      <td>...</td>\n",
       "      <td>...</td>\n",
       "      <td>...</td>\n",
       "      <td>...</td>\n",
       "      <td>...</td>\n",
       "      <td>...</td>\n",
       "      <td>...</td>\n",
       "      <td>...</td>\n",
       "      <td>...</td>\n",
       "    </tr>\n",
       "    <tr>\n",
       "      <th>452</th>\n",
       "      <td>-0.008019</td>\n",
       "      <td>-0.022930</td>\n",
       "      <td>-0.015796</td>\n",
       "      <td>0.017569</td>\n",
       "      <td>0.020773</td>\n",
       "      <td>-0.048307</td>\n",
       "      <td>-0.017238</td>\n",
       "      <td>-0.138943</td>\n",
       "      <td>0.049544</td>\n",
       "      <td>0.018865</td>\n",
       "      <td>-0.061320</td>\n",
       "      <td>-0.037239</td>\n",
       "      <td>0.0</td>\n",
       "      <td>0.0</td>\n",
       "      <td>0.0</td>\n",
       "      <td>1.0</td>\n",
       "      <td>0.0</td>\n",
       "      <td>0.0</td>\n",
       "      <td>0.0</td>\n",
       "    </tr>\n",
       "    <tr>\n",
       "      <th>453</th>\n",
       "      <td>-0.021927</td>\n",
       "      <td>0.016181</td>\n",
       "      <td>-0.016956</td>\n",
       "      <td>-0.001722</td>\n",
       "      <td>0.131413</td>\n",
       "      <td>-0.042793</td>\n",
       "      <td>-0.003202</td>\n",
       "      <td>-0.022887</td>\n",
       "      <td>-0.017881</td>\n",
       "      <td>0.058587</td>\n",
       "      <td>-0.021931</td>\n",
       "      <td>-0.013525</td>\n",
       "      <td>0.0</td>\n",
       "      <td>1.0</td>\n",
       "      <td>0.0</td>\n",
       "      <td>0.0</td>\n",
       "      <td>0.0</td>\n",
       "      <td>0.0</td>\n",
       "      <td>0.0</td>\n",
       "    </tr>\n",
       "    <tr>\n",
       "      <th>454</th>\n",
       "      <td>0.008558</td>\n",
       "      <td>0.015158</td>\n",
       "      <td>-0.023538</td>\n",
       "      <td>-0.014499</td>\n",
       "      <td>-0.027155</td>\n",
       "      <td>0.007636</td>\n",
       "      <td>0.062029</td>\n",
       "      <td>-0.011034</td>\n",
       "      <td>-0.055229</td>\n",
       "      <td>-0.011337</td>\n",
       "      <td>0.035834</td>\n",
       "      <td>0.026150</td>\n",
       "      <td>0.0</td>\n",
       "      <td>0.0</td>\n",
       "      <td>1.0</td>\n",
       "      <td>0.0</td>\n",
       "      <td>0.0</td>\n",
       "      <td>0.0</td>\n",
       "      <td>0.0</td>\n",
       "    </tr>\n",
       "    <tr>\n",
       "      <th>455</th>\n",
       "      <td>-0.014774</td>\n",
       "      <td>-0.028599</td>\n",
       "      <td>-0.061545</td>\n",
       "      <td>-0.074516</td>\n",
       "      <td>0.049699</td>\n",
       "      <td>0.006969</td>\n",
       "      <td>0.029811</td>\n",
       "      <td>0.005183</td>\n",
       "      <td>0.023281</td>\n",
       "      <td>-0.000151</td>\n",
       "      <td>0.064194</td>\n",
       "      <td>-0.051680</td>\n",
       "      <td>0.0</td>\n",
       "      <td>0.0</td>\n",
       "      <td>1.0</td>\n",
       "      <td>0.0</td>\n",
       "      <td>0.0</td>\n",
       "      <td>0.0</td>\n",
       "      <td>0.0</td>\n",
       "    </tr>\n",
       "    <tr>\n",
       "      <th>456</th>\n",
       "      <td>-0.007405</td>\n",
       "      <td>-0.059823</td>\n",
       "      <td>0.041597</td>\n",
       "      <td>0.055352</td>\n",
       "      <td>-0.081984</td>\n",
       "      <td>-0.052810</td>\n",
       "      <td>0.010421</td>\n",
       "      <td>-0.004610</td>\n",
       "      <td>0.021137</td>\n",
       "      <td>0.011417</td>\n",
       "      <td>0.044460</td>\n",
       "      <td>0.034958</td>\n",
       "      <td>1.0</td>\n",
       "      <td>0.0</td>\n",
       "      <td>0.0</td>\n",
       "      <td>0.0</td>\n",
       "      <td>0.0</td>\n",
       "      <td>0.0</td>\n",
       "      <td>0.0</td>\n",
       "    </tr>\n",
       "  </tbody>\n",
       "</table>\n",
       "<p>457 rows × 19 columns</p>\n",
       "</div>"
      ],
      "text/plain": [
       "     home_elo  away_elo    spread  h_drives  h_d_explosiveness  \\\n",
       "0   -0.002060  0.004017  0.000279  0.016841          -0.025823   \n",
       "1    0.016955 -0.112731  0.025059 -0.021510          -0.026816   \n",
       "2    0.010769  0.029323 -0.070987  0.048590           0.024828   \n",
       "3   -0.021201 -0.005416 -0.032742  0.004604           0.000025   \n",
       "4    0.018099 -0.049493 -0.028268 -0.049422          -0.025216   \n",
       "..        ...       ...       ...       ...                ...   \n",
       "452 -0.008019 -0.022930 -0.015796  0.017569           0.020773   \n",
       "453 -0.021927  0.016181 -0.016956 -0.001722           0.131413   \n",
       "454  0.008558  0.015158 -0.023538 -0.014499          -0.027155   \n",
       "455 -0.014774 -0.028599 -0.061545 -0.074516           0.049699   \n",
       "456 -0.007405 -0.059823  0.041597  0.055352          -0.081984   \n",
       "\n",
       "     h_d_successrate  h_d_stuffrate  h_d_totalPPA  h_o_explosiveness  \\\n",
       "0          -0.049544       0.053073      0.009142          -0.030406   \n",
       "1          -0.022133       0.036774     -0.021203           0.071892   \n",
       "2           0.064361      -0.011390     -0.004466           0.002608   \n",
       "3           0.050453       0.030760      0.021983          -0.041110   \n",
       "4          -0.006442       0.036730      0.020532           0.019121   \n",
       "..               ...            ...           ...                ...   \n",
       "452        -0.048307      -0.017238     -0.138943           0.049544   \n",
       "453        -0.042793      -0.003202     -0.022887          -0.017881   \n",
       "454         0.007636       0.062029     -0.011034          -0.055229   \n",
       "455         0.006969       0.029811      0.005183           0.023281   \n",
       "456        -0.052810       0.010421     -0.004610           0.021137   \n",
       "\n",
       "     h_o_successrate  h_o_stuffrate  h_o_totalPPA   C1   C2   C3   C4   C5  \\\n",
       "0          -0.072718       0.036021     -0.018216  1.0  0.0  0.0  0.0  0.0   \n",
       "1          -0.022271      -0.005581     -0.019293  1.0  0.0  0.0  0.0  0.0   \n",
       "2           0.036984       0.005451     -0.060105  0.0  0.0  0.0  0.0  0.0   \n",
       "3           0.070871      -0.026444      0.070660  0.0  0.0  0.0  0.0  0.0   \n",
       "4           0.048430      -0.000314      0.081891  0.0  0.0  0.0  0.0  0.0   \n",
       "..               ...            ...           ...  ...  ...  ...  ...  ...   \n",
       "452         0.018865      -0.061320     -0.037239  0.0  0.0  0.0  1.0  0.0   \n",
       "453         0.058587      -0.021931     -0.013525  0.0  1.0  0.0  0.0  0.0   \n",
       "454        -0.011337       0.035834      0.026150  0.0  0.0  1.0  0.0  0.0   \n",
       "455        -0.000151       0.064194     -0.051680  0.0  0.0  1.0  0.0  0.0   \n",
       "456         0.011417       0.044460      0.034958  1.0  0.0  0.0  0.0  0.0   \n",
       "\n",
       "      C6   C7  \n",
       "0    0.0  0.0  \n",
       "1    0.0  0.0  \n",
       "2    1.0  0.0  \n",
       "3    0.0  1.0  \n",
       "4    0.0  1.0  \n",
       "..   ...  ...  \n",
       "452  0.0  0.0  \n",
       "453  0.0  0.0  \n",
       "454  0.0  0.0  \n",
       "455  0.0  0.0  \n",
       "456  0.0  0.0  \n",
       "\n",
       "[457 rows x 19 columns]"
      ]
     },
     "execution_count": 49,
     "metadata": {},
     "output_type": "execute_result"
    }
   ],
   "source": [
    "sd_km_ica_nn_df = pd.concat([sd_km_ica_nn,labelsdf2], axis=1)\n",
    "sd_km_ica_nn_df"
   ]
  },
  {
   "cell_type": "code",
   "execution_count": 50,
   "metadata": {},
   "outputs": [],
   "source": [
    "trainx, testx, trainy, testy = train_test_split(sd_km_ica_nn_df, sd_target, test_size=.3, random_state=42)"
   ]
  },
  {
   "cell_type": "code",
   "execution_count": 51,
   "metadata": {},
   "outputs": [],
   "source": [
    "sd_km_ica_nn = mlrose.NeuralNetwork(hidden_nodes = [6,6], activation = 'relu', algorithm = 'gradient_descent', max_iters = 5000, bias = True, is_classifier = True, learning_rate = 0.0001,\n",
    "early_stopping = True, clip_max = 5, max_attempts = 1000, random_state = 3)"
   ]
  },
  {
   "cell_type": "code",
   "execution_count": 52,
   "metadata": {},
   "outputs": [
    {
     "data": {
      "text/html": [
       "<style>#sk-container-id-4 {color: black;background-color: white;}#sk-container-id-4 pre{padding: 0;}#sk-container-id-4 div.sk-toggleable {background-color: white;}#sk-container-id-4 label.sk-toggleable__label {cursor: pointer;display: block;width: 100%;margin-bottom: 0;padding: 0.3em;box-sizing: border-box;text-align: center;}#sk-container-id-4 label.sk-toggleable__label-arrow:before {content: \"▸\";float: left;margin-right: 0.25em;color: #696969;}#sk-container-id-4 label.sk-toggleable__label-arrow:hover:before {color: black;}#sk-container-id-4 div.sk-estimator:hover label.sk-toggleable__label-arrow:before {color: black;}#sk-container-id-4 div.sk-toggleable__content {max-height: 0;max-width: 0;overflow: hidden;text-align: left;background-color: #f0f8ff;}#sk-container-id-4 div.sk-toggleable__content pre {margin: 0.2em;color: black;border-radius: 0.25em;background-color: #f0f8ff;}#sk-container-id-4 input.sk-toggleable__control:checked~div.sk-toggleable__content {max-height: 200px;max-width: 100%;overflow: auto;}#sk-container-id-4 input.sk-toggleable__control:checked~label.sk-toggleable__label-arrow:before {content: \"▾\";}#sk-container-id-4 div.sk-estimator input.sk-toggleable__control:checked~label.sk-toggleable__label {background-color: #d4ebff;}#sk-container-id-4 div.sk-label input.sk-toggleable__control:checked~label.sk-toggleable__label {background-color: #d4ebff;}#sk-container-id-4 input.sk-hidden--visually {border: 0;clip: rect(1px 1px 1px 1px);clip: rect(1px, 1px, 1px, 1px);height: 1px;margin: -1px;overflow: hidden;padding: 0;position: absolute;width: 1px;}#sk-container-id-4 div.sk-estimator {font-family: monospace;background-color: #f0f8ff;border: 1px dotted black;border-radius: 0.25em;box-sizing: border-box;margin-bottom: 0.5em;}#sk-container-id-4 div.sk-estimator:hover {background-color: #d4ebff;}#sk-container-id-4 div.sk-parallel-item::after {content: \"\";width: 100%;border-bottom: 1px solid gray;flex-grow: 1;}#sk-container-id-4 div.sk-label:hover label.sk-toggleable__label {background-color: #d4ebff;}#sk-container-id-4 div.sk-serial::before {content: \"\";position: absolute;border-left: 1px solid gray;box-sizing: border-box;top: 0;bottom: 0;left: 50%;z-index: 0;}#sk-container-id-4 div.sk-serial {display: flex;flex-direction: column;align-items: center;background-color: white;padding-right: 0.2em;padding-left: 0.2em;position: relative;}#sk-container-id-4 div.sk-item {position: relative;z-index: 1;}#sk-container-id-4 div.sk-parallel {display: flex;align-items: stretch;justify-content: center;background-color: white;position: relative;}#sk-container-id-4 div.sk-item::before, #sk-container-id-4 div.sk-parallel-item::before {content: \"\";position: absolute;border-left: 1px solid gray;box-sizing: border-box;top: 0;bottom: 0;left: 50%;z-index: -1;}#sk-container-id-4 div.sk-parallel-item {display: flex;flex-direction: column;z-index: 1;position: relative;background-color: white;}#sk-container-id-4 div.sk-parallel-item:first-child::after {align-self: flex-end;width: 50%;}#sk-container-id-4 div.sk-parallel-item:last-child::after {align-self: flex-start;width: 50%;}#sk-container-id-4 div.sk-parallel-item:only-child::after {width: 0;}#sk-container-id-4 div.sk-dashed-wrapped {border: 1px dashed gray;margin: 0 0.4em 0.5em 0.4em;box-sizing: border-box;padding-bottom: 0.4em;background-color: white;}#sk-container-id-4 div.sk-label label {font-family: monospace;font-weight: bold;display: inline-block;line-height: 1.2em;}#sk-container-id-4 div.sk-label-container {text-align: center;}#sk-container-id-4 div.sk-container {/* jupyter's `normalize.less` sets `[hidden] { display: none; }` but bootstrap.min.css set `[hidden] { display: none !important; }` so we also need the `!important` here to be able to override the default hidden behavior on the sphinx rendered scikit-learn.org. See: https://github.com/scikit-learn/scikit-learn/issues/21755 */display: inline-block !important;position: relative;}#sk-container-id-4 div.sk-text-repr-fallback {display: none;}</style><div id=\"sk-container-id-4\" class=\"sk-top-container\"><div class=\"sk-text-repr-fallback\"><pre>NeuralNetwork(clip_max=5, early_stopping=True, hidden_nodes=[6, 6],\n",
       "              learning_rate=0.0001, max_iters=5000)</pre><b>In a Jupyter environment, please rerun this cell to show the HTML representation or trust the notebook. <br />On GitHub, the HTML representation is unable to render, please try loading this page with nbviewer.org.</b></div><div class=\"sk-container\" hidden><div class=\"sk-item\"><div class=\"sk-estimator sk-toggleable\"><input class=\"sk-toggleable__control sk-hidden--visually\" id=\"sk-estimator-id-4\" type=\"checkbox\" checked><label for=\"sk-estimator-id-4\" class=\"sk-toggleable__label sk-toggleable__label-arrow\">NeuralNetwork</label><div class=\"sk-toggleable__content\"><pre>NeuralNetwork(clip_max=5, early_stopping=True, hidden_nodes=[6, 6],\n",
       "              learning_rate=0.0001, max_iters=5000)</pre></div></div></div></div></div>"
      ],
      "text/plain": [
       "NeuralNetwork(clip_max=5, early_stopping=True, hidden_nodes=[6, 6],\n",
       "              learning_rate=0.0001, max_iters=5000)"
      ]
     },
     "execution_count": 52,
     "metadata": {},
     "output_type": "execute_result"
    }
   ],
   "source": [
    "sd_km_ica_nn.fit(trainx,trainy)"
   ]
  },
  {
   "cell_type": "code",
   "execution_count": 53,
   "metadata": {},
   "outputs": [
    {
     "name": "stdout",
     "output_type": "stream",
     "text": [
      "Training accuracy:  0.5360501567398119\n",
      "Test accuracy:  0.5217391304347826\n"
     ]
    }
   ],
   "source": [
    "y_train_pred = sd_km_ica_nn.predict(trainx)\n",
    "\n",
    "y_train_accuracy = accuracy_score(trainy, y_train_pred)\n",
    "\n",
    "print('Training accuracy: ', y_train_accuracy)\n",
    "\n",
    "# Predict labels for test set and assess accuracy\n",
    "y_test_pred = sd_km_ica_nn.predict(testx)\n",
    "\n",
    "y_test_accuracy = accuracy_score(testy, y_test_pred)\n",
    "\n",
    "print('Test accuracy: ', y_test_accuracy)"
   ]
  },
  {
   "cell_type": "markdown",
   "metadata": {},
   "source": [
    "## ICA Big data GMM "
   ]
  },
  {
   "cell_type": "code",
   "execution_count": 54,
   "metadata": {},
   "outputs": [
    {
     "name": "stderr",
     "output_type": "stream",
     "text": [
      "C:\\Users\\magamp\\AppData\\Roaming\\Python\\Python38\\site-packages\\sklearn\\utils\\validation.py:1858: FutureWarning: Feature names only support names that are all strings. Got feature names with dtypes: ['int', 'str']. An error will be raised in 1.2.\n",
      "  warnings.warn(\n",
      "C:\\Users\\magamp\\AppData\\Roaming\\Python\\Python38\\site-packages\\sklearn\\utils\\validation.py:1858: FutureWarning: Feature names only support names that are all strings. Got feature names with dtypes: ['int', 'str']. An error will be raised in 1.2.\n",
      "  warnings.warn(\n",
      "C:\\Users\\magamp\\AppData\\Roaming\\Python\\Python38\\site-packages\\sklearn\\utils\\validation.py:1858: FutureWarning: Feature names only support names that are all strings. Got feature names with dtypes: ['int', 'str']. An error will be raised in 1.2.\n",
      "  warnings.warn(\n",
      "C:\\Users\\magamp\\AppData\\Roaming\\Python\\Python38\\site-packages\\sklearn\\utils\\validation.py:1858: FutureWarning: Feature names only support names that are all strings. Got feature names with dtypes: ['int', 'str']. An error will be raised in 1.2.\n",
      "  warnings.warn(\n",
      "C:\\Users\\magamp\\AppData\\Roaming\\Python\\Python38\\site-packages\\sklearn\\utils\\validation.py:1858: FutureWarning: Feature names only support names that are all strings. Got feature names with dtypes: ['int', 'str']. An error will be raised in 1.2.\n",
      "  warnings.warn(\n",
      "C:\\Users\\magamp\\AppData\\Roaming\\Python\\Python38\\site-packages\\sklearn\\utils\\validation.py:1858: FutureWarning: Feature names only support names that are all strings. Got feature names with dtypes: ['int', 'str']. An error will be raised in 1.2.\n",
      "  warnings.warn(\n",
      "C:\\Users\\magamp\\AppData\\Roaming\\Python\\Python38\\site-packages\\sklearn\\utils\\validation.py:1858: FutureWarning: Feature names only support names that are all strings. Got feature names with dtypes: ['int', 'str']. An error will be raised in 1.2.\n",
      "  warnings.warn(\n",
      "C:\\Users\\magamp\\AppData\\Roaming\\Python\\Python38\\site-packages\\sklearn\\utils\\validation.py:1858: FutureWarning: Feature names only support names that are all strings. Got feature names with dtypes: ['int', 'str']. An error will be raised in 1.2.\n",
      "  warnings.warn(\n",
      "C:\\Users\\magamp\\AppData\\Roaming\\Python\\Python38\\site-packages\\sklearn\\utils\\validation.py:1858: FutureWarning: Feature names only support names that are all strings. Got feature names with dtypes: ['int', 'str']. An error will be raised in 1.2.\n",
      "  warnings.warn(\n",
      "C:\\Users\\magamp\\AppData\\Roaming\\Python\\Python38\\site-packages\\sklearn\\utils\\validation.py:1858: FutureWarning: Feature names only support names that are all strings. Got feature names with dtypes: ['int', 'str']. An error will be raised in 1.2.\n",
      "  warnings.warn(\n",
      "C:\\Users\\magamp\\AppData\\Roaming\\Python\\Python38\\site-packages\\sklearn\\utils\\validation.py:1858: FutureWarning: Feature names only support names that are all strings. Got feature names with dtypes: ['int', 'str']. An error will be raised in 1.2.\n",
      "  warnings.warn(\n",
      "C:\\Users\\magamp\\AppData\\Roaming\\Python\\Python38\\site-packages\\sklearn\\utils\\validation.py:1858: FutureWarning: Feature names only support names that are all strings. Got feature names with dtypes: ['int', 'str']. An error will be raised in 1.2.\n",
      "  warnings.warn(\n",
      "C:\\Users\\magamp\\AppData\\Roaming\\Python\\Python38\\site-packages\\sklearn\\utils\\validation.py:1858: FutureWarning: Feature names only support names that are all strings. Got feature names with dtypes: ['int', 'str']. An error will be raised in 1.2.\n",
      "  warnings.warn(\n",
      "C:\\Users\\magamp\\AppData\\Roaming\\Python\\Python38\\site-packages\\sklearn\\utils\\validation.py:1858: FutureWarning: Feature names only support names that are all strings. Got feature names with dtypes: ['int', 'str']. An error will be raised in 1.2.\n",
      "  warnings.warn(\n",
      "C:\\Users\\magamp\\AppData\\Roaming\\Python\\Python38\\site-packages\\sklearn\\utils\\validation.py:1858: FutureWarning: Feature names only support names that are all strings. Got feature names with dtypes: ['int', 'str']. An error will be raised in 1.2.\n",
      "  warnings.warn(\n",
      "C:\\Users\\magamp\\AppData\\Roaming\\Python\\Python38\\site-packages\\sklearn\\utils\\validation.py:1858: FutureWarning: Feature names only support names that are all strings. Got feature names with dtypes: ['int', 'str']. An error will be raised in 1.2.\n",
      "  warnings.warn(\n",
      "C:\\Users\\magamp\\AppData\\Roaming\\Python\\Python38\\site-packages\\sklearn\\utils\\validation.py:1858: FutureWarning: Feature names only support names that are all strings. Got feature names with dtypes: ['int', 'str']. An error will be raised in 1.2.\n",
      "  warnings.warn(\n",
      "C:\\Users\\magamp\\AppData\\Roaming\\Python\\Python38\\site-packages\\sklearn\\utils\\validation.py:1858: FutureWarning: Feature names only support names that are all strings. Got feature names with dtypes: ['int', 'str']. An error will be raised in 1.2.\n",
      "  warnings.warn(\n",
      "C:\\Users\\magamp\\AppData\\Roaming\\Python\\Python38\\site-packages\\sklearn\\utils\\validation.py:1858: FutureWarning: Feature names only support names that are all strings. Got feature names with dtypes: ['int', 'str']. An error will be raised in 1.2.\n",
      "  warnings.warn(\n",
      "C:\\Users\\magamp\\AppData\\Roaming\\Python\\Python38\\site-packages\\sklearn\\utils\\validation.py:1858: FutureWarning: Feature names only support names that are all strings. Got feature names with dtypes: ['int', 'str']. An error will be raised in 1.2.\n",
      "  warnings.warn(\n",
      "C:\\Users\\magamp\\AppData\\Roaming\\Python\\Python38\\site-packages\\sklearn\\utils\\validation.py:1858: FutureWarning: Feature names only support names that are all strings. Got feature names with dtypes: ['int', 'str']. An error will be raised in 1.2.\n",
      "  warnings.warn(\n",
      "C:\\Users\\magamp\\AppData\\Roaming\\Python\\Python38\\site-packages\\sklearn\\utils\\validation.py:1858: FutureWarning: Feature names only support names that are all strings. Got feature names with dtypes: ['int', 'str']. An error will be raised in 1.2.\n",
      "  warnings.warn(\n",
      "C:\\Users\\magamp\\AppData\\Roaming\\Python\\Python38\\site-packages\\sklearn\\utils\\validation.py:1858: FutureWarning: Feature names only support names that are all strings. Got feature names with dtypes: ['int', 'str']. An error will be raised in 1.2.\n",
      "  warnings.warn(\n",
      "C:\\Users\\magamp\\AppData\\Roaming\\Python\\Python38\\site-packages\\sklearn\\utils\\validation.py:1858: FutureWarning: Feature names only support names that are all strings. Got feature names with dtypes: ['int', 'str']. An error will be raised in 1.2.\n",
      "  warnings.warn(\n",
      "C:\\Users\\magamp\\AppData\\Roaming\\Python\\Python38\\site-packages\\sklearn\\utils\\validation.py:1858: FutureWarning: Feature names only support names that are all strings. Got feature names with dtypes: ['int', 'str']. An error will be raised in 1.2.\n",
      "  warnings.warn(\n",
      "C:\\Users\\magamp\\AppData\\Roaming\\Python\\Python38\\site-packages\\sklearn\\utils\\validation.py:1858: FutureWarning: Feature names only support names that are all strings. Got feature names with dtypes: ['int', 'str']. An error will be raised in 1.2.\n",
      "  warnings.warn(\n",
      "C:\\Users\\magamp\\AppData\\Roaming\\Python\\Python38\\site-packages\\sklearn\\utils\\validation.py:1858: FutureWarning: Feature names only support names that are all strings. Got feature names with dtypes: ['int', 'str']. An error will be raised in 1.2.\n",
      "  warnings.warn(\n",
      "C:\\Users\\magamp\\AppData\\Roaming\\Python\\Python38\\site-packages\\sklearn\\utils\\validation.py:1858: FutureWarning: Feature names only support names that are all strings. Got feature names with dtypes: ['int', 'str']. An error will be raised in 1.2.\n",
      "  warnings.warn(\n",
      "C:\\Users\\magamp\\AppData\\Roaming\\Python\\Python38\\site-packages\\sklearn\\utils\\validation.py:1858: FutureWarning: Feature names only support names that are all strings. Got feature names with dtypes: ['int', 'str']. An error will be raised in 1.2.\n",
      "  warnings.warn(\n",
      "C:\\Users\\magamp\\AppData\\Roaming\\Python\\Python38\\site-packages\\sklearn\\utils\\validation.py:1858: FutureWarning: Feature names only support names that are all strings. Got feature names with dtypes: ['int', 'str']. An error will be raised in 1.2.\n",
      "  warnings.warn(\n",
      "C:\\Users\\magamp\\AppData\\Roaming\\Python\\Python38\\site-packages\\sklearn\\utils\\validation.py:1858: FutureWarning: Feature names only support names that are all strings. Got feature names with dtypes: ['int', 'str']. An error will be raised in 1.2.\n",
      "  warnings.warn(\n",
      "C:\\Users\\magamp\\AppData\\Roaming\\Python\\Python38\\site-packages\\sklearn\\utils\\validation.py:1858: FutureWarning: Feature names only support names that are all strings. Got feature names with dtypes: ['int', 'str']. An error will be raised in 1.2.\n",
      "  warnings.warn(\n",
      "C:\\Users\\magamp\\AppData\\Roaming\\Python\\Python38\\site-packages\\sklearn\\utils\\validation.py:1858: FutureWarning: Feature names only support names that are all strings. Got feature names with dtypes: ['int', 'str']. An error will be raised in 1.2.\n",
      "  warnings.warn(\n",
      "C:\\Users\\magamp\\AppData\\Roaming\\Python\\Python38\\site-packages\\sklearn\\utils\\validation.py:1858: FutureWarning: Feature names only support names that are all strings. Got feature names with dtypes: ['int', 'str']. An error will be raised in 1.2.\n",
      "  warnings.warn(\n",
      "C:\\Users\\magamp\\AppData\\Roaming\\Python\\Python38\\site-packages\\sklearn\\utils\\validation.py:1858: FutureWarning: Feature names only support names that are all strings. Got feature names with dtypes: ['int', 'str']. An error will be raised in 1.2.\n",
      "  warnings.warn(\n",
      "C:\\Users\\magamp\\AppData\\Roaming\\Python\\Python38\\site-packages\\sklearn\\utils\\validation.py:1858: FutureWarning: Feature names only support names that are all strings. Got feature names with dtypes: ['int', 'str']. An error will be raised in 1.2.\n",
      "  warnings.warn(\n",
      "C:\\Users\\magamp\\AppData\\Roaming\\Python\\Python38\\site-packages\\sklearn\\utils\\validation.py:1858: FutureWarning: Feature names only support names that are all strings. Got feature names with dtypes: ['int', 'str']. An error will be raised in 1.2.\n",
      "  warnings.warn(\n",
      "C:\\Users\\magamp\\AppData\\Roaming\\Python\\Python38\\site-packages\\sklearn\\utils\\validation.py:1858: FutureWarning: Feature names only support names that are all strings. Got feature names with dtypes: ['int', 'str']. An error will be raised in 1.2.\n",
      "  warnings.warn(\n",
      "C:\\Users\\magamp\\AppData\\Roaming\\Python\\Python38\\site-packages\\sklearn\\utils\\validation.py:1858: FutureWarning: Feature names only support names that are all strings. Got feature names with dtypes: ['int', 'str']. An error will be raised in 1.2.\n",
      "  warnings.warn(\n",
      "C:\\Users\\magamp\\AppData\\Roaming\\Python\\Python38\\site-packages\\sklearn\\utils\\validation.py:1858: FutureWarning: Feature names only support names that are all strings. Got feature names with dtypes: ['int', 'str']. An error will be raised in 1.2.\n",
      "  warnings.warn(\n",
      "C:\\Users\\magamp\\AppData\\Roaming\\Python\\Python38\\site-packages\\sklearn\\utils\\validation.py:1858: FutureWarning: Feature names only support names that are all strings. Got feature names with dtypes: ['int', 'str']. An error will be raised in 1.2.\n",
      "  warnings.warn(\n",
      "C:\\Users\\magamp\\AppData\\Roaming\\Python\\Python38\\site-packages\\sklearn\\utils\\validation.py:1858: FutureWarning: Feature names only support names that are all strings. Got feature names with dtypes: ['int', 'str']. An error will be raised in 1.2.\n",
      "  warnings.warn(\n",
      "C:\\Users\\magamp\\AppData\\Roaming\\Python\\Python38\\site-packages\\sklearn\\utils\\validation.py:1858: FutureWarning: Feature names only support names that are all strings. Got feature names with dtypes: ['int', 'str']. An error will be raised in 1.2.\n",
      "  warnings.warn(\n",
      "C:\\Users\\magamp\\AppData\\Roaming\\Python\\Python38\\site-packages\\sklearn\\utils\\validation.py:1858: FutureWarning: Feature names only support names that are all strings. Got feature names with dtypes: ['int', 'str']. An error will be raised in 1.2.\n",
      "  warnings.warn(\n",
      "C:\\Users\\magamp\\AppData\\Roaming\\Python\\Python38\\site-packages\\sklearn\\utils\\validation.py:1858: FutureWarning: Feature names only support names that are all strings. Got feature names with dtypes: ['int', 'str']. An error will be raised in 1.2.\n",
      "  warnings.warn(\n",
      "C:\\Users\\magamp\\AppData\\Roaming\\Python\\Python38\\site-packages\\sklearn\\utils\\validation.py:1858: FutureWarning: Feature names only support names that are all strings. Got feature names with dtypes: ['int', 'str']. An error will be raised in 1.2.\n",
      "  warnings.warn(\n",
      "C:\\Users\\magamp\\AppData\\Roaming\\Python\\Python38\\site-packages\\sklearn\\utils\\validation.py:1858: FutureWarning: Feature names only support names that are all strings. Got feature names with dtypes: ['int', 'str']. An error will be raised in 1.2.\n",
      "  warnings.warn(\n",
      "C:\\Users\\magamp\\AppData\\Roaming\\Python\\Python38\\site-packages\\sklearn\\utils\\validation.py:1858: FutureWarning: Feature names only support names that are all strings. Got feature names with dtypes: ['int', 'str']. An error will be raised in 1.2.\n",
      "  warnings.warn(\n",
      "C:\\Users\\magamp\\AppData\\Roaming\\Python\\Python38\\site-packages\\sklearn\\utils\\validation.py:1858: FutureWarning: Feature names only support names that are all strings. Got feature names with dtypes: ['int', 'str']. An error will be raised in 1.2.\n",
      "  warnings.warn(\n",
      "C:\\Users\\magamp\\AppData\\Roaming\\Python\\Python38\\site-packages\\sklearn\\utils\\validation.py:1858: FutureWarning: Feature names only support names that are all strings. Got feature names with dtypes: ['int', 'str']. An error will be raised in 1.2.\n",
      "  warnings.warn(\n",
      "C:\\Users\\magamp\\AppData\\Roaming\\Python\\Python38\\site-packages\\sklearn\\utils\\validation.py:1858: FutureWarning: Feature names only support names that are all strings. Got feature names with dtypes: ['int', 'str']. An error will be raised in 1.2.\n",
      "  warnings.warn(\n",
      "C:\\Users\\magamp\\AppData\\Roaming\\Python\\Python38\\site-packages\\sklearn\\utils\\validation.py:1858: FutureWarning: Feature names only support names that are all strings. Got feature names with dtypes: ['int', 'str']. An error will be raised in 1.2.\n",
      "  warnings.warn(\n",
      "C:\\Users\\magamp\\AppData\\Roaming\\Python\\Python38\\site-packages\\sklearn\\utils\\validation.py:1858: FutureWarning: Feature names only support names that are all strings. Got feature names with dtypes: ['int', 'str']. An error will be raised in 1.2.\n",
      "  warnings.warn(\n",
      "C:\\Users\\magamp\\AppData\\Roaming\\Python\\Python38\\site-packages\\sklearn\\utils\\validation.py:1858: FutureWarning: Feature names only support names that are all strings. Got feature names with dtypes: ['int', 'str']. An error will be raised in 1.2.\n",
      "  warnings.warn(\n",
      "C:\\Users\\magamp\\AppData\\Roaming\\Python\\Python38\\site-packages\\sklearn\\utils\\validation.py:1858: FutureWarning: Feature names only support names that are all strings. Got feature names with dtypes: ['int', 'str']. An error will be raised in 1.2.\n",
      "  warnings.warn(\n",
      "C:\\Users\\magamp\\AppData\\Roaming\\Python\\Python38\\site-packages\\sklearn\\utils\\validation.py:1858: FutureWarning: Feature names only support names that are all strings. Got feature names with dtypes: ['int', 'str']. An error will be raised in 1.2.\n",
      "  warnings.warn(\n",
      "C:\\Users\\magamp\\AppData\\Roaming\\Python\\Python38\\site-packages\\sklearn\\utils\\validation.py:1858: FutureWarning: Feature names only support names that are all strings. Got feature names with dtypes: ['int', 'str']. An error will be raised in 1.2.\n",
      "  warnings.warn(\n",
      "C:\\Users\\magamp\\AppData\\Roaming\\Python\\Python38\\site-packages\\sklearn\\utils\\validation.py:1858: FutureWarning: Feature names only support names that are all strings. Got feature names with dtypes: ['int', 'str']. An error will be raised in 1.2.\n",
      "  warnings.warn(\n",
      "C:\\Users\\magamp\\AppData\\Roaming\\Python\\Python38\\site-packages\\sklearn\\utils\\validation.py:1858: FutureWarning: Feature names only support names that are all strings. Got feature names with dtypes: ['int', 'str']. An error will be raised in 1.2.\n",
      "  warnings.warn(\n",
      "C:\\Users\\magamp\\AppData\\Roaming\\Python\\Python38\\site-packages\\sklearn\\utils\\validation.py:1858: FutureWarning: Feature names only support names that are all strings. Got feature names with dtypes: ['int', 'str']. An error will be raised in 1.2.\n",
      "  warnings.warn(\n",
      "C:\\Users\\magamp\\AppData\\Roaming\\Python\\Python38\\site-packages\\sklearn\\utils\\validation.py:1858: FutureWarning: Feature names only support names that are all strings. Got feature names with dtypes: ['int', 'str']. An error will be raised in 1.2.\n",
      "  warnings.warn(\n",
      "C:\\Users\\magamp\\AppData\\Roaming\\Python\\Python38\\site-packages\\sklearn\\utils\\validation.py:1858: FutureWarning: Feature names only support names that are all strings. Got feature names with dtypes: ['int', 'str']. An error will be raised in 1.2.\n",
      "  warnings.warn(\n",
      "C:\\Users\\magamp\\AppData\\Roaming\\Python\\Python38\\site-packages\\sklearn\\utils\\validation.py:1858: FutureWarning: Feature names only support names that are all strings. Got feature names with dtypes: ['int', 'str']. An error will be raised in 1.2.\n",
      "  warnings.warn(\n",
      "C:\\Users\\magamp\\AppData\\Roaming\\Python\\Python38\\site-packages\\sklearn\\utils\\validation.py:1858: FutureWarning: Feature names only support names that are all strings. Got feature names with dtypes: ['int', 'str']. An error will be raised in 1.2.\n",
      "  warnings.warn(\n",
      "C:\\Users\\magamp\\AppData\\Roaming\\Python\\Python38\\site-packages\\sklearn\\utils\\validation.py:1858: FutureWarning: Feature names only support names that are all strings. Got feature names with dtypes: ['int', 'str']. An error will be raised in 1.2.\n",
      "  warnings.warn(\n",
      "C:\\Users\\magamp\\AppData\\Roaming\\Python\\Python38\\site-packages\\sklearn\\utils\\validation.py:1858: FutureWarning: Feature names only support names that are all strings. Got feature names with dtypes: ['int', 'str']. An error will be raised in 1.2.\n",
      "  warnings.warn(\n",
      "C:\\Users\\magamp\\AppData\\Roaming\\Python\\Python38\\site-packages\\sklearn\\utils\\validation.py:1858: FutureWarning: Feature names only support names that are all strings. Got feature names with dtypes: ['int', 'str']. An error will be raised in 1.2.\n",
      "  warnings.warn(\n",
      "C:\\Users\\magamp\\AppData\\Roaming\\Python\\Python38\\site-packages\\sklearn\\utils\\validation.py:1858: FutureWarning: Feature names only support names that are all strings. Got feature names with dtypes: ['int', 'str']. An error will be raised in 1.2.\n",
      "  warnings.warn(\n",
      "C:\\Users\\magamp\\AppData\\Roaming\\Python\\Python38\\site-packages\\sklearn\\utils\\validation.py:1858: FutureWarning: Feature names only support names that are all strings. Got feature names with dtypes: ['int', 'str']. An error will be raised in 1.2.\n",
      "  warnings.warn(\n",
      "C:\\Users\\magamp\\AppData\\Roaming\\Python\\Python38\\site-packages\\sklearn\\utils\\validation.py:1858: FutureWarning: Feature names only support names that are all strings. Got feature names with dtypes: ['int', 'str']. An error will be raised in 1.2.\n",
      "  warnings.warn(\n",
      "C:\\Users\\magamp\\AppData\\Roaming\\Python\\Python38\\site-packages\\sklearn\\utils\\validation.py:1858: FutureWarning: Feature names only support names that are all strings. Got feature names with dtypes: ['int', 'str']. An error will be raised in 1.2.\n",
      "  warnings.warn(\n",
      "C:\\Users\\magamp\\AppData\\Roaming\\Python\\Python38\\site-packages\\sklearn\\utils\\validation.py:1858: FutureWarning: Feature names only support names that are all strings. Got feature names with dtypes: ['int', 'str']. An error will be raised in 1.2.\n",
      "  warnings.warn(\n"
     ]
    }
   ],
   "source": [
    "# ~ 2 min\n",
    "gmm_bic = []\n",
    "gmm_aic = []\n",
    "for i in range(1,25):\n",
    "    gmm = mixture.GaussianMixture(n_components=i, random_state=0).fit(bd_red)\n",
    "    gmm_bic.append(gmm.bic(bd_red))\n",
    "    gmm_aic.append(gmm.aic(bd_red))"
   ]
  },
  {
   "cell_type": "code",
   "execution_count": 55,
   "metadata": {},
   "outputs": [
    {
     "data": {
      "image/png": "[encoded data removed]",
      "text/plain": [
       "<Figure size 432x288 with 1 Axes>"
      ]
     },
     "metadata": {
      "needs_background": "light"
     },
     "output_type": "display_data"
    }
   ],
   "source": [
    "r = np.arange(1,25)\n",
    "plt.plot(r, gmm_aic, gmm_bic)\n",
    "plt.title(\"AIC, BIC by Clusters\")\n",
    "plt.xlabel('Clusters')\n",
    "plt.ylabel('Value')\n",
    "plt.legend(labels = ['AIC', 'BIC'])\n",
    "plt.show()"
   ]
  },
  {
   "cell_type": "code",
   "execution_count": 56,
   "metadata": {},
   "outputs": [
    {
     "name": "stderr",
     "output_type": "stream",
     "text": [
      "C:\\Users\\magamp\\AppData\\Roaming\\Python\\Python38\\site-packages\\sklearn\\utils\\validation.py:1858: FutureWarning: Feature names only support names that are all strings. Got feature names with dtypes: ['int', 'str']. An error will be raised in 1.2.\n",
      "  warnings.warn(\n"
     ]
    },
    {
     "name": "stdout",
     "output_type": "stream",
     "text": [
      "True\n"
     ]
    },
    {
     "name": "stderr",
     "output_type": "stream",
     "text": [
      "C:\\Users\\magamp\\AppData\\Roaming\\Python\\Python38\\site-packages\\sklearn\\utils\\validation.py:1858: FutureWarning: Feature names only support names that are all strings. Got feature names with dtypes: ['int', 'str']. An error will be raised in 1.2.\n",
      "  warnings.warn(\n"
     ]
    }
   ],
   "source": [
    "# We will take AIC + BIC recommendation for simpler model and set K = 4\n",
    "gmm = mixture.GaussianMixture(n_components=4).fit(bd_red)\n",
    "icabdgmmlabels = gmm.predict(bd_red)\n",
    "print(gmm.converged_)"
   ]
  },
  {
   "cell_type": "code",
   "execution_count": 57,
   "metadata": {},
   "outputs": [
    {
     "data": {
      "text/plain": [
       "<mpl_toolkits.mplot3d.art3d.Path3DCollection at 0x1db8f540b50>"
      ]
     },
     "execution_count": 57,
     "metadata": {},
     "output_type": "execute_result"
    },
    {
     "data": {
      "image/png": "[encoded data removed]",
      "text/plain": [
       "<Figure size 432x288 with 1 Axes>"
      ]
     },
     "metadata": {
      "needs_background": "light"
     },
     "output_type": "display_data"
    }
   ],
   "source": [
    "fig = plt.figure()\n",
    "ax = plt.axes(projection='3d')\n",
    "ax.scatter3D(bd_red.iloc[:,0],bd_red.iloc[:,1] ,bd_red.iloc[:,2], c=icabdgmmlabels, s=40, cmap='icefire')"
   ]
  },
  {
   "cell_type": "markdown",
   "metadata": {},
   "source": [
    "## BD ICA GMM NN"
   ]
  },
  {
   "cell_type": "code",
   "execution_count": 58,
   "metadata": {},
   "outputs": [
    {
     "data": {
      "text/plain": [
       "array([0, 1, 1, ..., 2, 3, 1], dtype=int64)"
      ]
     },
     "execution_count": 58,
     "metadata": {},
     "output_type": "execute_result"
    }
   ],
   "source": [
    "bd_red\n",
    "icabdgmmlabels"
   ]
  },
  {
   "cell_type": "code",
   "execution_count": 59,
   "metadata": {},
   "outputs": [],
   "source": [
    "labelsdf = pd.DataFrame(icabdgmmlabels, columns=[\"clusters\"])\n",
    "hot = OneHotEncoder().fit_transform(X = labelsdf).toarray()\n",
    "labelsdf2 = pd.DataFrame(hot, columns= ['C1', 'C2', 'C3', 'C4'])"
   ]
  },
  {
   "cell_type": "code",
   "execution_count": 60,
   "metadata": {},
   "outputs": [
    {
     "data": {
      "text/html": [
       "<div>\n",
       "<style scoped>\n",
       "    .dataframe tbody tr th:only-of-type {\n",
       "        vertical-align: middle;\n",
       "    }\n",
       "\n",
       "    .dataframe tbody tr th {\n",
       "        vertical-align: top;\n",
       "    }\n",
       "\n",
       "    .dataframe thead th {\n",
       "        text-align: right;\n",
       "    }\n",
       "</style>\n",
       "<table border=\"1\" class=\"dataframe\">\n",
       "  <thead>\n",
       "    <tr style=\"text-align: right;\">\n",
       "      <th></th>\n",
       "      <th>0</th>\n",
       "      <th>1</th>\n",
       "      <th>2</th>\n",
       "      <th>3</th>\n",
       "      <th>4</th>\n",
       "      <th>5</th>\n",
       "      <th>6</th>\n",
       "      <th>7</th>\n",
       "      <th>8</th>\n",
       "      <th>9</th>\n",
       "      <th>...</th>\n",
       "      <th>55</th>\n",
       "      <th>56</th>\n",
       "      <th>57</th>\n",
       "      <th>58</th>\n",
       "      <th>59</th>\n",
       "      <th>target</th>\n",
       "      <th>C1</th>\n",
       "      <th>C2</th>\n",
       "      <th>C3</th>\n",
       "      <th>C4</th>\n",
       "    </tr>\n",
       "  </thead>\n",
       "  <tbody>\n",
       "    <tr>\n",
       "      <th>0</th>\n",
       "      <td>-0.032741</td>\n",
       "      <td>-0.029696</td>\n",
       "      <td>-0.009417</td>\n",
       "      <td>-0.015568</td>\n",
       "      <td>0.003039</td>\n",
       "      <td>0.015795</td>\n",
       "      <td>-0.003581</td>\n",
       "      <td>0.020526</td>\n",
       "      <td>0.017737</td>\n",
       "      <td>-0.008509</td>\n",
       "      <td>...</td>\n",
       "      <td>-0.003853</td>\n",
       "      <td>0.014724</td>\n",
       "      <td>-0.006690</td>\n",
       "      <td>-0.007249</td>\n",
       "      <td>0.006258</td>\n",
       "      <td>0</td>\n",
       "      <td>1.0</td>\n",
       "      <td>0.0</td>\n",
       "      <td>0.0</td>\n",
       "      <td>0.0</td>\n",
       "    </tr>\n",
       "    <tr>\n",
       "      <th>1</th>\n",
       "      <td>0.008823</td>\n",
       "      <td>-0.010826</td>\n",
       "      <td>0.017925</td>\n",
       "      <td>-0.010772</td>\n",
       "      <td>0.010337</td>\n",
       "      <td>-0.013395</td>\n",
       "      <td>0.022177</td>\n",
       "      <td>0.012704</td>\n",
       "      <td>-0.004884</td>\n",
       "      <td>-0.000965</td>\n",
       "      <td>...</td>\n",
       "      <td>-0.008502</td>\n",
       "      <td>0.007414</td>\n",
       "      <td>0.009393</td>\n",
       "      <td>-0.011572</td>\n",
       "      <td>-0.001676</td>\n",
       "      <td>1</td>\n",
       "      <td>0.0</td>\n",
       "      <td>1.0</td>\n",
       "      <td>0.0</td>\n",
       "      <td>0.0</td>\n",
       "    </tr>\n",
       "    <tr>\n",
       "      <th>2</th>\n",
       "      <td>0.021890</td>\n",
       "      <td>0.000427</td>\n",
       "      <td>-0.018069</td>\n",
       "      <td>0.018598</td>\n",
       "      <td>0.003986</td>\n",
       "      <td>0.011694</td>\n",
       "      <td>-0.000854</td>\n",
       "      <td>-0.045140</td>\n",
       "      <td>0.008344</td>\n",
       "      <td>0.016117</td>\n",
       "      <td>...</td>\n",
       "      <td>0.017117</td>\n",
       "      <td>-0.024888</td>\n",
       "      <td>0.038374</td>\n",
       "      <td>0.014967</td>\n",
       "      <td>-0.023001</td>\n",
       "      <td>1</td>\n",
       "      <td>0.0</td>\n",
       "      <td>1.0</td>\n",
       "      <td>0.0</td>\n",
       "      <td>0.0</td>\n",
       "    </tr>\n",
       "    <tr>\n",
       "      <th>3</th>\n",
       "      <td>0.014305</td>\n",
       "      <td>-0.005278</td>\n",
       "      <td>-0.009769</td>\n",
       "      <td>-0.004266</td>\n",
       "      <td>-0.027834</td>\n",
       "      <td>0.006554</td>\n",
       "      <td>0.002006</td>\n",
       "      <td>0.035002</td>\n",
       "      <td>0.007302</td>\n",
       "      <td>-0.000774</td>\n",
       "      <td>...</td>\n",
       "      <td>0.015319</td>\n",
       "      <td>-0.000217</td>\n",
       "      <td>-0.018432</td>\n",
       "      <td>0.001002</td>\n",
       "      <td>-0.005675</td>\n",
       "      <td>0</td>\n",
       "      <td>1.0</td>\n",
       "      <td>0.0</td>\n",
       "      <td>0.0</td>\n",
       "      <td>0.0</td>\n",
       "    </tr>\n",
       "    <tr>\n",
       "      <th>4</th>\n",
       "      <td>0.021521</td>\n",
       "      <td>-0.024073</td>\n",
       "      <td>-0.019067</td>\n",
       "      <td>-0.045718</td>\n",
       "      <td>-0.002457</td>\n",
       "      <td>-0.011547</td>\n",
       "      <td>0.000898</td>\n",
       "      <td>-0.007672</td>\n",
       "      <td>0.004839</td>\n",
       "      <td>0.008163</td>\n",
       "      <td>...</td>\n",
       "      <td>-0.017086</td>\n",
       "      <td>-0.026825</td>\n",
       "      <td>-0.038844</td>\n",
       "      <td>0.000018</td>\n",
       "      <td>0.007438</td>\n",
       "      <td>1</td>\n",
       "      <td>0.0</td>\n",
       "      <td>1.0</td>\n",
       "      <td>0.0</td>\n",
       "      <td>0.0</td>\n",
       "    </tr>\n",
       "    <tr>\n",
       "      <th>...</th>\n",
       "      <td>...</td>\n",
       "      <td>...</td>\n",
       "      <td>...</td>\n",
       "      <td>...</td>\n",
       "      <td>...</td>\n",
       "      <td>...</td>\n",
       "      <td>...</td>\n",
       "      <td>...</td>\n",
       "      <td>...</td>\n",
       "      <td>...</td>\n",
       "      <td>...</td>\n",
       "      <td>...</td>\n",
       "      <td>...</td>\n",
       "      <td>...</td>\n",
       "      <td>...</td>\n",
       "      <td>...</td>\n",
       "      <td>...</td>\n",
       "      <td>...</td>\n",
       "      <td>...</td>\n",
       "      <td>...</td>\n",
       "      <td>...</td>\n",
       "    </tr>\n",
       "    <tr>\n",
       "      <th>4739</th>\n",
       "      <td>-0.013399</td>\n",
       "      <td>0.000425</td>\n",
       "      <td>-0.001505</td>\n",
       "      <td>-0.002622</td>\n",
       "      <td>0.005981</td>\n",
       "      <td>0.004380</td>\n",
       "      <td>-0.068532</td>\n",
       "      <td>0.000845</td>\n",
       "      <td>-0.000738</td>\n",
       "      <td>-0.022735</td>\n",
       "      <td>...</td>\n",
       "      <td>0.003209</td>\n",
       "      <td>-0.001540</td>\n",
       "      <td>0.001456</td>\n",
       "      <td>-0.009849</td>\n",
       "      <td>0.004548</td>\n",
       "      <td>1</td>\n",
       "      <td>0.0</td>\n",
       "      <td>0.0</td>\n",
       "      <td>0.0</td>\n",
       "      <td>1.0</td>\n",
       "    </tr>\n",
       "    <tr>\n",
       "      <th>4740</th>\n",
       "      <td>-0.016509</td>\n",
       "      <td>0.000864</td>\n",
       "      <td>-0.012459</td>\n",
       "      <td>-0.005986</td>\n",
       "      <td>-0.015736</td>\n",
       "      <td>0.012485</td>\n",
       "      <td>-0.007090</td>\n",
       "      <td>0.005140</td>\n",
       "      <td>-0.001690</td>\n",
       "      <td>-0.004638</td>\n",
       "      <td>...</td>\n",
       "      <td>-0.002660</td>\n",
       "      <td>-0.008545</td>\n",
       "      <td>0.004890</td>\n",
       "      <td>-0.001214</td>\n",
       "      <td>-0.021541</td>\n",
       "      <td>0</td>\n",
       "      <td>0.0</td>\n",
       "      <td>0.0</td>\n",
       "      <td>1.0</td>\n",
       "      <td>0.0</td>\n",
       "    </tr>\n",
       "    <tr>\n",
       "      <th>4741</th>\n",
       "      <td>-0.022172</td>\n",
       "      <td>0.003981</td>\n",
       "      <td>-0.002986</td>\n",
       "      <td>-0.000368</td>\n",
       "      <td>0.000359</td>\n",
       "      <td>0.000481</td>\n",
       "      <td>0.009476</td>\n",
       "      <td>-0.001761</td>\n",
       "      <td>0.000513</td>\n",
       "      <td>0.017848</td>\n",
       "      <td>...</td>\n",
       "      <td>-0.000916</td>\n",
       "      <td>-0.001471</td>\n",
       "      <td>0.006088</td>\n",
       "      <td>0.010810</td>\n",
       "      <td>0.000611</td>\n",
       "      <td>0</td>\n",
       "      <td>0.0</td>\n",
       "      <td>0.0</td>\n",
       "      <td>1.0</td>\n",
       "      <td>0.0</td>\n",
       "    </tr>\n",
       "    <tr>\n",
       "      <th>4742</th>\n",
       "      <td>0.000263</td>\n",
       "      <td>-0.001373</td>\n",
       "      <td>0.010561</td>\n",
       "      <td>-0.003296</td>\n",
       "      <td>0.016685</td>\n",
       "      <td>0.010374</td>\n",
       "      <td>0.004641</td>\n",
       "      <td>0.001027</td>\n",
       "      <td>0.003696</td>\n",
       "      <td>0.018033</td>\n",
       "      <td>...</td>\n",
       "      <td>0.002365</td>\n",
       "      <td>0.003079</td>\n",
       "      <td>0.000811</td>\n",
       "      <td>0.032243</td>\n",
       "      <td>0.004037</td>\n",
       "      <td>1</td>\n",
       "      <td>0.0</td>\n",
       "      <td>0.0</td>\n",
       "      <td>0.0</td>\n",
       "      <td>1.0</td>\n",
       "    </tr>\n",
       "    <tr>\n",
       "      <th>4743</th>\n",
       "      <td>0.031040</td>\n",
       "      <td>0.002471</td>\n",
       "      <td>-0.011639</td>\n",
       "      <td>0.006229</td>\n",
       "      <td>0.010258</td>\n",
       "      <td>0.025801</td>\n",
       "      <td>0.011879</td>\n",
       "      <td>-0.000084</td>\n",
       "      <td>-0.065583</td>\n",
       "      <td>0.037984</td>\n",
       "      <td>...</td>\n",
       "      <td>-0.001389</td>\n",
       "      <td>-0.004562</td>\n",
       "      <td>0.009265</td>\n",
       "      <td>-0.013044</td>\n",
       "      <td>0.006441</td>\n",
       "      <td>1</td>\n",
       "      <td>0.0</td>\n",
       "      <td>1.0</td>\n",
       "      <td>0.0</td>\n",
       "      <td>0.0</td>\n",
       "    </tr>\n",
       "  </tbody>\n",
       "</table>\n",
       "<p>4744 rows × 65 columns</p>\n",
       "</div>"
      ],
      "text/plain": [
       "             0         1         2         3         4         5         6  \\\n",
       "0    -0.032741 -0.029696 -0.009417 -0.015568  0.003039  0.015795 -0.003581   \n",
       "1     0.008823 -0.010826  0.017925 -0.010772  0.010337 -0.013395  0.022177   \n",
       "2     0.021890  0.000427 -0.018069  0.018598  0.003986  0.011694 -0.000854   \n",
       "3     0.014305 -0.005278 -0.009769 -0.004266 -0.027834  0.006554  0.002006   \n",
       "4     0.021521 -0.024073 -0.019067 -0.045718 -0.002457 -0.011547  0.000898   \n",
       "...        ...       ...       ...       ...       ...       ...       ...   \n",
       "4739 -0.013399  0.000425 -0.001505 -0.002622  0.005981  0.004380 -0.068532   \n",
       "4740 -0.016509  0.000864 -0.012459 -0.005986 -0.015736  0.012485 -0.007090   \n",
       "4741 -0.022172  0.003981 -0.002986 -0.000368  0.000359  0.000481  0.009476   \n",
       "4742  0.000263 -0.001373  0.010561 -0.003296  0.016685  0.010374  0.004641   \n",
       "4743  0.031040  0.002471 -0.011639  0.006229  0.010258  0.025801  0.011879   \n",
       "\n",
       "             7         8         9  ...        55        56        57  \\\n",
       "0     0.020526  0.017737 -0.008509  ... -0.003853  0.014724 -0.006690   \n",
       "1     0.012704 -0.004884 -0.000965  ... -0.008502  0.007414  0.009393   \n",
       "2    -0.045140  0.008344  0.016117  ...  0.017117 -0.024888  0.038374   \n",
       "3     0.035002  0.007302 -0.000774  ...  0.015319 -0.000217 -0.018432   \n",
       "4    -0.007672  0.004839  0.008163  ... -0.017086 -0.026825 -0.038844   \n",
       "...        ...       ...       ...  ...       ...       ...       ...   \n",
       "4739  0.000845 -0.000738 -0.022735  ...  0.003209 -0.001540  0.001456   \n",
       "4740  0.005140 -0.001690 -0.004638  ... -0.002660 -0.008545  0.004890   \n",
       "4741 -0.001761  0.000513  0.017848  ... -0.000916 -0.001471  0.006088   \n",
       "4742  0.001027  0.003696  0.018033  ...  0.002365  0.003079  0.000811   \n",
       "4743 -0.000084 -0.065583  0.037984  ... -0.001389 -0.004562  0.009265   \n",
       "\n",
       "            58        59  target   C1   C2   C3   C4  \n",
       "0    -0.007249  0.006258       0  1.0  0.0  0.0  0.0  \n",
       "1    -0.011572 -0.001676       1  0.0  1.0  0.0  0.0  \n",
       "2     0.014967 -0.023001       1  0.0  1.0  0.0  0.0  \n",
       "3     0.001002 -0.005675       0  1.0  0.0  0.0  0.0  \n",
       "4     0.000018  0.007438       1  0.0  1.0  0.0  0.0  \n",
       "...        ...       ...     ...  ...  ...  ...  ...  \n",
       "4739 -0.009849  0.004548       1  0.0  0.0  0.0  1.0  \n",
       "4740 -0.001214 -0.021541       0  0.0  0.0  1.0  0.0  \n",
       "4741  0.010810  0.000611       0  0.0  0.0  1.0  0.0  \n",
       "4742  0.032243  0.004037       1  0.0  0.0  0.0  1.0  \n",
       "4743 -0.013044  0.006441       1  0.0  1.0  0.0  0.0  \n",
       "\n",
       "[4744 rows x 65 columns]"
      ]
     },
     "execution_count": 60,
     "metadata": {},
     "output_type": "execute_result"
    }
   ],
   "source": [
    "bd_ica_gmm_nn_df = pd.concat([bd_red,labelsdf2], axis=1)\n",
    "bd_ica_gmm_nn_df"
   ]
  },
  {
   "cell_type": "code",
   "execution_count": 61,
   "metadata": {},
   "outputs": [],
   "source": [
    "trainx, testx, trainy, testy = train_test_split(bd_ica_gmm_nn_df, bd_target, test_size=.3, random_state=42)"
   ]
  },
  {
   "cell_type": "code",
   "execution_count": 62,
   "metadata": {},
   "outputs": [],
   "source": [
    "bd_ica_gmm_nn = mlrose.NeuralNetwork(hidden_nodes = [6,6], activation = 'relu', algorithm = 'gradient_descent', max_iters = 5000, bias = True, is_classifier = True, learning_rate = 0.0001,\n",
    "early_stopping = True, clip_max = 5, max_attempts = 1000, random_state = 3)"
   ]
  },
  {
   "cell_type": "code",
   "execution_count": 63,
   "metadata": {},
   "outputs": [
    {
     "data": {
      "text/html": [
       "<style>#sk-container-id-5 {color: black;background-color: white;}#sk-container-id-5 pre{padding: 0;}#sk-container-id-5 div.sk-toggleable {background-color: white;}#sk-container-id-5 label.sk-toggleable__label {cursor: pointer;display: block;width: 100%;margin-bottom: 0;padding: 0.3em;box-sizing: border-box;text-align: center;}#sk-container-id-5 label.sk-toggleable__label-arrow:before {content: \"▸\";float: left;margin-right: 0.25em;color: #696969;}#sk-container-id-5 label.sk-toggleable__label-arrow:hover:before {color: black;}#sk-container-id-5 div.sk-estimator:hover label.sk-toggleable__label-arrow:before {color: black;}#sk-container-id-5 div.sk-toggleable__content {max-height: 0;max-width: 0;overflow: hidden;text-align: left;background-color: #f0f8ff;}#sk-container-id-5 div.sk-toggleable__content pre {margin: 0.2em;color: black;border-radius: 0.25em;background-color: #f0f8ff;}#sk-container-id-5 input.sk-toggleable__control:checked~div.sk-toggleable__content {max-height: 200px;max-width: 100%;overflow: auto;}#sk-container-id-5 input.sk-toggleable__control:checked~label.sk-toggleable__label-arrow:before {content: \"▾\";}#sk-container-id-5 div.sk-estimator input.sk-toggleable__control:checked~label.sk-toggleable__label {background-color: #d4ebff;}#sk-container-id-5 div.sk-label input.sk-toggleable__control:checked~label.sk-toggleable__label {background-color: #d4ebff;}#sk-container-id-5 input.sk-hidden--visually {border: 0;clip: rect(1px 1px 1px 1px);clip: rect(1px, 1px, 1px, 1px);height: 1px;margin: -1px;overflow: hidden;padding: 0;position: absolute;width: 1px;}#sk-container-id-5 div.sk-estimator {font-family: monospace;background-color: #f0f8ff;border: 1px dotted black;border-radius: 0.25em;box-sizing: border-box;margin-bottom: 0.5em;}#sk-container-id-5 div.sk-estimator:hover {background-color: #d4ebff;}#sk-container-id-5 div.sk-parallel-item::after {content: \"\";width: 100%;border-bottom: 1px solid gray;flex-grow: 1;}#sk-container-id-5 div.sk-label:hover label.sk-toggleable__label {background-color: #d4ebff;}#sk-container-id-5 div.sk-serial::before {content: \"\";position: absolute;border-left: 1px solid gray;box-sizing: border-box;top: 0;bottom: 0;left: 50%;z-index: 0;}#sk-container-id-5 div.sk-serial {display: flex;flex-direction: column;align-items: center;background-color: white;padding-right: 0.2em;padding-left: 0.2em;position: relative;}#sk-container-id-5 div.sk-item {position: relative;z-index: 1;}#sk-container-id-5 div.sk-parallel {display: flex;align-items: stretch;justify-content: center;background-color: white;position: relative;}#sk-container-id-5 div.sk-item::before, #sk-container-id-5 div.sk-parallel-item::before {content: \"\";position: absolute;border-left: 1px solid gray;box-sizing: border-box;top: 0;bottom: 0;left: 50%;z-index: -1;}#sk-container-id-5 div.sk-parallel-item {display: flex;flex-direction: column;z-index: 1;position: relative;background-color: white;}#sk-container-id-5 div.sk-parallel-item:first-child::after {align-self: flex-end;width: 50%;}#sk-container-id-5 div.sk-parallel-item:last-child::after {align-self: flex-start;width: 50%;}#sk-container-id-5 div.sk-parallel-item:only-child::after {width: 0;}#sk-container-id-5 div.sk-dashed-wrapped {border: 1px dashed gray;margin: 0 0.4em 0.5em 0.4em;box-sizing: border-box;padding-bottom: 0.4em;background-color: white;}#sk-container-id-5 div.sk-label label {font-family: monospace;font-weight: bold;display: inline-block;line-height: 1.2em;}#sk-container-id-5 div.sk-label-container {text-align: center;}#sk-container-id-5 div.sk-container {/* jupyter's `normalize.less` sets `[hidden] { display: none; }` but bootstrap.min.css set `[hidden] { display: none !important; }` so we also need the `!important` here to be able to override the default hidden behavior on the sphinx rendered scikit-learn.org. See: https://github.com/scikit-learn/scikit-learn/issues/21755 */display: inline-block !important;position: relative;}#sk-container-id-5 div.sk-text-repr-fallback {display: none;}</style><div id=\"sk-container-id-5\" class=\"sk-top-container\"><div class=\"sk-text-repr-fallback\"><pre>NeuralNetwork(clip_max=5, early_stopping=True, hidden_nodes=[6, 6],\n",
       "              learning_rate=0.0001, max_iters=5000)</pre><b>In a Jupyter environment, please rerun this cell to show the HTML representation or trust the notebook. <br />On GitHub, the HTML representation is unable to render, please try loading this page with nbviewer.org.</b></div><div class=\"sk-container\" hidden><div class=\"sk-item\"><div class=\"sk-estimator sk-toggleable\"><input class=\"sk-toggleable__control sk-hidden--visually\" id=\"sk-estimator-id-5\" type=\"checkbox\" checked><label for=\"sk-estimator-id-5\" class=\"sk-toggleable__label sk-toggleable__label-arrow\">NeuralNetwork</label><div class=\"sk-toggleable__content\"><pre>NeuralNetwork(clip_max=5, early_stopping=True, hidden_nodes=[6, 6],\n",
       "              learning_rate=0.0001, max_iters=5000)</pre></div></div></div></div></div>"
      ],
      "text/plain": [
       "NeuralNetwork(clip_max=5, early_stopping=True, hidden_nodes=[6, 6],\n",
       "              learning_rate=0.0001, max_iters=5000)"
      ]
     },
     "execution_count": 63,
     "metadata": {},
     "output_type": "execute_result"
    }
   ],
   "source": [
    "bd_ica_gmm_nn.fit(trainx,trainy)"
   ]
  },
  {
   "cell_type": "code",
   "execution_count": 64,
   "metadata": {},
   "outputs": [
    {
     "name": "stdout",
     "output_type": "stream",
     "text": [
      "Training accuracy:  1.0\n",
      "Test accuracy:  1.0\n"
     ]
    }
   ],
   "source": [
    "y_train_pred = bd_ica_gmm_nn.predict(trainx)\n",
    "\n",
    "y_train_accuracy = accuracy_score(trainy, y_train_pred)\n",
    "\n",
    "print('Training accuracy: ', y_train_accuracy)\n",
    "\n",
    "# Predict labels for test set and assess accuracy\n",
    "y_test_pred = bd_ica_gmm_nn.predict(testx)\n",
    "\n",
    "y_test_accuracy = accuracy_score(testy, y_test_pred)\n",
    "\n",
    "print('Test accuracy: ', y_test_accuracy)"
   ]
  },
  {
   "cell_type": "markdown",
   "metadata": {},
   "source": [
    "## ICA Small Data GMM"
   ]
  },
  {
   "cell_type": "code",
   "execution_count": 65,
   "metadata": {},
   "outputs": [],
   "source": [
    "# ~ 30s \n",
    "gmm_bic = []\n",
    "gmm_aic = []\n",
    "for i in range(1,25):\n",
    "    gmm = mixture.GaussianMixture(n_components=i, random_state=0).fit(sd_red)\n",
    "    gmm_bic.append(gmm.bic(sd_red))\n",
    "    gmm_aic.append(gmm.aic(sd_red))"
   ]
  },
  {
   "cell_type": "code",
   "execution_count": 66,
   "metadata": {},
   "outputs": [
    {
     "data": {
      "image/png": "[encoded data removed]",
      "text/plain": [
       "<Figure size 432x288 with 1 Axes>"
      ]
     },
     "metadata": {
      "needs_background": "light"
     },
     "output_type": "display_data"
    }
   ],
   "source": [
    "r = np.arange(1,25)\n",
    "plt.plot(r, gmm_aic, gmm_bic)\n",
    "plt.title(\"AIC, BIC by Clusters\")\n",
    "plt.xlabel('Clusters')\n",
    "plt.ylabel('Value')\n",
    "plt.legend(labels = ['AIC', 'BIC'])\n",
    "plt.show()"
   ]
  },
  {
   "cell_type": "code",
   "execution_count": 67,
   "metadata": {},
   "outputs": [
    {
     "name": "stdout",
     "output_type": "stream",
     "text": [
      "True\n"
     ]
    }
   ],
   "source": [
    "# Even though AIC rises after 2, for comparison sake we will take AIC + BIC recommendation for simpler model and set K = 2 \n",
    "gmm = mixture.GaussianMixture(n_components=4).fit(sd_red)\n",
    "print(gmm.converged_)"
   ]
  },
  {
   "cell_type": "code",
   "execution_count": 68,
   "metadata": {},
   "outputs": [
    {
     "data": {
      "text/plain": [
       "457"
      ]
     },
     "execution_count": 68,
     "metadata": {},
     "output_type": "execute_result"
    }
   ],
   "source": [
    "icasdgmmlabels = gmm.predict(sd_red)\n",
    "len(icasdgmmlabels)"
   ]
  },
  {
   "cell_type": "code",
   "execution_count": 69,
   "metadata": {},
   "outputs": [
    {
     "data": {
      "text/plain": [
       "<mpl_toolkits.mplot3d.art3d.Path3DCollection at 0x1db94ab7e20>"
      ]
     },
     "execution_count": 69,
     "metadata": {},
     "output_type": "execute_result"
    },
    {
     "data": {
      "image/png": "[encoded data removed]",
      "text/plain": [
       "<Figure size 432x288 with 1 Axes>"
      ]
     },
     "metadata": {
      "needs_background": "light"
     },
     "output_type": "display_data"
    }
   ],
   "source": [
    "fig = plt.figure()\n",
    "ax = plt.axes(projection='3d')\n",
    "ax.scatter3D(sd_red.iloc[:,0],sd_red.iloc[:,1],sd_red.iloc[:,2], c=icasdgmmlabels, s=40, cmap='icefire')"
   ]
  },
  {
   "cell_type": "markdown",
   "metadata": {},
   "source": [
    "## ICA SD GMM NN"
   ]
  },
  {
   "cell_type": "code",
   "execution_count": 70,
   "metadata": {},
   "outputs": [
    {
     "data": {
      "text/plain": [
       "array([1, 2, 2, 0, 0, 2, 3, 1, 2, 1, 1, 2, 3, 1, 0, 1, 2, 0, 3, 3, 1, 1,\n",
       "       2, 1, 0, 1, 3, 1, 1, 2, 3, 2, 1, 3, 1, 2, 2, 3, 0, 2, 2, 1, 2, 1,\n",
       "       1, 1, 1, 1, 3, 2, 1, 1, 0, 3, 1, 3, 2, 1, 0, 2, 3, 1, 1, 2, 3, 2,\n",
       "       2, 1, 0, 3, 2, 1, 2, 1, 1, 3, 1, 1, 0, 3, 0, 1, 2, 3, 1, 1, 3, 1,\n",
       "       2, 2, 2, 3, 1, 3, 3, 3, 3, 0, 0, 0, 2, 1, 1, 0, 0, 0, 3, 2, 2, 2,\n",
       "       1, 3, 1, 2, 1, 3, 2, 3, 2, 3, 2, 0, 1, 2, 0, 0, 2, 3, 1, 3, 1, 2,\n",
       "       1, 1, 0, 3, 3, 2, 2, 1, 3, 2, 1, 1, 3, 3, 1, 1, 0, 1, 3, 3, 3, 2,\n",
       "       3, 3, 2, 1, 3, 1, 1, 1, 1, 1, 1, 3, 2, 0, 1, 1, 3, 2, 0, 3, 3, 1,\n",
       "       1, 3, 3, 3, 3, 1, 3, 0, 0, 1, 0, 2, 1, 2, 2, 2, 0, 2, 1, 1, 1, 0,\n",
       "       0, 1, 3, 2, 0, 3, 2, 3, 2, 0, 1, 2, 0, 2, 1, 2, 3, 3, 0, 1, 3, 0,\n",
       "       1, 2, 3, 0, 0, 1, 1, 0, 2, 1, 1, 3, 2, 0, 1, 1, 1, 2, 0, 0, 1, 3,\n",
       "       0, 3, 0, 3, 0, 3, 0, 0, 2, 0, 1, 2, 3, 3, 1, 2, 0, 2, 3, 2, 0, 3,\n",
       "       1, 3, 1, 3, 1, 0, 1, 1, 1, 3, 0, 2, 3, 3, 3, 3, 2, 1, 0, 0, 1, 1,\n",
       "       0, 1, 2, 3, 1, 2, 0, 1, 2, 1, 0, 2, 3, 2, 3, 2, 3, 0, 2, 2, 2, 3,\n",
       "       3, 2, 3, 3, 2, 1, 0, 3, 1, 0, 3, 1, 2, 1, 0, 2, 1, 3, 3, 1, 0, 2,\n",
       "       1, 0, 0, 1, 3, 2, 2, 3, 1, 0, 1, 3, 0, 3, 3, 1, 1, 1, 3, 1, 3, 1,\n",
       "       2, 0, 0, 1, 0, 3, 2, 0, 3, 1, 3, 1, 2, 1, 1, 2, 1, 2, 0, 1, 2, 2,\n",
       "       0, 1, 2, 0, 2, 0, 0, 0, 0, 1, 3, 3, 2, 3, 1, 3, 1, 0, 0, 3, 3, 1,\n",
       "       2, 3, 3, 3, 1, 0, 1, 0, 1, 1, 3, 1, 1, 3, 0, 3, 3, 0, 0, 3, 1, 1,\n",
       "       3, 3, 1, 1, 3, 0, 1, 2, 1, 3, 3, 0, 3, 1, 3, 2, 1, 1, 1, 0, 3, 3,\n",
       "       3, 1, 2, 2, 0, 3, 3, 0, 2, 3, 1, 1, 3, 1, 1, 1, 0], dtype=int64)"
      ]
     },
     "execution_count": 70,
     "metadata": {},
     "output_type": "execute_result"
    }
   ],
   "source": [
    "sd_red\n",
    "icasdgmmlabels"
   ]
  },
  {
   "cell_type": "code",
   "execution_count": 71,
   "metadata": {},
   "outputs": [],
   "source": [
    "labelsdf = pd.DataFrame(icasdgmmlabels, columns=[\"clusters\"])\n",
    "hot = OneHotEncoder().fit_transform(X = labelsdf).toarray()\n",
    "labelsdf2 = pd.DataFrame(hot, columns= ['C1', 'C2', 'C3', 'C4'])"
   ]
  },
  {
   "cell_type": "code",
   "execution_count": 72,
   "metadata": {},
   "outputs": [],
   "source": [
    "sd_ica_gmm_nn_df = pd.concat([sd_red,labelsdf2], axis=1)\n",
    "# sd_ica_gmm_nn_df"
   ]
  },
  {
   "cell_type": "code",
   "execution_count": 73,
   "metadata": {},
   "outputs": [],
   "source": [
    "trainx, testx, trainy, testy = train_test_split(sd_ica_gmm_nn_df, sd_target, test_size=.3, random_state=42)"
   ]
  },
  {
   "cell_type": "code",
   "execution_count": 74,
   "metadata": {},
   "outputs": [],
   "source": [
    "sd_ica_gmm_nn = mlrose.NeuralNetwork(hidden_nodes = [6,6], activation = 'relu', algorithm = 'gradient_descent', max_iters = 5000, bias = True, is_classifier = True, learning_rate = 0.0001,\n",
    "early_stopping = True, clip_max = 5, max_attempts = 1000, random_state = 3)"
   ]
  },
  {
   "cell_type": "code",
   "execution_count": 75,
   "metadata": {},
   "outputs": [
    {
     "data": {
      "text/html": [
       "<style>#sk-container-id-6 {color: black;background-color: white;}#sk-container-id-6 pre{padding: 0;}#sk-container-id-6 div.sk-toggleable {background-color: white;}#sk-container-id-6 label.sk-toggleable__label {cursor: pointer;display: block;width: 100%;margin-bottom: 0;padding: 0.3em;box-sizing: border-box;text-align: center;}#sk-container-id-6 label.sk-toggleable__label-arrow:before {content: \"▸\";float: left;margin-right: 0.25em;color: #696969;}#sk-container-id-6 label.sk-toggleable__label-arrow:hover:before {color: black;}#sk-container-id-6 div.sk-estimator:hover label.sk-toggleable__label-arrow:before {color: black;}#sk-container-id-6 div.sk-toggleable__content {max-height: 0;max-width: 0;overflow: hidden;text-align: left;background-color: #f0f8ff;}#sk-container-id-6 div.sk-toggleable__content pre {margin: 0.2em;color: black;border-radius: 0.25em;background-color: #f0f8ff;}#sk-container-id-6 input.sk-toggleable__control:checked~div.sk-toggleable__content {max-height: 200px;max-width: 100%;overflow: auto;}#sk-container-id-6 input.sk-toggleable__control:checked~label.sk-toggleable__label-arrow:before {content: \"▾\";}#sk-container-id-6 div.sk-estimator input.sk-toggleable__control:checked~label.sk-toggleable__label {background-color: #d4ebff;}#sk-container-id-6 div.sk-label input.sk-toggleable__control:checked~label.sk-toggleable__label {background-color: #d4ebff;}#sk-container-id-6 input.sk-hidden--visually {border: 0;clip: rect(1px 1px 1px 1px);clip: rect(1px, 1px, 1px, 1px);height: 1px;margin: -1px;overflow: hidden;padding: 0;position: absolute;width: 1px;}#sk-container-id-6 div.sk-estimator {font-family: monospace;background-color: #f0f8ff;border: 1px dotted black;border-radius: 0.25em;box-sizing: border-box;margin-bottom: 0.5em;}#sk-container-id-6 div.sk-estimator:hover {background-color: #d4ebff;}#sk-container-id-6 div.sk-parallel-item::after {content: \"\";width: 100%;border-bottom: 1px solid gray;flex-grow: 1;}#sk-container-id-6 div.sk-label:hover label.sk-toggleable__label {background-color: #d4ebff;}#sk-container-id-6 div.sk-serial::before {content: \"\";position: absolute;border-left: 1px solid gray;box-sizing: border-box;top: 0;bottom: 0;left: 50%;z-index: 0;}#sk-container-id-6 div.sk-serial {display: flex;flex-direction: column;align-items: center;background-color: white;padding-right: 0.2em;padding-left: 0.2em;position: relative;}#sk-container-id-6 div.sk-item {position: relative;z-index: 1;}#sk-container-id-6 div.sk-parallel {display: flex;align-items: stretch;justify-content: center;background-color: white;position: relative;}#sk-container-id-6 div.sk-item::before, #sk-container-id-6 div.sk-parallel-item::before {content: \"\";position: absolute;border-left: 1px solid gray;box-sizing: border-box;top: 0;bottom: 0;left: 50%;z-index: -1;}#sk-container-id-6 div.sk-parallel-item {display: flex;flex-direction: column;z-index: 1;position: relative;background-color: white;}#sk-container-id-6 div.sk-parallel-item:first-child::after {align-self: flex-end;width: 50%;}#sk-container-id-6 div.sk-parallel-item:last-child::after {align-self: flex-start;width: 50%;}#sk-container-id-6 div.sk-parallel-item:only-child::after {width: 0;}#sk-container-id-6 div.sk-dashed-wrapped {border: 1px dashed gray;margin: 0 0.4em 0.5em 0.4em;box-sizing: border-box;padding-bottom: 0.4em;background-color: white;}#sk-container-id-6 div.sk-label label {font-family: monospace;font-weight: bold;display: inline-block;line-height: 1.2em;}#sk-container-id-6 div.sk-label-container {text-align: center;}#sk-container-id-6 div.sk-container {/* jupyter's `normalize.less` sets `[hidden] { display: none; }` but bootstrap.min.css set `[hidden] { display: none !important; }` so we also need the `!important` here to be able to override the default hidden behavior on the sphinx rendered scikit-learn.org. See: https://github.com/scikit-learn/scikit-learn/issues/21755 */display: inline-block !important;position: relative;}#sk-container-id-6 div.sk-text-repr-fallback {display: none;}</style><div id=\"sk-container-id-6\" class=\"sk-top-container\"><div class=\"sk-text-repr-fallback\"><pre>NeuralNetwork(clip_max=5, early_stopping=True, hidden_nodes=[6, 6],\n",
       "              learning_rate=0.0001, max_iters=5000)</pre><b>In a Jupyter environment, please rerun this cell to show the HTML representation or trust the notebook. <br />On GitHub, the HTML representation is unable to render, please try loading this page with nbviewer.org.</b></div><div class=\"sk-container\" hidden><div class=\"sk-item\"><div class=\"sk-estimator sk-toggleable\"><input class=\"sk-toggleable__control sk-hidden--visually\" id=\"sk-estimator-id-6\" type=\"checkbox\" checked><label for=\"sk-estimator-id-6\" class=\"sk-toggleable__label sk-toggleable__label-arrow\">NeuralNetwork</label><div class=\"sk-toggleable__content\"><pre>NeuralNetwork(clip_max=5, early_stopping=True, hidden_nodes=[6, 6],\n",
       "              learning_rate=0.0001, max_iters=5000)</pre></div></div></div></div></div>"
      ],
      "text/plain": [
       "NeuralNetwork(clip_max=5, early_stopping=True, hidden_nodes=[6, 6],\n",
       "              learning_rate=0.0001, max_iters=5000)"
      ]
     },
     "execution_count": 75,
     "metadata": {},
     "output_type": "execute_result"
    }
   ],
   "source": [
    "sd_ica_gmm_nn.fit(trainx,trainy)"
   ]
  },
  {
   "cell_type": "code",
   "execution_count": 76,
   "metadata": {},
   "outputs": [
    {
     "name": "stdout",
     "output_type": "stream",
     "text": [
      "Training accuracy:  0.54858934169279\n",
      "Test accuracy:  0.5507246376811594\n"
     ]
    }
   ],
   "source": [
    "y_train_pred = sd_ica_gmm_nn.predict(trainx)\n",
    "\n",
    "y_train_accuracy = accuracy_score(trainy, y_train_pred)\n",
    "\n",
    "print('Training accuracy: ', y_train_accuracy)\n",
    "\n",
    "# Predict labels for test set and assess accuracy\n",
    "y_test_pred = sd_ica_gmm_nn.predict(testx)\n",
    "\n",
    "y_test_accuracy = accuracy_score(testy, y_test_pred)\n",
    "\n",
    "print('Test accuracy: ', y_test_accuracy)"
   ]
  },
  {
   "cell_type": "code",
   "execution_count": null,
   "metadata": {},
   "outputs": [],
   "source": []
  }
 ],
 "metadata": {
  "kernelspec": {
   "display_name": "Python 3.8.2 64-bit",
   "language": "python",
   "name": "python3"
  },
  "language_info": {
   "codemirror_mode": {
    "name": "ipython",
    "version": 3
   },
   "file_extension": ".py",
   "mimetype": "text/x-python",
   "name": "python",
   "nbconvert_exporter": "python",
   "pygments_lexer": "ipython3",
   "version": "3.8.2"
  },
  "orig_nbformat": 4,
  "vscode": {
   "interpreter": {
    "hash": "570feb405e2e27c949193ac68f46852414290d515b0ba6e5d90d076ed2284471"
   }
  }
 },
 "nbformat": 4,
 "nbformat_minor": 2
}
