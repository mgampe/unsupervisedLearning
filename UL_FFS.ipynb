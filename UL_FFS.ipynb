{
 "cells": [
  {
   "cell_type": "code",
   "execution_count": 79,
   "metadata": {},
   "outputs": [],
   "source": [
    "import pandas as pd\n",
    "import numpy as np\n",
    "from sklearn import cluster\n",
    "from sklearn import mixture\n",
    "from matplotlib import pyplot as plt\n",
    "from mpl_toolkits import mplot3d\n",
    "import seaborn as sns\n",
    "from sklearn.decomposition import PCA\n",
    "from sklearn import discriminant_analysis\n",
    "from mlxtend.feature_selection import SequentialFeatureSelector as sfs\n",
    "from sklearn.linear_model import LinearRegression\n",
    "from sklearn import linear_model\n",
    "from sklearn.preprocessing import OneHotEncoder\n",
    "\n",
    "from sklearn.decomposition import PCA\n",
    "from sklearn.metrics import auc, accuracy_score, confusion_matrix, mean_squared_error\n",
    "from sklearn.model_selection import cross_val_score, GridSearchCV, KFold, RandomizedSearchCV, train_test_split\n",
    "import pickle\n",
    "\n",
    "import six\n",
    "import sys\n",
    "sys.modules['sklearn.externals.six'] = six\n",
    "import mlrose\n",
    "import numpy as np"
   ]
  },
  {
   "cell_type": "code",
   "execution_count": 80,
   "metadata": {},
   "outputs": [],
   "source": [
    "bd = pd.read_csv('./NNData_87.csv')\n",
    "sd = pd.read_csv('./cfb22_nn_w1_w9.csv')"
   ]
  },
  {
   "cell_type": "code",
   "execution_count": 81,
   "metadata": {},
   "outputs": [],
   "source": [
    "sd = sd.dropna(axis=0)"
   ]
  },
  {
   "cell_type": "code",
   "execution_count": 82,
   "metadata": {},
   "outputs": [],
   "source": [
    "bd_target = bd[['home_team_cover_spread']]\n",
    "sd_target = sd[['home_team_cover_spread']]"
   ]
  },
  {
   "cell_type": "code",
   "execution_count": 83,
   "metadata": {},
   "outputs": [],
   "source": [
    "bd = bd.drop(['Unnamed: 0','index'], axis=1)\n",
    "sd = sd.drop(['Unnamed: 0'], axis=1)"
   ]
  },
  {
   "cell_type": "code",
   "execution_count": 84,
   "metadata": {},
   "outputs": [],
   "source": [
    "bd = bd.drop(['year','home_team_cover_spread', 'home_conference_ACC', 'home_conference_American Athletic',\n",
    "       'home_conference_Big 12', 'home_conference_Big Ten',\n",
    "       'home_conference_Conference USA', 'home_conference_FBS Independents',\n",
    "       'home_conference_Mid-American', 'home_conference_Mountain West',\n",
    "       'home_conference_Pac-12', 'home_conference_SEC',\n",
    "       'home_conference_Sun Belt', 'away_conference_ACC',\n",
    "       'away_conference_American Athletic', 'away_conference_Big 12',\n",
    "       'away_conference_Big Ten', 'away_conference_Conference USA',\n",
    "       'away_conference_FBS Independents', 'away_conference_Mid-American',\n",
    "       'away_conference_Mountain West', 'away_conference_Pac-12',\n",
    "       'away_conference_SEC', 'away_conference_Sun Belt', 'neutral_site_False',\n",
    "       'neutral_site_True'], axis = 1)"
   ]
  },
  {
   "cell_type": "code",
   "execution_count": 85,
   "metadata": {},
   "outputs": [],
   "source": [
    "sd = sd.drop(['home_team_cover_spread', 'home_conference_ACC','week', 'home_conference_American Athletic',\n",
    "       'home_conference_Big 12', 'home_conference_Big Ten',\n",
    "       'home_conference_Conference USA', 'home_conference_FBS Independents',\n",
    "       'home_conference_Mid-American', 'home_conference_Mountain West',\n",
    "       'home_conference_Pac-12', 'home_conference_SEC',\n",
    "       'home_conference_Sun Belt', 'away_conference_ACC',\n",
    "       'away_conference_American Athletic', 'away_conference_Big 12',\n",
    "       'away_conference_Big Ten', 'away_conference_Conference USA',\n",
    "       'away_conference_FBS Independents', 'away_conference_Mid-American',\n",
    "       'away_conference_Mountain West', 'away_conference_Pac-12',\n",
    "       'away_conference_SEC', 'away_conference_Sun Belt', 'neutral_site_False',\n",
    "       'neutral_site_True'],axis=1)"
   ]
  },
  {
   "cell_type": "code",
   "execution_count": 86,
   "metadata": {},
   "outputs": [
    {
     "data": {
      "text/plain": [
       "Index(['home_elo', 'away_elo', 'spread', 'h_drives', 'h_d_explosiveness',\n",
       "       'h_d_successrate', 'h_d_stuffrate', 'h_d_totalPPA', 'h_o_explosiveness',\n",
       "       'h_o_successrate', 'h_o_stuffrate', 'h_o_totalPPA'],\n",
       "      dtype='object')"
      ]
     },
     "execution_count": 86,
     "metadata": {},
     "output_type": "execute_result"
    }
   ],
   "source": [
    "sd.columns"
   ]
  },
  {
   "cell_type": "code",
   "execution_count": 87,
   "metadata": {},
   "outputs": [],
   "source": [
    "bdX = bd.copy()\n",
    "sdX = sd.copy()"
   ]
  },
  {
   "cell_type": "markdown",
   "metadata": {},
   "source": [
    "## For ffs we utilize RidgeCV to measure info gain of variables to selcet the next best next variable"
   ]
  },
  {
   "cell_type": "code",
   "execution_count": 88,
   "metadata": {},
   "outputs": [],
   "source": [
    "ridge = linear_model.RidgeCV(alphas=np.logspace(-6, 6, num=5)).fit(bdX, bd_target)\n",
    "sfs1 = sfs(ridge, k_features=10, forward=True, verbose=0, scoring='neg_mean_squared_error')"
   ]
  },
  {
   "cell_type": "code",
   "execution_count": 89,
   "metadata": {},
   "outputs": [],
   "source": [
    "sfs1 = sfs1.fit(bdX, bd_target)"
   ]
  },
  {
   "cell_type": "code",
   "execution_count": 90,
   "metadata": {},
   "outputs": [
    {
     "name": "stdout",
     "output_type": "stream",
     "text": [
      "FFS BD Features:\n"
     ]
    },
    {
     "data": {
      "text/plain": [
       "['home_sp_plus',\n",
       " 'away_sp_plus',\n",
       " 'away_o_standardDowns',\n",
       " 'd_successrate',\n",
       " 'd_stuffrate',\n",
       " 'd_totalPPA',\n",
       " 'o_successrate',\n",
       " 'o_stuffrate',\n",
       " 'o_totalPPA',\n",
       " 'spread']"
      ]
     },
     "execution_count": 90,
     "metadata": {},
     "output_type": "execute_result"
    }
   ],
   "source": [
    "feat_names = list(sfs1.k_feature_names_)\n",
    "print(\"FFS BD Features:\")\n",
    "feat_names"
   ]
  },
  {
   "cell_type": "code",
   "execution_count": 91,
   "metadata": {},
   "outputs": [
    {
     "data": {
      "text/html": [
       "<div>\n",
       "<style scoped>\n",
       "    .dataframe tbody tr th:only-of-type {\n",
       "        vertical-align: middle;\n",
       "    }\n",
       "\n",
       "    .dataframe tbody tr th {\n",
       "        vertical-align: top;\n",
       "    }\n",
       "\n",
       "    .dataframe thead th {\n",
       "        text-align: right;\n",
       "    }\n",
       "</style>\n",
       "<table border=\"1\" class=\"dataframe\">\n",
       "  <thead>\n",
       "    <tr style=\"text-align: right;\">\n",
       "      <th></th>\n",
       "      <th>home_sp_plus</th>\n",
       "      <th>away_sp_plus</th>\n",
       "      <th>away_o_standardDowns</th>\n",
       "      <th>d_successrate</th>\n",
       "      <th>d_stuffrate</th>\n",
       "      <th>d_totalPPA</th>\n",
       "      <th>o_successrate</th>\n",
       "      <th>o_stuffrate</th>\n",
       "      <th>o_totalPPA</th>\n",
       "      <th>spread</th>\n",
       "    </tr>\n",
       "  </thead>\n",
       "  <tbody>\n",
       "    <tr>\n",
       "      <th>0</th>\n",
       "      <td>0.269394</td>\n",
       "      <td>0.253879</td>\n",
       "      <td>0.348936</td>\n",
       "      <td>0.320731</td>\n",
       "      <td>0.414815</td>\n",
       "      <td>0.548258</td>\n",
       "      <td>0.476062</td>\n",
       "      <td>0.777778</td>\n",
       "      <td>0.375059</td>\n",
       "      <td>0.358140</td>\n",
       "    </tr>\n",
       "    <tr>\n",
       "      <th>1</th>\n",
       "      <td>0.535966</td>\n",
       "      <td>0.770099</td>\n",
       "      <td>0.787234</td>\n",
       "      <td>0.426421</td>\n",
       "      <td>0.253968</td>\n",
       "      <td>0.453420</td>\n",
       "      <td>0.508663</td>\n",
       "      <td>0.283688</td>\n",
       "      <td>0.429014</td>\n",
       "      <td>0.483721</td>\n",
       "    </tr>\n",
       "    <tr>\n",
       "      <th>2</th>\n",
       "      <td>0.444288</td>\n",
       "      <td>0.627645</td>\n",
       "      <td>0.414894</td>\n",
       "      <td>0.389066</td>\n",
       "      <td>0.323232</td>\n",
       "      <td>0.580727</td>\n",
       "      <td>0.492695</td>\n",
       "      <td>0.555556</td>\n",
       "      <td>0.419397</td>\n",
       "      <td>0.706977</td>\n",
       "    </tr>\n",
       "    <tr>\n",
       "      <th>3</th>\n",
       "      <td>0.465444</td>\n",
       "      <td>0.640339</td>\n",
       "      <td>0.891489</td>\n",
       "      <td>0.356850</td>\n",
       "      <td>0.677249</td>\n",
       "      <td>0.414961</td>\n",
       "      <td>0.461988</td>\n",
       "      <td>0.487805</td>\n",
       "      <td>0.287224</td>\n",
       "      <td>0.353488</td>\n",
       "    </tr>\n",
       "    <tr>\n",
       "      <th>4</th>\n",
       "      <td>0.643159</td>\n",
       "      <td>0.765867</td>\n",
       "      <td>0.517021</td>\n",
       "      <td>0.416319</td>\n",
       "      <td>0.429119</td>\n",
       "      <td>0.343901</td>\n",
       "      <td>0.457086</td>\n",
       "      <td>0.416667</td>\n",
       "      <td>0.408007</td>\n",
       "      <td>0.488372</td>\n",
       "    </tr>\n",
       "    <tr>\n",
       "      <th>...</th>\n",
       "      <td>...</td>\n",
       "      <td>...</td>\n",
       "      <td>...</td>\n",
       "      <td>...</td>\n",
       "      <td>...</td>\n",
       "      <td>...</td>\n",
       "      <td>...</td>\n",
       "      <td>...</td>\n",
       "      <td>...</td>\n",
       "      <td>...</td>\n",
       "    </tr>\n",
       "    <tr>\n",
       "      <th>4739</th>\n",
       "      <td>0.854725</td>\n",
       "      <td>0.939351</td>\n",
       "      <td>0.547909</td>\n",
       "      <td>0.453735</td>\n",
       "      <td>0.263374</td>\n",
       "      <td>0.382001</td>\n",
       "      <td>0.580137</td>\n",
       "      <td>0.384615</td>\n",
       "      <td>0.619690</td>\n",
       "      <td>0.576744</td>\n",
       "    </tr>\n",
       "    <tr>\n",
       "      <th>4740</th>\n",
       "      <td>0.630465</td>\n",
       "      <td>0.736248</td>\n",
       "      <td>0.467021</td>\n",
       "      <td>0.423007</td>\n",
       "      <td>0.592593</td>\n",
       "      <td>0.432506</td>\n",
       "      <td>0.428511</td>\n",
       "      <td>0.294118</td>\n",
       "      <td>0.291695</td>\n",
       "      <td>0.548837</td>\n",
       "    </tr>\n",
       "    <tr>\n",
       "      <th>4741</th>\n",
       "      <td>0.648801</td>\n",
       "      <td>0.818054</td>\n",
       "      <td>0.494468</td>\n",
       "      <td>0.456522</td>\n",
       "      <td>0.213333</td>\n",
       "      <td>0.451703</td>\n",
       "      <td>0.237973</td>\n",
       "      <td>0.161290</td>\n",
       "      <td>0.254696</td>\n",
       "      <td>0.627907</td>\n",
       "    </tr>\n",
       "    <tr>\n",
       "      <th>4742</th>\n",
       "      <td>0.535966</td>\n",
       "      <td>0.479549</td>\n",
       "      <td>0.525902</td>\n",
       "      <td>0.369064</td>\n",
       "      <td>0.174863</td>\n",
       "      <td>0.492551</td>\n",
       "      <td>0.506460</td>\n",
       "      <td>0.333333</td>\n",
       "      <td>0.439154</td>\n",
       "      <td>0.474419</td>\n",
       "    </tr>\n",
       "    <tr>\n",
       "      <th>4743</th>\n",
       "      <td>0.554302</td>\n",
       "      <td>0.368124</td>\n",
       "      <td>0.384279</td>\n",
       "      <td>0.341502</td>\n",
       "      <td>0.333333</td>\n",
       "      <td>0.548531</td>\n",
       "      <td>0.259834</td>\n",
       "      <td>0.312500</td>\n",
       "      <td>0.268465</td>\n",
       "      <td>0.581395</td>\n",
       "    </tr>\n",
       "  </tbody>\n",
       "</table>\n",
       "<p>4744 rows × 10 columns</p>\n",
       "</div>"
      ],
      "text/plain": [
       "      home_sp_plus  away_sp_plus  away_o_standardDowns  d_successrate  \\\n",
       "0         0.269394      0.253879              0.348936       0.320731   \n",
       "1         0.535966      0.770099              0.787234       0.426421   \n",
       "2         0.444288      0.627645              0.414894       0.389066   \n",
       "3         0.465444      0.640339              0.891489       0.356850   \n",
       "4         0.643159      0.765867              0.517021       0.416319   \n",
       "...            ...           ...                   ...            ...   \n",
       "4739      0.854725      0.939351              0.547909       0.453735   \n",
       "4740      0.630465      0.736248              0.467021       0.423007   \n",
       "4741      0.648801      0.818054              0.494468       0.456522   \n",
       "4742      0.535966      0.479549              0.525902       0.369064   \n",
       "4743      0.554302      0.368124              0.384279       0.341502   \n",
       "\n",
       "      d_stuffrate  d_totalPPA  o_successrate  o_stuffrate  o_totalPPA  \\\n",
       "0        0.414815    0.548258       0.476062     0.777778    0.375059   \n",
       "1        0.253968    0.453420       0.508663     0.283688    0.429014   \n",
       "2        0.323232    0.580727       0.492695     0.555556    0.419397   \n",
       "3        0.677249    0.414961       0.461988     0.487805    0.287224   \n",
       "4        0.429119    0.343901       0.457086     0.416667    0.408007   \n",
       "...           ...         ...            ...          ...         ...   \n",
       "4739     0.263374    0.382001       0.580137     0.384615    0.619690   \n",
       "4740     0.592593    0.432506       0.428511     0.294118    0.291695   \n",
       "4741     0.213333    0.451703       0.237973     0.161290    0.254696   \n",
       "4742     0.174863    0.492551       0.506460     0.333333    0.439154   \n",
       "4743     0.333333    0.548531       0.259834     0.312500    0.268465   \n",
       "\n",
       "        spread  \n",
       "0     0.358140  \n",
       "1     0.483721  \n",
       "2     0.706977  \n",
       "3     0.353488  \n",
       "4     0.488372  \n",
       "...        ...  \n",
       "4739  0.576744  \n",
       "4740  0.548837  \n",
       "4741  0.627907  \n",
       "4742  0.474419  \n",
       "4743  0.581395  \n",
       "\n",
       "[4744 rows x 10 columns]"
      ]
     },
     "execution_count": 91,
     "metadata": {},
     "output_type": "execute_result"
    }
   ],
   "source": [
    "bd_ffs = bd[feat_names]\n",
    "bd_ffs"
   ]
  },
  {
   "cell_type": "markdown",
   "metadata": {},
   "source": [
    "## FFS NN"
   ]
  },
  {
   "cell_type": "code",
   "execution_count": 92,
   "metadata": {},
   "outputs": [],
   "source": [
    "trainx, testx, trainy, testy = train_test_split(bd_ffs, bd_target, test_size=.3, random_state=42)"
   ]
  },
  {
   "cell_type": "code",
   "execution_count": 93,
   "metadata": {},
   "outputs": [],
   "source": [
    "bd_ffs_nn = mlrose.NeuralNetwork(hidden_nodes = [6,6], activation = 'relu', algorithm = 'gradient_descent', max_iters = 5000, bias = True, is_classifier = True, learning_rate = 0.0001,\n",
    "early_stopping = True, clip_max = 5, max_attempts = 1000, random_state = 3)"
   ]
  },
  {
   "cell_type": "code",
   "execution_count": 94,
   "metadata": {},
   "outputs": [
    {
     "data": {
      "text/html": [
       "<style>#sk-container-id-7 {color: black;background-color: white;}#sk-container-id-7 pre{padding: 0;}#sk-container-id-7 div.sk-toggleable {background-color: white;}#sk-container-id-7 label.sk-toggleable__label {cursor: pointer;display: block;width: 100%;margin-bottom: 0;padding: 0.3em;box-sizing: border-box;text-align: center;}#sk-container-id-7 label.sk-toggleable__label-arrow:before {content: \"▸\";float: left;margin-right: 0.25em;color: #696969;}#sk-container-id-7 label.sk-toggleable__label-arrow:hover:before {color: black;}#sk-container-id-7 div.sk-estimator:hover label.sk-toggleable__label-arrow:before {color: black;}#sk-container-id-7 div.sk-toggleable__content {max-height: 0;max-width: 0;overflow: hidden;text-align: left;background-color: #f0f8ff;}#sk-container-id-7 div.sk-toggleable__content pre {margin: 0.2em;color: black;border-radius: 0.25em;background-color: #f0f8ff;}#sk-container-id-7 input.sk-toggleable__control:checked~div.sk-toggleable__content {max-height: 200px;max-width: 100%;overflow: auto;}#sk-container-id-7 input.sk-toggleable__control:checked~label.sk-toggleable__label-arrow:before {content: \"▾\";}#sk-container-id-7 div.sk-estimator input.sk-toggleable__control:checked~label.sk-toggleable__label {background-color: #d4ebff;}#sk-container-id-7 div.sk-label input.sk-toggleable__control:checked~label.sk-toggleable__label {background-color: #d4ebff;}#sk-container-id-7 input.sk-hidden--visually {border: 0;clip: rect(1px 1px 1px 1px);clip: rect(1px, 1px, 1px, 1px);height: 1px;margin: -1px;overflow: hidden;padding: 0;position: absolute;width: 1px;}#sk-container-id-7 div.sk-estimator {font-family: monospace;background-color: #f0f8ff;border: 1px dotted black;border-radius: 0.25em;box-sizing: border-box;margin-bottom: 0.5em;}#sk-container-id-7 div.sk-estimator:hover {background-color: #d4ebff;}#sk-container-id-7 div.sk-parallel-item::after {content: \"\";width: 100%;border-bottom: 1px solid gray;flex-grow: 1;}#sk-container-id-7 div.sk-label:hover label.sk-toggleable__label {background-color: #d4ebff;}#sk-container-id-7 div.sk-serial::before {content: \"\";position: absolute;border-left: 1px solid gray;box-sizing: border-box;top: 0;bottom: 0;left: 50%;z-index: 0;}#sk-container-id-7 div.sk-serial {display: flex;flex-direction: column;align-items: center;background-color: white;padding-right: 0.2em;padding-left: 0.2em;position: relative;}#sk-container-id-7 div.sk-item {position: relative;z-index: 1;}#sk-container-id-7 div.sk-parallel {display: flex;align-items: stretch;justify-content: center;background-color: white;position: relative;}#sk-container-id-7 div.sk-item::before, #sk-container-id-7 div.sk-parallel-item::before {content: \"\";position: absolute;border-left: 1px solid gray;box-sizing: border-box;top: 0;bottom: 0;left: 50%;z-index: -1;}#sk-container-id-7 div.sk-parallel-item {display: flex;flex-direction: column;z-index: 1;position: relative;background-color: white;}#sk-container-id-7 div.sk-parallel-item:first-child::after {align-self: flex-end;width: 50%;}#sk-container-id-7 div.sk-parallel-item:last-child::after {align-self: flex-start;width: 50%;}#sk-container-id-7 div.sk-parallel-item:only-child::after {width: 0;}#sk-container-id-7 div.sk-dashed-wrapped {border: 1px dashed gray;margin: 0 0.4em 0.5em 0.4em;box-sizing: border-box;padding-bottom: 0.4em;background-color: white;}#sk-container-id-7 div.sk-label label {font-family: monospace;font-weight: bold;display: inline-block;line-height: 1.2em;}#sk-container-id-7 div.sk-label-container {text-align: center;}#sk-container-id-7 div.sk-container {/* jupyter's `normalize.less` sets `[hidden] { display: none; }` but bootstrap.min.css set `[hidden] { display: none !important; }` so we also need the `!important` here to be able to override the default hidden behavior on the sphinx rendered scikit-learn.org. See: https://github.com/scikit-learn/scikit-learn/issues/21755 */display: inline-block !important;position: relative;}#sk-container-id-7 div.sk-text-repr-fallback {display: none;}</style><div id=\"sk-container-id-7\" class=\"sk-top-container\"><div class=\"sk-text-repr-fallback\"><pre>NeuralNetwork(clip_max=5, early_stopping=True, hidden_nodes=[6, 6],\n",
       "              learning_rate=0.0001, max_iters=5000)</pre><b>In a Jupyter environment, please rerun this cell to show the HTML representation or trust the notebook. <br />On GitHub, the HTML representation is unable to render, please try loading this page with nbviewer.org.</b></div><div class=\"sk-container\" hidden><div class=\"sk-item\"><div class=\"sk-estimator sk-toggleable\"><input class=\"sk-toggleable__control sk-hidden--visually\" id=\"sk-estimator-id-7\" type=\"checkbox\" checked><label for=\"sk-estimator-id-7\" class=\"sk-toggleable__label sk-toggleable__label-arrow\">NeuralNetwork</label><div class=\"sk-toggleable__content\"><pre>NeuralNetwork(clip_max=5, early_stopping=True, hidden_nodes=[6, 6],\n",
       "              learning_rate=0.0001, max_iters=5000)</pre></div></div></div></div></div>"
      ],
      "text/plain": [
       "NeuralNetwork(clip_max=5, early_stopping=True, hidden_nodes=[6, 6],\n",
       "              learning_rate=0.0001, max_iters=5000)"
      ]
     },
     "execution_count": 94,
     "metadata": {},
     "output_type": "execute_result"
    }
   ],
   "source": [
    "bd_ffs_nn.fit(trainx,trainy)"
   ]
  },
  {
   "cell_type": "code",
   "execution_count": 95,
   "metadata": {},
   "outputs": [
    {
     "name": "stdout",
     "output_type": "stream",
     "text": [
      "Training accuracy:  0.8156626506024096\n",
      "Test accuracy:  0.8075842696629213\n"
     ]
    }
   ],
   "source": [
    "y_train_pred = bd_ffs_nn.predict(trainx)\n",
    "\n",
    "y_train_accuracy = accuracy_score(trainy, y_train_pred)\n",
    "\n",
    "print('Training accuracy: ', y_train_accuracy)\n",
    "\n",
    "# Predict labels for test set and assess accuracy\n",
    "y_test_pred = bd_ffs_nn.predict(testx)\n",
    "\n",
    "y_test_accuracy = accuracy_score(testy, y_test_pred)\n",
    "\n",
    "print('Test accuracy: ', y_test_accuracy)"
   ]
  },
  {
   "cell_type": "markdown",
   "metadata": {},
   "source": [
    "### Kmeans BD FFS"
   ]
  },
  {
   "cell_type": "code",
   "execution_count": 96,
   "metadata": {},
   "outputs": [],
   "source": [
    "centers = []\n",
    "inertia = []\n",
    "for i in range(1,25):\n",
    "    km = cluster.KMeans(n_clusters=i, random_state=0).fit(bd_ffs)\n",
    "    centers.append(km.cluster_centers_)\n",
    "    inertia.append(km.inertia_)"
   ]
  },
  {
   "cell_type": "code",
   "execution_count": 97,
   "metadata": {},
   "outputs": [
    {
     "data": {
      "text/plain": [
       "[<matplotlib.lines.Line2D at 0x2002bee9850>]"
      ]
     },
     "execution_count": 97,
     "metadata": {},
     "output_type": "execute_result"
    },
    {
     "data": {
      "image/png": "[encoded data removed]",
      "text/plain": [
       "<Figure size 432x288 with 1 Axes>"
      ]
     },
     "metadata": {
      "needs_background": "light"
     },
     "output_type": "display_data"
    }
   ],
   "source": [
    "plt.plot(range(1,25),inertia)"
   ]
  },
  {
   "cell_type": "code",
   "execution_count": 98,
   "metadata": {},
   "outputs": [],
   "source": [
    "kmeansbdffs = cluster.KMeans(n_clusters=7)\n",
    "kmeansbdffs.fit(bd_ffs)\n",
    "y_kmeans = kmeansbdffs.predict(bd_ffs)"
   ]
  },
  {
   "cell_type": "code",
   "execution_count": 99,
   "metadata": {},
   "outputs": [
    {
     "data": {
      "text/plain": [
       "<matplotlib.collections.PathCollection at 0x2000ad758b0>"
      ]
     },
     "execution_count": 99,
     "metadata": {},
     "output_type": "execute_result"
    },
    {
     "data": {
      "image/png": "[encoded data removed]",
      "text/plain": [
       "<Figure size 432x288 with 1 Axes>"
      ]
     },
     "metadata": {
      "needs_background": "light"
     },
     "output_type": "display_data"
    }
   ],
   "source": [
    "plt.scatter(bd_ffs.iloc[:, 0], bd_ffs.iloc[:, 1], c=y_kmeans, s=50, cmap='icefire')\n",
    "\n",
    "centers = kmeansbdffs.cluster_centers_\n",
    "plt.scatter(centers[:, 0], centers[:, 1], c='black', s=200, alpha=0.5)"
   ]
  },
  {
   "cell_type": "code",
   "execution_count": 100,
   "metadata": {},
   "outputs": [
    {
     "data": {
      "text/plain": [
       "<mpl_toolkits.mplot3d.art3d.Path3DCollection at 0x2000ae1bb80>"
      ]
     },
     "execution_count": 100,
     "metadata": {},
     "output_type": "execute_result"
    },
    {
     "data": {
      "image/png": "[encoded data removed]",
      "text/plain": [
       "<Figure size 432x288 with 1 Axes>"
      ]
     },
     "metadata": {
      "needs_background": "light"
     },
     "output_type": "display_data"
    }
   ],
   "source": [
    "fig = plt.figure()\n",
    "ax = plt.axes(projection='3d')\n",
    "ax.scatter3D(bd_ffs.iloc[:,0],bd_ffs.iloc[:,1],bd_ffs.iloc[:,2], c=y_kmeans, s=40, cmap='icefire')"
   ]
  },
  {
   "cell_type": "markdown",
   "metadata": {},
   "source": [
    "## BD KM FFS NN"
   ]
  },
  {
   "cell_type": "code",
   "execution_count": 101,
   "metadata": {},
   "outputs": [
    {
     "data": {
      "text/plain": [
       "array([2, 3, 0, ..., 3, 6, 0])"
      ]
     },
     "execution_count": 101,
     "metadata": {},
     "output_type": "execute_result"
    }
   ],
   "source": [
    "labels = kmeansbdffs.labels_\n",
    "labels"
   ]
  },
  {
   "cell_type": "code",
   "execution_count": 102,
   "metadata": {},
   "outputs": [],
   "source": [
    "labelsdf = pd.DataFrame(labels, columns=[\"clusters\"])\n",
    "hot = OneHotEncoder().fit_transform(X = labelsdf).toarray()\n",
    "labelsdf2 = pd.DataFrame(hot, columns= ['C1', 'C2', 'C3', 'C4', 'C5', 'C6', 'C7'])"
   ]
  },
  {
   "cell_type": "code",
   "execution_count": 103,
   "metadata": {},
   "outputs": [
    {
     "data": {
      "text/html": [
       "<div>\n",
       "<style scoped>\n",
       "    .dataframe tbody tr th:only-of-type {\n",
       "        vertical-align: middle;\n",
       "    }\n",
       "\n",
       "    .dataframe tbody tr th {\n",
       "        vertical-align: top;\n",
       "    }\n",
       "\n",
       "    .dataframe thead th {\n",
       "        text-align: right;\n",
       "    }\n",
       "</style>\n",
       "<table border=\"1\" class=\"dataframe\">\n",
       "  <thead>\n",
       "    <tr style=\"text-align: right;\">\n",
       "      <th></th>\n",
       "      <th>home_sp_plus</th>\n",
       "      <th>away_sp_plus</th>\n",
       "      <th>away_o_standardDowns</th>\n",
       "      <th>d_successrate</th>\n",
       "      <th>d_stuffrate</th>\n",
       "      <th>d_totalPPA</th>\n",
       "      <th>o_successrate</th>\n",
       "      <th>o_stuffrate</th>\n",
       "      <th>o_totalPPA</th>\n",
       "      <th>spread</th>\n",
       "      <th>C1</th>\n",
       "      <th>C2</th>\n",
       "      <th>C3</th>\n",
       "      <th>C4</th>\n",
       "      <th>C5</th>\n",
       "      <th>C6</th>\n",
       "      <th>C7</th>\n",
       "    </tr>\n",
       "  </thead>\n",
       "  <tbody>\n",
       "    <tr>\n",
       "      <th>0</th>\n",
       "      <td>0.269394</td>\n",
       "      <td>0.253879</td>\n",
       "      <td>0.348936</td>\n",
       "      <td>0.320731</td>\n",
       "      <td>0.414815</td>\n",
       "      <td>0.548258</td>\n",
       "      <td>0.476062</td>\n",
       "      <td>0.777778</td>\n",
       "      <td>0.375059</td>\n",
       "      <td>0.358140</td>\n",
       "      <td>0.0</td>\n",
       "      <td>0.0</td>\n",
       "      <td>1.0</td>\n",
       "      <td>0.0</td>\n",
       "      <td>0.0</td>\n",
       "      <td>0.0</td>\n",
       "      <td>0.0</td>\n",
       "    </tr>\n",
       "    <tr>\n",
       "      <th>1</th>\n",
       "      <td>0.535966</td>\n",
       "      <td>0.770099</td>\n",
       "      <td>0.787234</td>\n",
       "      <td>0.426421</td>\n",
       "      <td>0.253968</td>\n",
       "      <td>0.453420</td>\n",
       "      <td>0.508663</td>\n",
       "      <td>0.283688</td>\n",
       "      <td>0.429014</td>\n",
       "      <td>0.483721</td>\n",
       "      <td>0.0</td>\n",
       "      <td>0.0</td>\n",
       "      <td>0.0</td>\n",
       "      <td>1.0</td>\n",
       "      <td>0.0</td>\n",
       "      <td>0.0</td>\n",
       "      <td>0.0</td>\n",
       "    </tr>\n",
       "    <tr>\n",
       "      <th>2</th>\n",
       "      <td>0.444288</td>\n",
       "      <td>0.627645</td>\n",
       "      <td>0.414894</td>\n",
       "      <td>0.389066</td>\n",
       "      <td>0.323232</td>\n",
       "      <td>0.580727</td>\n",
       "      <td>0.492695</td>\n",
       "      <td>0.555556</td>\n",
       "      <td>0.419397</td>\n",
       "      <td>0.706977</td>\n",
       "      <td>1.0</td>\n",
       "      <td>0.0</td>\n",
       "      <td>0.0</td>\n",
       "      <td>0.0</td>\n",
       "      <td>0.0</td>\n",
       "      <td>0.0</td>\n",
       "      <td>0.0</td>\n",
       "    </tr>\n",
       "    <tr>\n",
       "      <th>3</th>\n",
       "      <td>0.465444</td>\n",
       "      <td>0.640339</td>\n",
       "      <td>0.891489</td>\n",
       "      <td>0.356850</td>\n",
       "      <td>0.677249</td>\n",
       "      <td>0.414961</td>\n",
       "      <td>0.461988</td>\n",
       "      <td>0.487805</td>\n",
       "      <td>0.287224</td>\n",
       "      <td>0.353488</td>\n",
       "      <td>1.0</td>\n",
       "      <td>0.0</td>\n",
       "      <td>0.0</td>\n",
       "      <td>0.0</td>\n",
       "      <td>0.0</td>\n",
       "      <td>0.0</td>\n",
       "      <td>0.0</td>\n",
       "    </tr>\n",
       "    <tr>\n",
       "      <th>4</th>\n",
       "      <td>0.643159</td>\n",
       "      <td>0.765867</td>\n",
       "      <td>0.517021</td>\n",
       "      <td>0.416319</td>\n",
       "      <td>0.429119</td>\n",
       "      <td>0.343901</td>\n",
       "      <td>0.457086</td>\n",
       "      <td>0.416667</td>\n",
       "      <td>0.408007</td>\n",
       "      <td>0.488372</td>\n",
       "      <td>0.0</td>\n",
       "      <td>1.0</td>\n",
       "      <td>0.0</td>\n",
       "      <td>0.0</td>\n",
       "      <td>0.0</td>\n",
       "      <td>0.0</td>\n",
       "      <td>0.0</td>\n",
       "    </tr>\n",
       "    <tr>\n",
       "      <th>...</th>\n",
       "      <td>...</td>\n",
       "      <td>...</td>\n",
       "      <td>...</td>\n",
       "      <td>...</td>\n",
       "      <td>...</td>\n",
       "      <td>...</td>\n",
       "      <td>...</td>\n",
       "      <td>...</td>\n",
       "      <td>...</td>\n",
       "      <td>...</td>\n",
       "      <td>...</td>\n",
       "      <td>...</td>\n",
       "      <td>...</td>\n",
       "      <td>...</td>\n",
       "      <td>...</td>\n",
       "      <td>...</td>\n",
       "      <td>...</td>\n",
       "    </tr>\n",
       "    <tr>\n",
       "      <th>4739</th>\n",
       "      <td>0.854725</td>\n",
       "      <td>0.939351</td>\n",
       "      <td>0.547909</td>\n",
       "      <td>0.453735</td>\n",
       "      <td>0.263374</td>\n",
       "      <td>0.382001</td>\n",
       "      <td>0.580137</td>\n",
       "      <td>0.384615</td>\n",
       "      <td>0.619690</td>\n",
       "      <td>0.576744</td>\n",
       "      <td>0.0</td>\n",
       "      <td>1.0</td>\n",
       "      <td>0.0</td>\n",
       "      <td>0.0</td>\n",
       "      <td>0.0</td>\n",
       "      <td>0.0</td>\n",
       "      <td>0.0</td>\n",
       "    </tr>\n",
       "    <tr>\n",
       "      <th>4740</th>\n",
       "      <td>0.630465</td>\n",
       "      <td>0.736248</td>\n",
       "      <td>0.467021</td>\n",
       "      <td>0.423007</td>\n",
       "      <td>0.592593</td>\n",
       "      <td>0.432506</td>\n",
       "      <td>0.428511</td>\n",
       "      <td>0.294118</td>\n",
       "      <td>0.291695</td>\n",
       "      <td>0.548837</td>\n",
       "      <td>0.0</td>\n",
       "      <td>1.0</td>\n",
       "      <td>0.0</td>\n",
       "      <td>0.0</td>\n",
       "      <td>0.0</td>\n",
       "      <td>0.0</td>\n",
       "      <td>0.0</td>\n",
       "    </tr>\n",
       "    <tr>\n",
       "      <th>4741</th>\n",
       "      <td>0.648801</td>\n",
       "      <td>0.818054</td>\n",
       "      <td>0.494468</td>\n",
       "      <td>0.456522</td>\n",
       "      <td>0.213333</td>\n",
       "      <td>0.451703</td>\n",
       "      <td>0.237973</td>\n",
       "      <td>0.161290</td>\n",
       "      <td>0.254696</td>\n",
       "      <td>0.627907</td>\n",
       "      <td>0.0</td>\n",
       "      <td>0.0</td>\n",
       "      <td>0.0</td>\n",
       "      <td>1.0</td>\n",
       "      <td>0.0</td>\n",
       "      <td>0.0</td>\n",
       "      <td>0.0</td>\n",
       "    </tr>\n",
       "    <tr>\n",
       "      <th>4742</th>\n",
       "      <td>0.535966</td>\n",
       "      <td>0.479549</td>\n",
       "      <td>0.525902</td>\n",
       "      <td>0.369064</td>\n",
       "      <td>0.174863</td>\n",
       "      <td>0.492551</td>\n",
       "      <td>0.506460</td>\n",
       "      <td>0.333333</td>\n",
       "      <td>0.439154</td>\n",
       "      <td>0.474419</td>\n",
       "      <td>0.0</td>\n",
       "      <td>0.0</td>\n",
       "      <td>0.0</td>\n",
       "      <td>0.0</td>\n",
       "      <td>0.0</td>\n",
       "      <td>0.0</td>\n",
       "      <td>1.0</td>\n",
       "    </tr>\n",
       "    <tr>\n",
       "      <th>4743</th>\n",
       "      <td>0.554302</td>\n",
       "      <td>0.368124</td>\n",
       "      <td>0.384279</td>\n",
       "      <td>0.341502</td>\n",
       "      <td>0.333333</td>\n",
       "      <td>0.548531</td>\n",
       "      <td>0.259834</td>\n",
       "      <td>0.312500</td>\n",
       "      <td>0.268465</td>\n",
       "      <td>0.581395</td>\n",
       "      <td>1.0</td>\n",
       "      <td>0.0</td>\n",
       "      <td>0.0</td>\n",
       "      <td>0.0</td>\n",
       "      <td>0.0</td>\n",
       "      <td>0.0</td>\n",
       "      <td>0.0</td>\n",
       "    </tr>\n",
       "  </tbody>\n",
       "</table>\n",
       "<p>4744 rows × 17 columns</p>\n",
       "</div>"
      ],
      "text/plain": [
       "      home_sp_plus  away_sp_plus  away_o_standardDowns  d_successrate  \\\n",
       "0         0.269394      0.253879              0.348936       0.320731   \n",
       "1         0.535966      0.770099              0.787234       0.426421   \n",
       "2         0.444288      0.627645              0.414894       0.389066   \n",
       "3         0.465444      0.640339              0.891489       0.356850   \n",
       "4         0.643159      0.765867              0.517021       0.416319   \n",
       "...            ...           ...                   ...            ...   \n",
       "4739      0.854725      0.939351              0.547909       0.453735   \n",
       "4740      0.630465      0.736248              0.467021       0.423007   \n",
       "4741      0.648801      0.818054              0.494468       0.456522   \n",
       "4742      0.535966      0.479549              0.525902       0.369064   \n",
       "4743      0.554302      0.368124              0.384279       0.341502   \n",
       "\n",
       "      d_stuffrate  d_totalPPA  o_successrate  o_stuffrate  o_totalPPA  \\\n",
       "0        0.414815    0.548258       0.476062     0.777778    0.375059   \n",
       "1        0.253968    0.453420       0.508663     0.283688    0.429014   \n",
       "2        0.323232    0.580727       0.492695     0.555556    0.419397   \n",
       "3        0.677249    0.414961       0.461988     0.487805    0.287224   \n",
       "4        0.429119    0.343901       0.457086     0.416667    0.408007   \n",
       "...           ...         ...            ...          ...         ...   \n",
       "4739     0.263374    0.382001       0.580137     0.384615    0.619690   \n",
       "4740     0.592593    0.432506       0.428511     0.294118    0.291695   \n",
       "4741     0.213333    0.451703       0.237973     0.161290    0.254696   \n",
       "4742     0.174863    0.492551       0.506460     0.333333    0.439154   \n",
       "4743     0.333333    0.548531       0.259834     0.312500    0.268465   \n",
       "\n",
       "        spread   C1   C2   C3   C4   C5   C6   C7  \n",
       "0     0.358140  0.0  0.0  1.0  0.0  0.0  0.0  0.0  \n",
       "1     0.483721  0.0  0.0  0.0  1.0  0.0  0.0  0.0  \n",
       "2     0.706977  1.0  0.0  0.0  0.0  0.0  0.0  0.0  \n",
       "3     0.353488  1.0  0.0  0.0  0.0  0.0  0.0  0.0  \n",
       "4     0.488372  0.0  1.0  0.0  0.0  0.0  0.0  0.0  \n",
       "...        ...  ...  ...  ...  ...  ...  ...  ...  \n",
       "4739  0.576744  0.0  1.0  0.0  0.0  0.0  0.0  0.0  \n",
       "4740  0.548837  0.0  1.0  0.0  0.0  0.0  0.0  0.0  \n",
       "4741  0.627907  0.0  0.0  0.0  1.0  0.0  0.0  0.0  \n",
       "4742  0.474419  0.0  0.0  0.0  0.0  0.0  0.0  1.0  \n",
       "4743  0.581395  1.0  0.0  0.0  0.0  0.0  0.0  0.0  \n",
       "\n",
       "[4744 rows x 17 columns]"
      ]
     },
     "execution_count": 103,
     "metadata": {},
     "output_type": "execute_result"
    }
   ],
   "source": [
    "bdkmffsnn_df = pd.concat([bd_ffs,labelsdf2], axis=1)\n",
    "bdkmffsnn_df"
   ]
  },
  {
   "cell_type": "code",
   "execution_count": 104,
   "metadata": {},
   "outputs": [],
   "source": [
    "trainx, testx, trainy, testy = train_test_split(bdkmffsnn_df, bd_target, test_size=.3, random_state=42)"
   ]
  },
  {
   "cell_type": "code",
   "execution_count": 105,
   "metadata": {},
   "outputs": [],
   "source": [
    "bd_km_ffs_nn = mlrose.NeuralNetwork(hidden_nodes = [6,6], activation = 'relu', algorithm = 'gradient_descent', max_iters = 5000, bias = True, is_classifier = True, learning_rate = 0.0001,\n",
    "early_stopping = True, clip_max = 5, max_attempts = 1000, random_state = 3)"
   ]
  },
  {
   "cell_type": "code",
   "execution_count": 106,
   "metadata": {},
   "outputs": [
    {
     "data": {
      "text/html": [
       "<style>#sk-container-id-8 {color: black;background-color: white;}#sk-container-id-8 pre{padding: 0;}#sk-container-id-8 div.sk-toggleable {background-color: white;}#sk-container-id-8 label.sk-toggleable__label {cursor: pointer;display: block;width: 100%;margin-bottom: 0;padding: 0.3em;box-sizing: border-box;text-align: center;}#sk-container-id-8 label.sk-toggleable__label-arrow:before {content: \"▸\";float: left;margin-right: 0.25em;color: #696969;}#sk-container-id-8 label.sk-toggleable__label-arrow:hover:before {color: black;}#sk-container-id-8 div.sk-estimator:hover label.sk-toggleable__label-arrow:before {color: black;}#sk-container-id-8 div.sk-toggleable__content {max-height: 0;max-width: 0;overflow: hidden;text-align: left;background-color: #f0f8ff;}#sk-container-id-8 div.sk-toggleable__content pre {margin: 0.2em;color: black;border-radius: 0.25em;background-color: #f0f8ff;}#sk-container-id-8 input.sk-toggleable__control:checked~div.sk-toggleable__content {max-height: 200px;max-width: 100%;overflow: auto;}#sk-container-id-8 input.sk-toggleable__control:checked~label.sk-toggleable__label-arrow:before {content: \"▾\";}#sk-container-id-8 div.sk-estimator input.sk-toggleable__control:checked~label.sk-toggleable__label {background-color: #d4ebff;}#sk-container-id-8 div.sk-label input.sk-toggleable__control:checked~label.sk-toggleable__label {background-color: #d4ebff;}#sk-container-id-8 input.sk-hidden--visually {border: 0;clip: rect(1px 1px 1px 1px);clip: rect(1px, 1px, 1px, 1px);height: 1px;margin: -1px;overflow: hidden;padding: 0;position: absolute;width: 1px;}#sk-container-id-8 div.sk-estimator {font-family: monospace;background-color: #f0f8ff;border: 1px dotted black;border-radius: 0.25em;box-sizing: border-box;margin-bottom: 0.5em;}#sk-container-id-8 div.sk-estimator:hover {background-color: #d4ebff;}#sk-container-id-8 div.sk-parallel-item::after {content: \"\";width: 100%;border-bottom: 1px solid gray;flex-grow: 1;}#sk-container-id-8 div.sk-label:hover label.sk-toggleable__label {background-color: #d4ebff;}#sk-container-id-8 div.sk-serial::before {content: \"\";position: absolute;border-left: 1px solid gray;box-sizing: border-box;top: 0;bottom: 0;left: 50%;z-index: 0;}#sk-container-id-8 div.sk-serial {display: flex;flex-direction: column;align-items: center;background-color: white;padding-right: 0.2em;padding-left: 0.2em;position: relative;}#sk-container-id-8 div.sk-item {position: relative;z-index: 1;}#sk-container-id-8 div.sk-parallel {display: flex;align-items: stretch;justify-content: center;background-color: white;position: relative;}#sk-container-id-8 div.sk-item::before, #sk-container-id-8 div.sk-parallel-item::before {content: \"\";position: absolute;border-left: 1px solid gray;box-sizing: border-box;top: 0;bottom: 0;left: 50%;z-index: -1;}#sk-container-id-8 div.sk-parallel-item {display: flex;flex-direction: column;z-index: 1;position: relative;background-color: white;}#sk-container-id-8 div.sk-parallel-item:first-child::after {align-self: flex-end;width: 50%;}#sk-container-id-8 div.sk-parallel-item:last-child::after {align-self: flex-start;width: 50%;}#sk-container-id-8 div.sk-parallel-item:only-child::after {width: 0;}#sk-container-id-8 div.sk-dashed-wrapped {border: 1px dashed gray;margin: 0 0.4em 0.5em 0.4em;box-sizing: border-box;padding-bottom: 0.4em;background-color: white;}#sk-container-id-8 div.sk-label label {font-family: monospace;font-weight: bold;display: inline-block;line-height: 1.2em;}#sk-container-id-8 div.sk-label-container {text-align: center;}#sk-container-id-8 div.sk-container {/* jupyter's `normalize.less` sets `[hidden] { display: none; }` but bootstrap.min.css set `[hidden] { display: none !important; }` so we also need the `!important` here to be able to override the default hidden behavior on the sphinx rendered scikit-learn.org. See: https://github.com/scikit-learn/scikit-learn/issues/21755 */display: inline-block !important;position: relative;}#sk-container-id-8 div.sk-text-repr-fallback {display: none;}</style><div id=\"sk-container-id-8\" class=\"sk-top-container\"><div class=\"sk-text-repr-fallback\"><pre>NeuralNetwork(clip_max=5, early_stopping=True, hidden_nodes=[6, 6],\n",
       "              learning_rate=0.0001, max_iters=5000)</pre><b>In a Jupyter environment, please rerun this cell to show the HTML representation or trust the notebook. <br />On GitHub, the HTML representation is unable to render, please try loading this page with nbviewer.org.</b></div><div class=\"sk-container\" hidden><div class=\"sk-item\"><div class=\"sk-estimator sk-toggleable\"><input class=\"sk-toggleable__control sk-hidden--visually\" id=\"sk-estimator-id-8\" type=\"checkbox\" checked><label for=\"sk-estimator-id-8\" class=\"sk-toggleable__label sk-toggleable__label-arrow\">NeuralNetwork</label><div class=\"sk-toggleable__content\"><pre>NeuralNetwork(clip_max=5, early_stopping=True, hidden_nodes=[6, 6],\n",
       "              learning_rate=0.0001, max_iters=5000)</pre></div></div></div></div></div>"
      ],
      "text/plain": [
       "NeuralNetwork(clip_max=5, early_stopping=True, hidden_nodes=[6, 6],\n",
       "              learning_rate=0.0001, max_iters=5000)"
      ]
     },
     "execution_count": 106,
     "metadata": {},
     "output_type": "execute_result"
    }
   ],
   "source": [
    "bd_km_ffs_nn.fit(trainx,trainy)"
   ]
  },
  {
   "cell_type": "code",
   "execution_count": 107,
   "metadata": {},
   "outputs": [
    {
     "name": "stdout",
     "output_type": "stream",
     "text": [
      "Training accuracy:  0.8162650602409639\n",
      "Test accuracy:  0.8146067415730337\n"
     ]
    }
   ],
   "source": [
    "y_train_pred = bd_km_ffs_nn.predict(trainx)\n",
    "\n",
    "y_train_accuracy = accuracy_score(trainy, y_train_pred)\n",
    "\n",
    "print('Training accuracy: ', y_train_accuracy)\n",
    "\n",
    "# Predict labels for test set and assess accuracy\n",
    "y_test_pred = bd_km_ffs_nn.predict(testx)\n",
    "\n",
    "y_test_accuracy = accuracy_score(testy, y_test_pred)\n",
    "\n",
    "print('Test accuracy: ', y_test_accuracy)"
   ]
  },
  {
   "cell_type": "markdown",
   "metadata": {},
   "source": [
    "### GMM BD FFS"
   ]
  },
  {
   "cell_type": "code",
   "execution_count": 108,
   "metadata": {},
   "outputs": [],
   "source": [
    "# ~ 2 min\n",
    "gmm_bic = []\n",
    "gmm_aic = []\n",
    "for i in range(1,25):\n",
    "    gmm = mixture.GaussianMixture(n_components=i, random_state=0).fit(bd_ffs)\n",
    "    gmm_bic.append(gmm.bic(bd_ffs))\n",
    "    gmm_aic.append(gmm.aic(bd_ffs))"
   ]
  },
  {
   "cell_type": "code",
   "execution_count": 109,
   "metadata": {},
   "outputs": [
    {
     "data": {
      "image/png": "[encoded data removed]",
      "text/plain": [
       "<Figure size 432x288 with 1 Axes>"
      ]
     },
     "metadata": {
      "needs_background": "light"
     },
     "output_type": "display_data"
    }
   ],
   "source": [
    "r = np.arange(1,25)\n",
    "plt.plot(r, gmm_aic, gmm_bic)\n",
    "plt.title(\"AIC, BIC by Clusters\")\n",
    "plt.xlabel('Clusters')\n",
    "plt.ylabel('Value')\n",
    "plt.legend(labels = ['AIC', 'BIC'])\n",
    "plt.show()"
   ]
  },
  {
   "cell_type": "code",
   "execution_count": 110,
   "metadata": {},
   "outputs": [
    {
     "name": "stdout",
     "output_type": "stream",
     "text": [
      "True\n"
     ]
    }
   ],
   "source": [
    "# We will take AIC + BIC recommendation for simpler model and set K = 4\n",
    "gmm = mixture.GaussianMixture(n_components=4).fit(bd_ffs)\n",
    "labels = gmm.predict(bd_ffs)\n",
    "print(gmm.converged_)"
   ]
  },
  {
   "cell_type": "code",
   "execution_count": 111,
   "metadata": {},
   "outputs": [
    {
     "data": {
      "text/plain": [
       "<mpl_toolkits.mplot3d.art3d.Path3DCollection at 0x2002b915be0>"
      ]
     },
     "execution_count": 111,
     "metadata": {},
     "output_type": "execute_result"
    },
    {
     "data": {
      "image/png": "[encoded data removed]",
      "text/plain": [
       "<Figure size 432x288 with 1 Axes>"
      ]
     },
     "metadata": {
      "needs_background": "light"
     },
     "output_type": "display_data"
    }
   ],
   "source": [
    "fig = plt.figure()\n",
    "ax = plt.axes(projection='3d')\n",
    "ax.scatter3D(bd_ffs.iloc[:,0],bd_ffs.iloc[:,1] ,bd_ffs.iloc[:,2], c=labels, s=40, cmap='icefire')"
   ]
  },
  {
   "cell_type": "markdown",
   "metadata": {},
   "source": [
    "## BD FFS GMM NN"
   ]
  },
  {
   "cell_type": "code",
   "execution_count": 112,
   "metadata": {},
   "outputs": [
    {
     "data": {
      "text/plain": [
       "array([2, 1, 2, ..., 2, 3, 0], dtype=int64)"
      ]
     },
     "execution_count": 112,
     "metadata": {},
     "output_type": "execute_result"
    }
   ],
   "source": [
    "labels"
   ]
  },
  {
   "cell_type": "code",
   "execution_count": 113,
   "metadata": {},
   "outputs": [],
   "source": [
    "labelsdf = pd.DataFrame(labels, columns=[\"clusters\"])\n",
    "hot = OneHotEncoder().fit_transform(X = labelsdf).toarray()\n",
    "labelsdf2 = pd.DataFrame(hot, columns= ['C1', 'C2', 'C3', 'C4'])"
   ]
  },
  {
   "cell_type": "code",
   "execution_count": 114,
   "metadata": {},
   "outputs": [
    {
     "data": {
      "text/html": [
       "<div>\n",
       "<style scoped>\n",
       "    .dataframe tbody tr th:only-of-type {\n",
       "        vertical-align: middle;\n",
       "    }\n",
       "\n",
       "    .dataframe tbody tr th {\n",
       "        vertical-align: top;\n",
       "    }\n",
       "\n",
       "    .dataframe thead th {\n",
       "        text-align: right;\n",
       "    }\n",
       "</style>\n",
       "<table border=\"1\" class=\"dataframe\">\n",
       "  <thead>\n",
       "    <tr style=\"text-align: right;\">\n",
       "      <th></th>\n",
       "      <th>home_sp_plus</th>\n",
       "      <th>away_sp_plus</th>\n",
       "      <th>away_o_standardDowns</th>\n",
       "      <th>d_successrate</th>\n",
       "      <th>d_stuffrate</th>\n",
       "      <th>d_totalPPA</th>\n",
       "      <th>o_successrate</th>\n",
       "      <th>o_stuffrate</th>\n",
       "      <th>o_totalPPA</th>\n",
       "      <th>spread</th>\n",
       "      <th>C1</th>\n",
       "      <th>C2</th>\n",
       "      <th>C3</th>\n",
       "      <th>C4</th>\n",
       "    </tr>\n",
       "  </thead>\n",
       "  <tbody>\n",
       "    <tr>\n",
       "      <th>0</th>\n",
       "      <td>0.269394</td>\n",
       "      <td>0.253879</td>\n",
       "      <td>0.348936</td>\n",
       "      <td>0.320731</td>\n",
       "      <td>0.414815</td>\n",
       "      <td>0.548258</td>\n",
       "      <td>0.476062</td>\n",
       "      <td>0.777778</td>\n",
       "      <td>0.375059</td>\n",
       "      <td>0.358140</td>\n",
       "      <td>0.0</td>\n",
       "      <td>0.0</td>\n",
       "      <td>1.0</td>\n",
       "      <td>0.0</td>\n",
       "    </tr>\n",
       "    <tr>\n",
       "      <th>1</th>\n",
       "      <td>0.535966</td>\n",
       "      <td>0.770099</td>\n",
       "      <td>0.787234</td>\n",
       "      <td>0.426421</td>\n",
       "      <td>0.253968</td>\n",
       "      <td>0.453420</td>\n",
       "      <td>0.508663</td>\n",
       "      <td>0.283688</td>\n",
       "      <td>0.429014</td>\n",
       "      <td>0.483721</td>\n",
       "      <td>0.0</td>\n",
       "      <td>1.0</td>\n",
       "      <td>0.0</td>\n",
       "      <td>0.0</td>\n",
       "    </tr>\n",
       "    <tr>\n",
       "      <th>2</th>\n",
       "      <td>0.444288</td>\n",
       "      <td>0.627645</td>\n",
       "      <td>0.414894</td>\n",
       "      <td>0.389066</td>\n",
       "      <td>0.323232</td>\n",
       "      <td>0.580727</td>\n",
       "      <td>0.492695</td>\n",
       "      <td>0.555556</td>\n",
       "      <td>0.419397</td>\n",
       "      <td>0.706977</td>\n",
       "      <td>0.0</td>\n",
       "      <td>0.0</td>\n",
       "      <td>1.0</td>\n",
       "      <td>0.0</td>\n",
       "    </tr>\n",
       "    <tr>\n",
       "      <th>3</th>\n",
       "      <td>0.465444</td>\n",
       "      <td>0.640339</td>\n",
       "      <td>0.891489</td>\n",
       "      <td>0.356850</td>\n",
       "      <td>0.677249</td>\n",
       "      <td>0.414961</td>\n",
       "      <td>0.461988</td>\n",
       "      <td>0.487805</td>\n",
       "      <td>0.287224</td>\n",
       "      <td>0.353488</td>\n",
       "      <td>1.0</td>\n",
       "      <td>0.0</td>\n",
       "      <td>0.0</td>\n",
       "      <td>0.0</td>\n",
       "    </tr>\n",
       "    <tr>\n",
       "      <th>4</th>\n",
       "      <td>0.643159</td>\n",
       "      <td>0.765867</td>\n",
       "      <td>0.517021</td>\n",
       "      <td>0.416319</td>\n",
       "      <td>0.429119</td>\n",
       "      <td>0.343901</td>\n",
       "      <td>0.457086</td>\n",
       "      <td>0.416667</td>\n",
       "      <td>0.408007</td>\n",
       "      <td>0.488372</td>\n",
       "      <td>0.0</td>\n",
       "      <td>0.0</td>\n",
       "      <td>0.0</td>\n",
       "      <td>1.0</td>\n",
       "    </tr>\n",
       "    <tr>\n",
       "      <th>...</th>\n",
       "      <td>...</td>\n",
       "      <td>...</td>\n",
       "      <td>...</td>\n",
       "      <td>...</td>\n",
       "      <td>...</td>\n",
       "      <td>...</td>\n",
       "      <td>...</td>\n",
       "      <td>...</td>\n",
       "      <td>...</td>\n",
       "      <td>...</td>\n",
       "      <td>...</td>\n",
       "      <td>...</td>\n",
       "      <td>...</td>\n",
       "      <td>...</td>\n",
       "    </tr>\n",
       "    <tr>\n",
       "      <th>4739</th>\n",
       "      <td>0.854725</td>\n",
       "      <td>0.939351</td>\n",
       "      <td>0.547909</td>\n",
       "      <td>0.453735</td>\n",
       "      <td>0.263374</td>\n",
       "      <td>0.382001</td>\n",
       "      <td>0.580137</td>\n",
       "      <td>0.384615</td>\n",
       "      <td>0.619690</td>\n",
       "      <td>0.576744</td>\n",
       "      <td>0.0</td>\n",
       "      <td>0.0</td>\n",
       "      <td>0.0</td>\n",
       "      <td>1.0</td>\n",
       "    </tr>\n",
       "    <tr>\n",
       "      <th>4740</th>\n",
       "      <td>0.630465</td>\n",
       "      <td>0.736248</td>\n",
       "      <td>0.467021</td>\n",
       "      <td>0.423007</td>\n",
       "      <td>0.592593</td>\n",
       "      <td>0.432506</td>\n",
       "      <td>0.428511</td>\n",
       "      <td>0.294118</td>\n",
       "      <td>0.291695</td>\n",
       "      <td>0.548837</td>\n",
       "      <td>0.0</td>\n",
       "      <td>0.0</td>\n",
       "      <td>0.0</td>\n",
       "      <td>1.0</td>\n",
       "    </tr>\n",
       "    <tr>\n",
       "      <th>4741</th>\n",
       "      <td>0.648801</td>\n",
       "      <td>0.818054</td>\n",
       "      <td>0.494468</td>\n",
       "      <td>0.456522</td>\n",
       "      <td>0.213333</td>\n",
       "      <td>0.451703</td>\n",
       "      <td>0.237973</td>\n",
       "      <td>0.161290</td>\n",
       "      <td>0.254696</td>\n",
       "      <td>0.627907</td>\n",
       "      <td>0.0</td>\n",
       "      <td>0.0</td>\n",
       "      <td>1.0</td>\n",
       "      <td>0.0</td>\n",
       "    </tr>\n",
       "    <tr>\n",
       "      <th>4742</th>\n",
       "      <td>0.535966</td>\n",
       "      <td>0.479549</td>\n",
       "      <td>0.525902</td>\n",
       "      <td>0.369064</td>\n",
       "      <td>0.174863</td>\n",
       "      <td>0.492551</td>\n",
       "      <td>0.506460</td>\n",
       "      <td>0.333333</td>\n",
       "      <td>0.439154</td>\n",
       "      <td>0.474419</td>\n",
       "      <td>0.0</td>\n",
       "      <td>0.0</td>\n",
       "      <td>0.0</td>\n",
       "      <td>1.0</td>\n",
       "    </tr>\n",
       "    <tr>\n",
       "      <th>4743</th>\n",
       "      <td>0.554302</td>\n",
       "      <td>0.368124</td>\n",
       "      <td>0.384279</td>\n",
       "      <td>0.341502</td>\n",
       "      <td>0.333333</td>\n",
       "      <td>0.548531</td>\n",
       "      <td>0.259834</td>\n",
       "      <td>0.312500</td>\n",
       "      <td>0.268465</td>\n",
       "      <td>0.581395</td>\n",
       "      <td>1.0</td>\n",
       "      <td>0.0</td>\n",
       "      <td>0.0</td>\n",
       "      <td>0.0</td>\n",
       "    </tr>\n",
       "  </tbody>\n",
       "</table>\n",
       "<p>4744 rows × 14 columns</p>\n",
       "</div>"
      ],
      "text/plain": [
       "      home_sp_plus  away_sp_plus  away_o_standardDowns  d_successrate  \\\n",
       "0         0.269394      0.253879              0.348936       0.320731   \n",
       "1         0.535966      0.770099              0.787234       0.426421   \n",
       "2         0.444288      0.627645              0.414894       0.389066   \n",
       "3         0.465444      0.640339              0.891489       0.356850   \n",
       "4         0.643159      0.765867              0.517021       0.416319   \n",
       "...            ...           ...                   ...            ...   \n",
       "4739      0.854725      0.939351              0.547909       0.453735   \n",
       "4740      0.630465      0.736248              0.467021       0.423007   \n",
       "4741      0.648801      0.818054              0.494468       0.456522   \n",
       "4742      0.535966      0.479549              0.525902       0.369064   \n",
       "4743      0.554302      0.368124              0.384279       0.341502   \n",
       "\n",
       "      d_stuffrate  d_totalPPA  o_successrate  o_stuffrate  o_totalPPA  \\\n",
       "0        0.414815    0.548258       0.476062     0.777778    0.375059   \n",
       "1        0.253968    0.453420       0.508663     0.283688    0.429014   \n",
       "2        0.323232    0.580727       0.492695     0.555556    0.419397   \n",
       "3        0.677249    0.414961       0.461988     0.487805    0.287224   \n",
       "4        0.429119    0.343901       0.457086     0.416667    0.408007   \n",
       "...           ...         ...            ...          ...         ...   \n",
       "4739     0.263374    0.382001       0.580137     0.384615    0.619690   \n",
       "4740     0.592593    0.432506       0.428511     0.294118    0.291695   \n",
       "4741     0.213333    0.451703       0.237973     0.161290    0.254696   \n",
       "4742     0.174863    0.492551       0.506460     0.333333    0.439154   \n",
       "4743     0.333333    0.548531       0.259834     0.312500    0.268465   \n",
       "\n",
       "        spread   C1   C2   C3   C4  \n",
       "0     0.358140  0.0  0.0  1.0  0.0  \n",
       "1     0.483721  0.0  1.0  0.0  0.0  \n",
       "2     0.706977  0.0  0.0  1.0  0.0  \n",
       "3     0.353488  1.0  0.0  0.0  0.0  \n",
       "4     0.488372  0.0  0.0  0.0  1.0  \n",
       "...        ...  ...  ...  ...  ...  \n",
       "4739  0.576744  0.0  0.0  0.0  1.0  \n",
       "4740  0.548837  0.0  0.0  0.0  1.0  \n",
       "4741  0.627907  0.0  0.0  1.0  0.0  \n",
       "4742  0.474419  0.0  0.0  0.0  1.0  \n",
       "4743  0.581395  1.0  0.0  0.0  0.0  \n",
       "\n",
       "[4744 rows x 14 columns]"
      ]
     },
     "execution_count": 114,
     "metadata": {},
     "output_type": "execute_result"
    }
   ],
   "source": [
    "bdgmmffsnn_df = pd.concat([bd_ffs,labelsdf2], axis=1)\n",
    "bdgmmffsnn_df"
   ]
  },
  {
   "cell_type": "code",
   "execution_count": 115,
   "metadata": {},
   "outputs": [],
   "source": [
    "trainx, testx, trainy, testy = train_test_split(bdgmmffsnn_df, bd_target, test_size=.3, random_state=42)"
   ]
  },
  {
   "cell_type": "code",
   "execution_count": 116,
   "metadata": {},
   "outputs": [],
   "source": [
    "bd_gmm_ffs_nn = mlrose.NeuralNetwork(hidden_nodes = [6,6], activation = 'relu', algorithm = 'gradient_descent', max_iters = 5000, bias = True, is_classifier = True, learning_rate = 0.0001,\n",
    "early_stopping = True, clip_max = 5, max_attempts = 1000, random_state = 3)"
   ]
  },
  {
   "cell_type": "code",
   "execution_count": 117,
   "metadata": {},
   "outputs": [
    {
     "data": {
      "text/html": [
       "<style>#sk-container-id-9 {color: black;background-color: white;}#sk-container-id-9 pre{padding: 0;}#sk-container-id-9 div.sk-toggleable {background-color: white;}#sk-container-id-9 label.sk-toggleable__label {cursor: pointer;display: block;width: 100%;margin-bottom: 0;padding: 0.3em;box-sizing: border-box;text-align: center;}#sk-container-id-9 label.sk-toggleable__label-arrow:before {content: \"▸\";float: left;margin-right: 0.25em;color: #696969;}#sk-container-id-9 label.sk-toggleable__label-arrow:hover:before {color: black;}#sk-container-id-9 div.sk-estimator:hover label.sk-toggleable__label-arrow:before {color: black;}#sk-container-id-9 div.sk-toggleable__content {max-height: 0;max-width: 0;overflow: hidden;text-align: left;background-color: #f0f8ff;}#sk-container-id-9 div.sk-toggleable__content pre {margin: 0.2em;color: black;border-radius: 0.25em;background-color: #f0f8ff;}#sk-container-id-9 input.sk-toggleable__control:checked~div.sk-toggleable__content {max-height: 200px;max-width: 100%;overflow: auto;}#sk-container-id-9 input.sk-toggleable__control:checked~label.sk-toggleable__label-arrow:before {content: \"▾\";}#sk-container-id-9 div.sk-estimator input.sk-toggleable__control:checked~label.sk-toggleable__label {background-color: #d4ebff;}#sk-container-id-9 div.sk-label input.sk-toggleable__control:checked~label.sk-toggleable__label {background-color: #d4ebff;}#sk-container-id-9 input.sk-hidden--visually {border: 0;clip: rect(1px 1px 1px 1px);clip: rect(1px, 1px, 1px, 1px);height: 1px;margin: -1px;overflow: hidden;padding: 0;position: absolute;width: 1px;}#sk-container-id-9 div.sk-estimator {font-family: monospace;background-color: #f0f8ff;border: 1px dotted black;border-radius: 0.25em;box-sizing: border-box;margin-bottom: 0.5em;}#sk-container-id-9 div.sk-estimator:hover {background-color: #d4ebff;}#sk-container-id-9 div.sk-parallel-item::after {content: \"\";width: 100%;border-bottom: 1px solid gray;flex-grow: 1;}#sk-container-id-9 div.sk-label:hover label.sk-toggleable__label {background-color: #d4ebff;}#sk-container-id-9 div.sk-serial::before {content: \"\";position: absolute;border-left: 1px solid gray;box-sizing: border-box;top: 0;bottom: 0;left: 50%;z-index: 0;}#sk-container-id-9 div.sk-serial {display: flex;flex-direction: column;align-items: center;background-color: white;padding-right: 0.2em;padding-left: 0.2em;position: relative;}#sk-container-id-9 div.sk-item {position: relative;z-index: 1;}#sk-container-id-9 div.sk-parallel {display: flex;align-items: stretch;justify-content: center;background-color: white;position: relative;}#sk-container-id-9 div.sk-item::before, #sk-container-id-9 div.sk-parallel-item::before {content: \"\";position: absolute;border-left: 1px solid gray;box-sizing: border-box;top: 0;bottom: 0;left: 50%;z-index: -1;}#sk-container-id-9 div.sk-parallel-item {display: flex;flex-direction: column;z-index: 1;position: relative;background-color: white;}#sk-container-id-9 div.sk-parallel-item:first-child::after {align-self: flex-end;width: 50%;}#sk-container-id-9 div.sk-parallel-item:last-child::after {align-self: flex-start;width: 50%;}#sk-container-id-9 div.sk-parallel-item:only-child::after {width: 0;}#sk-container-id-9 div.sk-dashed-wrapped {border: 1px dashed gray;margin: 0 0.4em 0.5em 0.4em;box-sizing: border-box;padding-bottom: 0.4em;background-color: white;}#sk-container-id-9 div.sk-label label {font-family: monospace;font-weight: bold;display: inline-block;line-height: 1.2em;}#sk-container-id-9 div.sk-label-container {text-align: center;}#sk-container-id-9 div.sk-container {/* jupyter's `normalize.less` sets `[hidden] { display: none; }` but bootstrap.min.css set `[hidden] { display: none !important; }` so we also need the `!important` here to be able to override the default hidden behavior on the sphinx rendered scikit-learn.org. See: https://github.com/scikit-learn/scikit-learn/issues/21755 */display: inline-block !important;position: relative;}#sk-container-id-9 div.sk-text-repr-fallback {display: none;}</style><div id=\"sk-container-id-9\" class=\"sk-top-container\"><div class=\"sk-text-repr-fallback\"><pre>NeuralNetwork(clip_max=5, early_stopping=True, hidden_nodes=[6, 6],\n",
       "              learning_rate=0.0001, max_iters=5000)</pre><b>In a Jupyter environment, please rerun this cell to show the HTML representation or trust the notebook. <br />On GitHub, the HTML representation is unable to render, please try loading this page with nbviewer.org.</b></div><div class=\"sk-container\" hidden><div class=\"sk-item\"><div class=\"sk-estimator sk-toggleable\"><input class=\"sk-toggleable__control sk-hidden--visually\" id=\"sk-estimator-id-9\" type=\"checkbox\" checked><label for=\"sk-estimator-id-9\" class=\"sk-toggleable__label sk-toggleable__label-arrow\">NeuralNetwork</label><div class=\"sk-toggleable__content\"><pre>NeuralNetwork(clip_max=5, early_stopping=True, hidden_nodes=[6, 6],\n",
       "              learning_rate=0.0001, max_iters=5000)</pre></div></div></div></div></div>"
      ],
      "text/plain": [
       "NeuralNetwork(clip_max=5, early_stopping=True, hidden_nodes=[6, 6],\n",
       "              learning_rate=0.0001, max_iters=5000)"
      ]
     },
     "execution_count": 117,
     "metadata": {},
     "output_type": "execute_result"
    }
   ],
   "source": [
    "bd_gmm_ffs_nn.fit(trainx,trainy)"
   ]
  },
  {
   "cell_type": "code",
   "execution_count": 118,
   "metadata": {},
   "outputs": [
    {
     "name": "stdout",
     "output_type": "stream",
     "text": [
      "Training accuracy:  0.8201807228915663\n",
      "Test accuracy:  0.8209269662921348\n"
     ]
    }
   ],
   "source": [
    "y_train_pred = bd_gmm_ffs_nn.predict(trainx)\n",
    "\n",
    "y_train_accuracy = accuracy_score(trainy, y_train_pred)\n",
    "\n",
    "print('Training accuracy: ', y_train_accuracy)\n",
    "\n",
    "# Predict labels for test set and assess accuracy\n",
    "y_test_pred = bd_gmm_ffs_nn.predict(testx)\n",
    "\n",
    "y_test_accuracy = accuracy_score(testy, y_test_pred)\n",
    "\n",
    "print('Test accuracy: ', y_test_accuracy)"
   ]
  },
  {
   "cell_type": "markdown",
   "metadata": {},
   "source": [
    "## Small Data FFS"
   ]
  },
  {
   "cell_type": "code",
   "execution_count": 119,
   "metadata": {},
   "outputs": [],
   "source": [
    "ridge = linear_model.RidgeCV(alphas=np.logspace(-6, 6, num=5)).fit(sdX, sd_target)\n",
    "sfs2 = sfs(ridge, k_features=10, forward=True, verbose=0, scoring='neg_mean_squared_error')"
   ]
  },
  {
   "cell_type": "code",
   "execution_count": 120,
   "metadata": {},
   "outputs": [],
   "source": [
    "sfs2 = sfs2.fit(sdX, sd_target)"
   ]
  },
  {
   "cell_type": "code",
   "execution_count": 121,
   "metadata": {},
   "outputs": [
    {
     "name": "stdout",
     "output_type": "stream",
     "text": [
      "FFS SD Features:\n"
     ]
    },
    {
     "data": {
      "text/plain": [
       "['home_sp_plus',\n",
       " 'away_sp_plus',\n",
       " 'away_o_standardDowns',\n",
       " 'd_successrate',\n",
       " 'd_stuffrate',\n",
       " 'd_totalPPA',\n",
       " 'o_successrate',\n",
       " 'o_stuffrate',\n",
       " 'o_totalPPA',\n",
       " 'spread']"
      ]
     },
     "execution_count": 121,
     "metadata": {},
     "output_type": "execute_result"
    }
   ],
   "source": [
    "feat_names2 = list(sfs2.k_feature_names_)\n",
    "print(\"FFS SD Features:\")\n",
    "feat_names"
   ]
  },
  {
   "cell_type": "markdown",
   "metadata": {},
   "source": [
    "## SFS NN"
   ]
  },
  {
   "cell_type": "code",
   "execution_count": 122,
   "metadata": {},
   "outputs": [
    {
     "data": {
      "text/html": [
       "<div>\n",
       "<style scoped>\n",
       "    .dataframe tbody tr th:only-of-type {\n",
       "        vertical-align: middle;\n",
       "    }\n",
       "\n",
       "    .dataframe tbody tr th {\n",
       "        vertical-align: top;\n",
       "    }\n",
       "\n",
       "    .dataframe thead th {\n",
       "        text-align: right;\n",
       "    }\n",
       "</style>\n",
       "<table border=\"1\" class=\"dataframe\">\n",
       "  <thead>\n",
       "    <tr style=\"text-align: right;\">\n",
       "      <th></th>\n",
       "      <th>home_elo</th>\n",
       "      <th>away_elo</th>\n",
       "      <th>spread</th>\n",
       "      <th>h_drives</th>\n",
       "      <th>h_d_explosiveness</th>\n",
       "      <th>h_d_stuffrate</th>\n",
       "      <th>h_o_explosiveness</th>\n",
       "      <th>h_o_successrate</th>\n",
       "      <th>h_o_stuffrate</th>\n",
       "      <th>h_o_totalPPA</th>\n",
       "    </tr>\n",
       "  </thead>\n",
       "  <tbody>\n",
       "    <tr>\n",
       "      <th>0</th>\n",
       "      <td>0.363287</td>\n",
       "      <td>0.560706</td>\n",
       "      <td>0.755814</td>\n",
       "      <td>0.545455</td>\n",
       "      <td>0.525943</td>\n",
       "      <td>0.189655</td>\n",
       "      <td>0.328233</td>\n",
       "      <td>0.530378</td>\n",
       "      <td>0.304348</td>\n",
       "      <td>0.467733</td>\n",
       "    </tr>\n",
       "    <tr>\n",
       "      <th>1</th>\n",
       "      <td>0.466974</td>\n",
       "      <td>0.458425</td>\n",
       "      <td>0.447674</td>\n",
       "      <td>0.454545</td>\n",
       "      <td>0.311295</td>\n",
       "      <td>0.295699</td>\n",
       "      <td>0.173752</td>\n",
       "      <td>0.677011</td>\n",
       "      <td>0.333333</td>\n",
       "      <td>0.487121</td>\n",
       "    </tr>\n",
       "    <tr>\n",
       "      <th>2</th>\n",
       "      <td>0.520737</td>\n",
       "      <td>0.178808</td>\n",
       "      <td>0.331395</td>\n",
       "      <td>0.363636</td>\n",
       "      <td>0.504999</td>\n",
       "      <td>0.545045</td>\n",
       "      <td>0.252425</td>\n",
       "      <td>0.599884</td>\n",
       "      <td>0.208333</td>\n",
       "      <td>0.490175</td>\n",
       "    </tr>\n",
       "    <tr>\n",
       "      <th>3</th>\n",
       "      <td>0.362519</td>\n",
       "      <td>0.406181</td>\n",
       "      <td>0.627907</td>\n",
       "      <td>0.090909</td>\n",
       "      <td>0.430090</td>\n",
       "      <td>0.329060</td>\n",
       "      <td>0.366020</td>\n",
       "      <td>0.433870</td>\n",
       "      <td>0.148148</td>\n",
       "      <td>0.267459</td>\n",
       "    </tr>\n",
       "    <tr>\n",
       "      <th>4</th>\n",
       "      <td>0.227343</td>\n",
       "      <td>0.507726</td>\n",
       "      <td>0.691860</td>\n",
       "      <td>0.272727</td>\n",
       "      <td>0.260224</td>\n",
       "      <td>0.333333</td>\n",
       "      <td>0.360928</td>\n",
       "      <td>0.414189</td>\n",
       "      <td>0.250000</td>\n",
       "      <td>0.233661</td>\n",
       "    </tr>\n",
       "    <tr>\n",
       "      <th>...</th>\n",
       "      <td>...</td>\n",
       "      <td>...</td>\n",
       "      <td>...</td>\n",
       "      <td>...</td>\n",
       "      <td>...</td>\n",
       "      <td>...</td>\n",
       "      <td>...</td>\n",
       "      <td>...</td>\n",
       "      <td>...</td>\n",
       "      <td>...</td>\n",
       "    </tr>\n",
       "    <tr>\n",
       "      <th>454</th>\n",
       "      <td>0.498464</td>\n",
       "      <td>0.345107</td>\n",
       "      <td>0.325581</td>\n",
       "      <td>0.272727</td>\n",
       "      <td>0.478934</td>\n",
       "      <td>0.392857</td>\n",
       "      <td>0.274292</td>\n",
       "      <td>0.558110</td>\n",
       "      <td>0.750000</td>\n",
       "      <td>0.420685</td>\n",
       "    </tr>\n",
       "    <tr>\n",
       "      <th>455</th>\n",
       "      <td>0.483103</td>\n",
       "      <td>0.403974</td>\n",
       "      <td>0.488372</td>\n",
       "      <td>0.272727</td>\n",
       "      <td>0.565888</td>\n",
       "      <td>0.458333</td>\n",
       "      <td>0.221948</td>\n",
       "      <td>0.617191</td>\n",
       "      <td>0.470588</td>\n",
       "      <td>0.280414</td>\n",
       "    </tr>\n",
       "    <tr>\n",
       "      <th>456</th>\n",
       "      <td>0.208909</td>\n",
       "      <td>0.397351</td>\n",
       "      <td>0.744186</td>\n",
       "      <td>0.363636</td>\n",
       "      <td>0.425106</td>\n",
       "      <td>0.134146</td>\n",
       "      <td>0.351512</td>\n",
       "      <td>0.410575</td>\n",
       "      <td>0.214286</td>\n",
       "      <td>0.323153</td>\n",
       "    </tr>\n",
       "    <tr>\n",
       "      <th>457</th>\n",
       "      <td>0.301075</td>\n",
       "      <td>0.306107</td>\n",
       "      <td>0.529070</td>\n",
       "      <td>0.545455</td>\n",
       "      <td>0.304514</td>\n",
       "      <td>0.396396</td>\n",
       "      <td>0.088698</td>\n",
       "      <td>0.547204</td>\n",
       "      <td>0.212766</td>\n",
       "      <td>0.291999</td>\n",
       "    </tr>\n",
       "    <tr>\n",
       "      <th>458</th>\n",
       "      <td>0.353303</td>\n",
       "      <td>0.450331</td>\n",
       "      <td>0.639535</td>\n",
       "      <td>0.363636</td>\n",
       "      <td>0.375085</td>\n",
       "      <td>0.333333</td>\n",
       "      <td>0.534938</td>\n",
       "      <td>0.583569</td>\n",
       "      <td>0.437500</td>\n",
       "      <td>0.575431</td>\n",
       "    </tr>\n",
       "  </tbody>\n",
       "</table>\n",
       "<p>457 rows × 10 columns</p>\n",
       "</div>"
      ],
      "text/plain": [
       "     home_elo  away_elo    spread  h_drives  h_d_explosiveness  h_d_stuffrate  \\\n",
       "0    0.363287  0.560706  0.755814  0.545455           0.525943       0.189655   \n",
       "1    0.466974  0.458425  0.447674  0.454545           0.311295       0.295699   \n",
       "2    0.520737  0.178808  0.331395  0.363636           0.504999       0.545045   \n",
       "3    0.362519  0.406181  0.627907  0.090909           0.430090       0.329060   \n",
       "4    0.227343  0.507726  0.691860  0.272727           0.260224       0.333333   \n",
       "..        ...       ...       ...       ...                ...            ...   \n",
       "454  0.498464  0.345107  0.325581  0.272727           0.478934       0.392857   \n",
       "455  0.483103  0.403974  0.488372  0.272727           0.565888       0.458333   \n",
       "456  0.208909  0.397351  0.744186  0.363636           0.425106       0.134146   \n",
       "457  0.301075  0.306107  0.529070  0.545455           0.304514       0.396396   \n",
       "458  0.353303  0.450331  0.639535  0.363636           0.375085       0.333333   \n",
       "\n",
       "     h_o_explosiveness  h_o_successrate  h_o_stuffrate  h_o_totalPPA  \n",
       "0             0.328233         0.530378       0.304348      0.467733  \n",
       "1             0.173752         0.677011       0.333333      0.487121  \n",
       "2             0.252425         0.599884       0.208333      0.490175  \n",
       "3             0.366020         0.433870       0.148148      0.267459  \n",
       "4             0.360928         0.414189       0.250000      0.233661  \n",
       "..                 ...              ...            ...           ...  \n",
       "454           0.274292         0.558110       0.750000      0.420685  \n",
       "455           0.221948         0.617191       0.470588      0.280414  \n",
       "456           0.351512         0.410575       0.214286      0.323153  \n",
       "457           0.088698         0.547204       0.212766      0.291999  \n",
       "458           0.534938         0.583569       0.437500      0.575431  \n",
       "\n",
       "[457 rows x 10 columns]"
      ]
     },
     "execution_count": 122,
     "metadata": {},
     "output_type": "execute_result"
    }
   ],
   "source": [
    "sd_ffs = sdX[feat_names2]\n",
    "sd_ffs"
   ]
  },
  {
   "cell_type": "code",
   "execution_count": 123,
   "metadata": {},
   "outputs": [],
   "source": [
    "trainx, testx, trainy, testy = train_test_split(sd_ffs, sd_target, test_size=.3, random_state=42)"
   ]
  },
  {
   "cell_type": "code",
   "execution_count": 124,
   "metadata": {},
   "outputs": [],
   "source": [
    "sd_ffs_nn = mlrose.NeuralNetwork(hidden_nodes = [6,6], activation = 'relu', algorithm = 'gradient_descent', max_iters = 5000, bias = True, is_classifier = True, learning_rate = 0.0001,\n",
    "early_stopping = True, clip_max = 5, max_attempts = 1000, random_state = 3)"
   ]
  },
  {
   "cell_type": "code",
   "execution_count": 125,
   "metadata": {},
   "outputs": [
    {
     "data": {
      "text/html": [
       "<style>#sk-container-id-10 {color: black;background-color: white;}#sk-container-id-10 pre{padding: 0;}#sk-container-id-10 div.sk-toggleable {background-color: white;}#sk-container-id-10 label.sk-toggleable__label {cursor: pointer;display: block;width: 100%;margin-bottom: 0;padding: 0.3em;box-sizing: border-box;text-align: center;}#sk-container-id-10 label.sk-toggleable__label-arrow:before {content: \"▸\";float: left;margin-right: 0.25em;color: #696969;}#sk-container-id-10 label.sk-toggleable__label-arrow:hover:before {color: black;}#sk-container-id-10 div.sk-estimator:hover label.sk-toggleable__label-arrow:before {color: black;}#sk-container-id-10 div.sk-toggleable__content {max-height: 0;max-width: 0;overflow: hidden;text-align: left;background-color: #f0f8ff;}#sk-container-id-10 div.sk-toggleable__content pre {margin: 0.2em;color: black;border-radius: 0.25em;background-color: #f0f8ff;}#sk-container-id-10 input.sk-toggleable__control:checked~div.sk-toggleable__content {max-height: 200px;max-width: 100%;overflow: auto;}#sk-container-id-10 input.sk-toggleable__control:checked~label.sk-toggleable__label-arrow:before {content: \"▾\";}#sk-container-id-10 div.sk-estimator input.sk-toggleable__control:checked~label.sk-toggleable__label {background-color: #d4ebff;}#sk-container-id-10 div.sk-label input.sk-toggleable__control:checked~label.sk-toggleable__label {background-color: #d4ebff;}#sk-container-id-10 input.sk-hidden--visually {border: 0;clip: rect(1px 1px 1px 1px);clip: rect(1px, 1px, 1px, 1px);height: 1px;margin: -1px;overflow: hidden;padding: 0;position: absolute;width: 1px;}#sk-container-id-10 div.sk-estimator {font-family: monospace;background-color: #f0f8ff;border: 1px dotted black;border-radius: 0.25em;box-sizing: border-box;margin-bottom: 0.5em;}#sk-container-id-10 div.sk-estimator:hover {background-color: #d4ebff;}#sk-container-id-10 div.sk-parallel-item::after {content: \"\";width: 100%;border-bottom: 1px solid gray;flex-grow: 1;}#sk-container-id-10 div.sk-label:hover label.sk-toggleable__label {background-color: #d4ebff;}#sk-container-id-10 div.sk-serial::before {content: \"\";position: absolute;border-left: 1px solid gray;box-sizing: border-box;top: 0;bottom: 0;left: 50%;z-index: 0;}#sk-container-id-10 div.sk-serial {display: flex;flex-direction: column;align-items: center;background-color: white;padding-right: 0.2em;padding-left: 0.2em;position: relative;}#sk-container-id-10 div.sk-item {position: relative;z-index: 1;}#sk-container-id-10 div.sk-parallel {display: flex;align-items: stretch;justify-content: center;background-color: white;position: relative;}#sk-container-id-10 div.sk-item::before, #sk-container-id-10 div.sk-parallel-item::before {content: \"\";position: absolute;border-left: 1px solid gray;box-sizing: border-box;top: 0;bottom: 0;left: 50%;z-index: -1;}#sk-container-id-10 div.sk-parallel-item {display: flex;flex-direction: column;z-index: 1;position: relative;background-color: white;}#sk-container-id-10 div.sk-parallel-item:first-child::after {align-self: flex-end;width: 50%;}#sk-container-id-10 div.sk-parallel-item:last-child::after {align-self: flex-start;width: 50%;}#sk-container-id-10 div.sk-parallel-item:only-child::after {width: 0;}#sk-container-id-10 div.sk-dashed-wrapped {border: 1px dashed gray;margin: 0 0.4em 0.5em 0.4em;box-sizing: border-box;padding-bottom: 0.4em;background-color: white;}#sk-container-id-10 div.sk-label label {font-family: monospace;font-weight: bold;display: inline-block;line-height: 1.2em;}#sk-container-id-10 div.sk-label-container {text-align: center;}#sk-container-id-10 div.sk-container {/* jupyter's `normalize.less` sets `[hidden] { display: none; }` but bootstrap.min.css set `[hidden] { display: none !important; }` so we also need the `!important` here to be able to override the default hidden behavior on the sphinx rendered scikit-learn.org. See: https://github.com/scikit-learn/scikit-learn/issues/21755 */display: inline-block !important;position: relative;}#sk-container-id-10 div.sk-text-repr-fallback {display: none;}</style><div id=\"sk-container-id-10\" class=\"sk-top-container\"><div class=\"sk-text-repr-fallback\"><pre>NeuralNetwork(clip_max=5, early_stopping=True, hidden_nodes=[6, 6],\n",
       "              learning_rate=0.0001, max_iters=5000)</pre><b>In a Jupyter environment, please rerun this cell to show the HTML representation or trust the notebook. <br />On GitHub, the HTML representation is unable to render, please try loading this page with nbviewer.org.</b></div><div class=\"sk-container\" hidden><div class=\"sk-item\"><div class=\"sk-estimator sk-toggleable\"><input class=\"sk-toggleable__control sk-hidden--visually\" id=\"sk-estimator-id-10\" type=\"checkbox\" checked><label for=\"sk-estimator-id-10\" class=\"sk-toggleable__label sk-toggleable__label-arrow\">NeuralNetwork</label><div class=\"sk-toggleable__content\"><pre>NeuralNetwork(clip_max=5, early_stopping=True, hidden_nodes=[6, 6],\n",
       "              learning_rate=0.0001, max_iters=5000)</pre></div></div></div></div></div>"
      ],
      "text/plain": [
       "NeuralNetwork(clip_max=5, early_stopping=True, hidden_nodes=[6, 6],\n",
       "              learning_rate=0.0001, max_iters=5000)"
      ]
     },
     "execution_count": 125,
     "metadata": {},
     "output_type": "execute_result"
    }
   ],
   "source": [
    "sd_ffs_nn.fit(trainx,trainy)"
   ]
  },
  {
   "cell_type": "code",
   "execution_count": 126,
   "metadata": {},
   "outputs": [
    {
     "name": "stdout",
     "output_type": "stream",
     "text": [
      "Training accuracy:  0.5517241379310345\n",
      "Test accuracy:  0.5144927536231884\n"
     ]
    }
   ],
   "source": [
    "y_train_pred = sd_ffs_nn.predict(trainx)\n",
    "\n",
    "y_train_accuracy = accuracy_score(trainy, y_train_pred)\n",
    "\n",
    "print('Training accuracy: ', y_train_accuracy)\n",
    "\n",
    "# Predict labels for test set and assess accuracy\n",
    "y_test_pred = sd_ffs_nn.predict(testx)\n",
    "\n",
    "y_test_accuracy = accuracy_score(testy, y_test_pred)\n",
    "\n",
    "print('Test accuracy: ', y_test_accuracy)"
   ]
  },
  {
   "cell_type": "markdown",
   "metadata": {},
   "source": [
    "### SD FFS Kmeans"
   ]
  },
  {
   "cell_type": "code",
   "execution_count": 127,
   "metadata": {},
   "outputs": [],
   "source": [
    "centers = []\n",
    "inertia = []\n",
    "for i in range(1,25):\n",
    "    km = cluster.KMeans(n_clusters=i, random_state=0).fit(sd_ffs)\n",
    "    centers.append(km.cluster_centers_)\n",
    "    inertia.append(km.inertia_)"
   ]
  },
  {
   "cell_type": "code",
   "execution_count": 128,
   "metadata": {},
   "outputs": [
    {
     "data": {
      "text/plain": [
       "[<matplotlib.lines.Line2D at 0x2002b91b7c0>]"
      ]
     },
     "execution_count": 128,
     "metadata": {},
     "output_type": "execute_result"
    },
    {
     "data": {
      "image/png": "[encoded data removed]",
      "text/plain": [
       "<Figure size 432x288 with 1 Axes>"
      ]
     },
     "metadata": {
      "needs_background": "light"
     },
     "output_type": "display_data"
    }
   ],
   "source": [
    "plt.plot(range(1,25),inertia)"
   ]
  },
  {
   "cell_type": "code",
   "execution_count": 129,
   "metadata": {},
   "outputs": [],
   "source": [
    "kmeansffssd = cluster.KMeans(n_clusters=7)\n",
    "kmeansffssd.fit(sd_ffs)\n",
    "y_kmeans = kmeansffssd.predict(sd_ffs)"
   ]
  },
  {
   "cell_type": "code",
   "execution_count": 130,
   "metadata": {},
   "outputs": [
    {
     "data": {
      "text/plain": [
       "<matplotlib.collections.PathCollection at 0x2002a886520>"
      ]
     },
     "execution_count": 130,
     "metadata": {},
     "output_type": "execute_result"
    },
    {
     "data": {
      "image/png": "[encoded data removed]",
      "text/plain": [
       "<Figure size 432x288 with 1 Axes>"
      ]
     },
     "metadata": {
      "needs_background": "light"
     },
     "output_type": "display_data"
    }
   ],
   "source": [
    "plt.scatter(sd_ffs.iloc[:, 0], sd_ffs.iloc[:, 1], c=y_kmeans, s=50, cmap='icefire')\n",
    "\n",
    "centers = kmeansffssd.cluster_centers_\n",
    "plt.scatter(centers[:, 0], centers[:, 1], c='black', s=200, alpha=0.5)"
   ]
  },
  {
   "cell_type": "code",
   "execution_count": 131,
   "metadata": {},
   "outputs": [
    {
     "data": {
      "text/plain": [
       "<mpl_toolkits.mplot3d.art3d.Path3DCollection at 0x2000af06460>"
      ]
     },
     "execution_count": 131,
     "metadata": {},
     "output_type": "execute_result"
    },
    {
     "data": {
      "image/png": "[encoded data removed]",
      "text/plain": [
       "<Figure size 432x288 with 1 Axes>"
      ]
     },
     "metadata": {
      "needs_background": "light"
     },
     "output_type": "display_data"
    }
   ],
   "source": [
    "fig = plt.figure()\n",
    "ax = plt.axes(projection='3d')\n",
    "ax.scatter3D(sd_ffs.iloc[:,0],sd_ffs.iloc[:,1],sd_ffs.iloc[:,2], c=y_kmeans, s=40, cmap='icefire')"
   ]
  },
  {
   "cell_type": "markdown",
   "metadata": {},
   "source": [
    "## SD FFS KM NN"
   ]
  },
  {
   "cell_type": "code",
   "execution_count": 132,
   "metadata": {},
   "outputs": [
    {
     "data": {
      "text/plain": [
       "array([5, 6, 4, 0, 0, 0, 3, 3, 4, 4, 5, 4, 1, 5, 2, 1, 0, 3, 3, 1, 6, 6,\n",
       "       4, 5, 6, 6, 0, 5, 5, 4, 0, 1, 4, 5, 5, 6, 6, 2, 6, 6, 4, 5, 6, 1,\n",
       "       4, 2, 3, 0, 1, 5, 1, 6, 5, 3, 5, 0, 4, 5, 5, 4, 3, 5, 0, 3, 3, 6,\n",
       "       5, 5, 0, 1, 4, 5, 5, 2, 1, 1, 2, 3, 3, 4, 4, 2, 2, 0, 1, 2, 5, 6,\n",
       "       4, 5, 4, 1, 2, 5, 5, 1, 5, 0, 1, 3, 4, 5, 2, 2, 0, 4, 6, 2, 5, 5,\n",
       "       2, 3, 6, 6, 2, 1, 6, 2, 4, 6, 4, 3, 5, 0, 5, 4, 4, 3, 6, 2, 5, 3,\n",
       "       6, 2, 0, 3, 1, 4, 6, 1, 3, 4, 6, 2, 1, 3, 5, 6, 0, 3, 3, 3, 2, 4,\n",
       "       1, 6, 4, 5, 5, 2, 0, 0, 5, 3, 3, 6, 5, 4, 5, 0, 6, 4, 3, 6, 2, 2,\n",
       "       2, 3, 2, 1, 3, 1, 3, 2, 2, 2, 0, 4, 2, 0, 4, 6, 6, 4, 6, 2, 5, 2,\n",
       "       3, 2, 1, 6, 3, 3, 5, 1, 2, 6, 2, 6, 3, 6, 5, 0, 5, 3, 5, 5, 3, 6,\n",
       "       2, 2, 0, 3, 0, 2, 2, 0, 4, 3, 5, 3, 0, 6, 3, 5, 6, 5, 3, 0, 5, 2,\n",
       "       1, 3, 1, 3, 1, 3, 6, 0, 5, 6, 1, 4, 0, 2, 6, 4, 5, 1, 3, 1, 6, 1,\n",
       "       3, 3, 6, 5, 1, 1, 5, 0, 0, 5, 2, 6, 3, 5, 3, 0, 4, 1, 0, 6, 5, 0,\n",
       "       6, 1, 0, 3, 5, 6, 3, 2, 0, 0, 0, 0, 3, 5, 1, 5, 3, 6, 6, 4, 5, 0,\n",
       "       0, 2, 2, 0, 5, 5, 4, 3, 0, 0, 6, 6, 0, 2, 6, 6, 6, 1, 1, 0, 1, 0,\n",
       "       5, 3, 2, 1, 1, 2, 4, 2, 3, 6, 5, 5, 3, 2, 2, 0, 3, 2, 0, 1, 6, 6,\n",
       "       3, 3, 3, 6, 0, 5, 5, 0, 1, 6, 0, 1, 5, 2, 0, 6, 5, 6, 2, 5, 6, 5,\n",
       "       3, 0, 0, 3, 4, 3, 6, 6, 5, 6, 2, 4, 0, 5, 5, 0, 6, 0, 0, 0, 3, 0,\n",
       "       2, 0, 6, 3, 5, 3, 1, 2, 5, 2, 3, 0, 1, 3, 5, 6, 0, 0, 5, 2, 2, 1,\n",
       "       0, 1, 5, 5, 0, 0, 2, 6, 3, 1, 1, 6, 5, 2, 6, 4, 5, 5, 3, 4, 0, 1,\n",
       "       5, 0, 5, 4, 6, 3, 5, 5, 6, 3, 0, 2, 3, 3, 0, 0, 3])"
      ]
     },
     "execution_count": 132,
     "metadata": {},
     "output_type": "execute_result"
    }
   ],
   "source": [
    "labels = kmeansffssd.labels_\n",
    "labels"
   ]
  },
  {
   "cell_type": "code",
   "execution_count": 133,
   "metadata": {},
   "outputs": [],
   "source": [
    "labelsdf = pd.DataFrame(labels, columns=[\"clusters\"])\n",
    "hot = OneHotEncoder().fit_transform(X = labelsdf).toarray()\n",
    "labelsdf2 = pd.DataFrame(hot, columns= ['C1', 'C2', 'C3', 'C4', 'C5', 'C6', 'C7'])"
   ]
  },
  {
   "cell_type": "code",
   "execution_count": 134,
   "metadata": {},
   "outputs": [
    {
     "data": {
      "text/html": [
       "<div>\n",
       "<style scoped>\n",
       "    .dataframe tbody tr th:only-of-type {\n",
       "        vertical-align: middle;\n",
       "    }\n",
       "\n",
       "    .dataframe tbody tr th {\n",
       "        vertical-align: top;\n",
       "    }\n",
       "\n",
       "    .dataframe thead th {\n",
       "        text-align: right;\n",
       "    }\n",
       "</style>\n",
       "<table border=\"1\" class=\"dataframe\">\n",
       "  <thead>\n",
       "    <tr style=\"text-align: right;\">\n",
       "      <th></th>\n",
       "      <th>home_elo</th>\n",
       "      <th>away_elo</th>\n",
       "      <th>spread</th>\n",
       "      <th>h_drives</th>\n",
       "      <th>h_d_explosiveness</th>\n",
       "      <th>h_d_stuffrate</th>\n",
       "      <th>h_o_explosiveness</th>\n",
       "      <th>h_o_successrate</th>\n",
       "      <th>h_o_stuffrate</th>\n",
       "      <th>h_o_totalPPA</th>\n",
       "      <th>C1</th>\n",
       "      <th>C2</th>\n",
       "      <th>C3</th>\n",
       "      <th>C4</th>\n",
       "      <th>C5</th>\n",
       "      <th>C6</th>\n",
       "      <th>C7</th>\n",
       "    </tr>\n",
       "  </thead>\n",
       "  <tbody>\n",
       "    <tr>\n",
       "      <th>0</th>\n",
       "      <td>0.363287</td>\n",
       "      <td>0.560706</td>\n",
       "      <td>0.755814</td>\n",
       "      <td>0.545455</td>\n",
       "      <td>0.525943</td>\n",
       "      <td>0.189655</td>\n",
       "      <td>0.328233</td>\n",
       "      <td>0.530378</td>\n",
       "      <td>0.304348</td>\n",
       "      <td>0.467733</td>\n",
       "      <td>0.0</td>\n",
       "      <td>0.0</td>\n",
       "      <td>0.0</td>\n",
       "      <td>0.0</td>\n",
       "      <td>0.0</td>\n",
       "      <td>1.0</td>\n",
       "      <td>0.0</td>\n",
       "    </tr>\n",
       "    <tr>\n",
       "      <th>1</th>\n",
       "      <td>0.466974</td>\n",
       "      <td>0.458425</td>\n",
       "      <td>0.447674</td>\n",
       "      <td>0.454545</td>\n",
       "      <td>0.311295</td>\n",
       "      <td>0.295699</td>\n",
       "      <td>0.173752</td>\n",
       "      <td>0.677011</td>\n",
       "      <td>0.333333</td>\n",
       "      <td>0.487121</td>\n",
       "      <td>0.0</td>\n",
       "      <td>0.0</td>\n",
       "      <td>0.0</td>\n",
       "      <td>0.0</td>\n",
       "      <td>0.0</td>\n",
       "      <td>0.0</td>\n",
       "      <td>1.0</td>\n",
       "    </tr>\n",
       "    <tr>\n",
       "      <th>2</th>\n",
       "      <td>0.520737</td>\n",
       "      <td>0.178808</td>\n",
       "      <td>0.331395</td>\n",
       "      <td>0.363636</td>\n",
       "      <td>0.504999</td>\n",
       "      <td>0.545045</td>\n",
       "      <td>0.252425</td>\n",
       "      <td>0.599884</td>\n",
       "      <td>0.208333</td>\n",
       "      <td>0.490175</td>\n",
       "      <td>0.0</td>\n",
       "      <td>0.0</td>\n",
       "      <td>0.0</td>\n",
       "      <td>0.0</td>\n",
       "      <td>1.0</td>\n",
       "      <td>0.0</td>\n",
       "      <td>0.0</td>\n",
       "    </tr>\n",
       "    <tr>\n",
       "      <th>3</th>\n",
       "      <td>0.362519</td>\n",
       "      <td>0.406181</td>\n",
       "      <td>0.627907</td>\n",
       "      <td>0.090909</td>\n",
       "      <td>0.430090</td>\n",
       "      <td>0.329060</td>\n",
       "      <td>0.366020</td>\n",
       "      <td>0.433870</td>\n",
       "      <td>0.148148</td>\n",
       "      <td>0.267459</td>\n",
       "      <td>1.0</td>\n",
       "      <td>0.0</td>\n",
       "      <td>0.0</td>\n",
       "      <td>0.0</td>\n",
       "      <td>0.0</td>\n",
       "      <td>0.0</td>\n",
       "      <td>0.0</td>\n",
       "    </tr>\n",
       "    <tr>\n",
       "      <th>4</th>\n",
       "      <td>0.227343</td>\n",
       "      <td>0.507726</td>\n",
       "      <td>0.691860</td>\n",
       "      <td>0.272727</td>\n",
       "      <td>0.260224</td>\n",
       "      <td>0.333333</td>\n",
       "      <td>0.360928</td>\n",
       "      <td>0.414189</td>\n",
       "      <td>0.250000</td>\n",
       "      <td>0.233661</td>\n",
       "      <td>1.0</td>\n",
       "      <td>0.0</td>\n",
       "      <td>0.0</td>\n",
       "      <td>0.0</td>\n",
       "      <td>0.0</td>\n",
       "      <td>0.0</td>\n",
       "      <td>0.0</td>\n",
       "    </tr>\n",
       "    <tr>\n",
       "      <th>...</th>\n",
       "      <td>...</td>\n",
       "      <td>...</td>\n",
       "      <td>...</td>\n",
       "      <td>...</td>\n",
       "      <td>...</td>\n",
       "      <td>...</td>\n",
       "      <td>...</td>\n",
       "      <td>...</td>\n",
       "      <td>...</td>\n",
       "      <td>...</td>\n",
       "      <td>...</td>\n",
       "      <td>...</td>\n",
       "      <td>...</td>\n",
       "      <td>...</td>\n",
       "      <td>...</td>\n",
       "      <td>...</td>\n",
       "      <td>...</td>\n",
       "    </tr>\n",
       "    <tr>\n",
       "      <th>452</th>\n",
       "      <td>0.498464</td>\n",
       "      <td>0.345107</td>\n",
       "      <td>0.325581</td>\n",
       "      <td>0.272727</td>\n",
       "      <td>0.478934</td>\n",
       "      <td>0.392857</td>\n",
       "      <td>0.274292</td>\n",
       "      <td>0.558110</td>\n",
       "      <td>0.750000</td>\n",
       "      <td>0.420685</td>\n",
       "      <td>0.0</td>\n",
       "      <td>0.0</td>\n",
       "      <td>0.0</td>\n",
       "      <td>1.0</td>\n",
       "      <td>0.0</td>\n",
       "      <td>0.0</td>\n",
       "      <td>0.0</td>\n",
       "    </tr>\n",
       "    <tr>\n",
       "      <th>453</th>\n",
       "      <td>0.483103</td>\n",
       "      <td>0.403974</td>\n",
       "      <td>0.488372</td>\n",
       "      <td>0.272727</td>\n",
       "      <td>0.565888</td>\n",
       "      <td>0.458333</td>\n",
       "      <td>0.221948</td>\n",
       "      <td>0.617191</td>\n",
       "      <td>0.470588</td>\n",
       "      <td>0.280414</td>\n",
       "      <td>0.0</td>\n",
       "      <td>0.0</td>\n",
       "      <td>0.0</td>\n",
       "      <td>1.0</td>\n",
       "      <td>0.0</td>\n",
       "      <td>0.0</td>\n",
       "      <td>0.0</td>\n",
       "    </tr>\n",
       "    <tr>\n",
       "      <th>454</th>\n",
       "      <td>0.208909</td>\n",
       "      <td>0.397351</td>\n",
       "      <td>0.744186</td>\n",
       "      <td>0.363636</td>\n",
       "      <td>0.425106</td>\n",
       "      <td>0.134146</td>\n",
       "      <td>0.351512</td>\n",
       "      <td>0.410575</td>\n",
       "      <td>0.214286</td>\n",
       "      <td>0.323153</td>\n",
       "      <td>1.0</td>\n",
       "      <td>0.0</td>\n",
       "      <td>0.0</td>\n",
       "      <td>0.0</td>\n",
       "      <td>0.0</td>\n",
       "      <td>0.0</td>\n",
       "      <td>0.0</td>\n",
       "    </tr>\n",
       "    <tr>\n",
       "      <th>455</th>\n",
       "      <td>0.301075</td>\n",
       "      <td>0.306107</td>\n",
       "      <td>0.529070</td>\n",
       "      <td>0.545455</td>\n",
       "      <td>0.304514</td>\n",
       "      <td>0.396396</td>\n",
       "      <td>0.088698</td>\n",
       "      <td>0.547204</td>\n",
       "      <td>0.212766</td>\n",
       "      <td>0.291999</td>\n",
       "      <td>1.0</td>\n",
       "      <td>0.0</td>\n",
       "      <td>0.0</td>\n",
       "      <td>0.0</td>\n",
       "      <td>0.0</td>\n",
       "      <td>0.0</td>\n",
       "      <td>0.0</td>\n",
       "    </tr>\n",
       "    <tr>\n",
       "      <th>456</th>\n",
       "      <td>0.353303</td>\n",
       "      <td>0.450331</td>\n",
       "      <td>0.639535</td>\n",
       "      <td>0.363636</td>\n",
       "      <td>0.375085</td>\n",
       "      <td>0.333333</td>\n",
       "      <td>0.534938</td>\n",
       "      <td>0.583569</td>\n",
       "      <td>0.437500</td>\n",
       "      <td>0.575431</td>\n",
       "      <td>0.0</td>\n",
       "      <td>0.0</td>\n",
       "      <td>0.0</td>\n",
       "      <td>1.0</td>\n",
       "      <td>0.0</td>\n",
       "      <td>0.0</td>\n",
       "      <td>0.0</td>\n",
       "    </tr>\n",
       "  </tbody>\n",
       "</table>\n",
       "<p>457 rows × 17 columns</p>\n",
       "</div>"
      ],
      "text/plain": [
       "     home_elo  away_elo    spread  h_drives  h_d_explosiveness  h_d_stuffrate  \\\n",
       "0    0.363287  0.560706  0.755814  0.545455           0.525943       0.189655   \n",
       "1    0.466974  0.458425  0.447674  0.454545           0.311295       0.295699   \n",
       "2    0.520737  0.178808  0.331395  0.363636           0.504999       0.545045   \n",
       "3    0.362519  0.406181  0.627907  0.090909           0.430090       0.329060   \n",
       "4    0.227343  0.507726  0.691860  0.272727           0.260224       0.333333   \n",
       "..        ...       ...       ...       ...                ...            ...   \n",
       "452  0.498464  0.345107  0.325581  0.272727           0.478934       0.392857   \n",
       "453  0.483103  0.403974  0.488372  0.272727           0.565888       0.458333   \n",
       "454  0.208909  0.397351  0.744186  0.363636           0.425106       0.134146   \n",
       "455  0.301075  0.306107  0.529070  0.545455           0.304514       0.396396   \n",
       "456  0.353303  0.450331  0.639535  0.363636           0.375085       0.333333   \n",
       "\n",
       "     h_o_explosiveness  h_o_successrate  h_o_stuffrate  h_o_totalPPA   C1  \\\n",
       "0             0.328233         0.530378       0.304348      0.467733  0.0   \n",
       "1             0.173752         0.677011       0.333333      0.487121  0.0   \n",
       "2             0.252425         0.599884       0.208333      0.490175  0.0   \n",
       "3             0.366020         0.433870       0.148148      0.267459  1.0   \n",
       "4             0.360928         0.414189       0.250000      0.233661  1.0   \n",
       "..                 ...              ...            ...           ...  ...   \n",
       "452           0.274292         0.558110       0.750000      0.420685  0.0   \n",
       "453           0.221948         0.617191       0.470588      0.280414  0.0   \n",
       "454           0.351512         0.410575       0.214286      0.323153  1.0   \n",
       "455           0.088698         0.547204       0.212766      0.291999  1.0   \n",
       "456           0.534938         0.583569       0.437500      0.575431  0.0   \n",
       "\n",
       "      C2   C3   C4   C5   C6   C7  \n",
       "0    0.0  0.0  0.0  0.0  1.0  0.0  \n",
       "1    0.0  0.0  0.0  0.0  0.0  1.0  \n",
       "2    0.0  0.0  0.0  1.0  0.0  0.0  \n",
       "3    0.0  0.0  0.0  0.0  0.0  0.0  \n",
       "4    0.0  0.0  0.0  0.0  0.0  0.0  \n",
       "..   ...  ...  ...  ...  ...  ...  \n",
       "452  0.0  0.0  1.0  0.0  0.0  0.0  \n",
       "453  0.0  0.0  1.0  0.0  0.0  0.0  \n",
       "454  0.0  0.0  0.0  0.0  0.0  0.0  \n",
       "455  0.0  0.0  0.0  0.0  0.0  0.0  \n",
       "456  0.0  0.0  1.0  0.0  0.0  0.0  \n",
       "\n",
       "[457 rows x 17 columns]"
      ]
     },
     "execution_count": 134,
     "metadata": {},
     "output_type": "execute_result"
    }
   ],
   "source": [
    "sdffskmnn_df = pd.concat([sd_ffs.reset_index(),labelsdf2], axis=1)\n",
    "sdffskmnn_df = sdffskmnn_df.drop('index',axis=1)\n",
    "sdffskmnn_df"
   ]
  },
  {
   "cell_type": "code",
   "execution_count": 135,
   "metadata": {},
   "outputs": [],
   "source": [
    "trainx, testx, trainy, testy = train_test_split(sdffskmnn_df, sd_target, test_size=.3, random_state=42)"
   ]
  },
  {
   "cell_type": "code",
   "execution_count": 136,
   "metadata": {},
   "outputs": [],
   "source": [
    "sdffskmnn_df_nn = mlrose.NeuralNetwork(hidden_nodes = [6,6], activation = 'relu', algorithm = 'gradient_descent', max_iters = 5000, bias = True, is_classifier = True, learning_rate = 0.0001,\n",
    "early_stopping = True, clip_max = 5, max_attempts = 1000, random_state = 3)"
   ]
  },
  {
   "cell_type": "code",
   "execution_count": 137,
   "metadata": {},
   "outputs": [
    {
     "data": {
      "text/html": [
       "<style>#sk-container-id-11 {color: black;background-color: white;}#sk-container-id-11 pre{padding: 0;}#sk-container-id-11 div.sk-toggleable {background-color: white;}#sk-container-id-11 label.sk-toggleable__label {cursor: pointer;display: block;width: 100%;margin-bottom: 0;padding: 0.3em;box-sizing: border-box;text-align: center;}#sk-container-id-11 label.sk-toggleable__label-arrow:before {content: \"▸\";float: left;margin-right: 0.25em;color: #696969;}#sk-container-id-11 label.sk-toggleable__label-arrow:hover:before {color: black;}#sk-container-id-11 div.sk-estimator:hover label.sk-toggleable__label-arrow:before {color: black;}#sk-container-id-11 div.sk-toggleable__content {max-height: 0;max-width: 0;overflow: hidden;text-align: left;background-color: #f0f8ff;}#sk-container-id-11 div.sk-toggleable__content pre {margin: 0.2em;color: black;border-radius: 0.25em;background-color: #f0f8ff;}#sk-container-id-11 input.sk-toggleable__control:checked~div.sk-toggleable__content {max-height: 200px;max-width: 100%;overflow: auto;}#sk-container-id-11 input.sk-toggleable__control:checked~label.sk-toggleable__label-arrow:before {content: \"▾\";}#sk-container-id-11 div.sk-estimator input.sk-toggleable__control:checked~label.sk-toggleable__label {background-color: #d4ebff;}#sk-container-id-11 div.sk-label input.sk-toggleable__control:checked~label.sk-toggleable__label {background-color: #d4ebff;}#sk-container-id-11 input.sk-hidden--visually {border: 0;clip: rect(1px 1px 1px 1px);clip: rect(1px, 1px, 1px, 1px);height: 1px;margin: -1px;overflow: hidden;padding: 0;position: absolute;width: 1px;}#sk-container-id-11 div.sk-estimator {font-family: monospace;background-color: #f0f8ff;border: 1px dotted black;border-radius: 0.25em;box-sizing: border-box;margin-bottom: 0.5em;}#sk-container-id-11 div.sk-estimator:hover {background-color: #d4ebff;}#sk-container-id-11 div.sk-parallel-item::after {content: \"\";width: 100%;border-bottom: 1px solid gray;flex-grow: 1;}#sk-container-id-11 div.sk-label:hover label.sk-toggleable__label {background-color: #d4ebff;}#sk-container-id-11 div.sk-serial::before {content: \"\";position: absolute;border-left: 1px solid gray;box-sizing: border-box;top: 0;bottom: 0;left: 50%;z-index: 0;}#sk-container-id-11 div.sk-serial {display: flex;flex-direction: column;align-items: center;background-color: white;padding-right: 0.2em;padding-left: 0.2em;position: relative;}#sk-container-id-11 div.sk-item {position: relative;z-index: 1;}#sk-container-id-11 div.sk-parallel {display: flex;align-items: stretch;justify-content: center;background-color: white;position: relative;}#sk-container-id-11 div.sk-item::before, #sk-container-id-11 div.sk-parallel-item::before {content: \"\";position: absolute;border-left: 1px solid gray;box-sizing: border-box;top: 0;bottom: 0;left: 50%;z-index: -1;}#sk-container-id-11 div.sk-parallel-item {display: flex;flex-direction: column;z-index: 1;position: relative;background-color: white;}#sk-container-id-11 div.sk-parallel-item:first-child::after {align-self: flex-end;width: 50%;}#sk-container-id-11 div.sk-parallel-item:last-child::after {align-self: flex-start;width: 50%;}#sk-container-id-11 div.sk-parallel-item:only-child::after {width: 0;}#sk-container-id-11 div.sk-dashed-wrapped {border: 1px dashed gray;margin: 0 0.4em 0.5em 0.4em;box-sizing: border-box;padding-bottom: 0.4em;background-color: white;}#sk-container-id-11 div.sk-label label {font-family: monospace;font-weight: bold;display: inline-block;line-height: 1.2em;}#sk-container-id-11 div.sk-label-container {text-align: center;}#sk-container-id-11 div.sk-container {/* jupyter's `normalize.less` sets `[hidden] { display: none; }` but bootstrap.min.css set `[hidden] { display: none !important; }` so we also need the `!important` here to be able to override the default hidden behavior on the sphinx rendered scikit-learn.org. See: https://github.com/scikit-learn/scikit-learn/issues/21755 */display: inline-block !important;position: relative;}#sk-container-id-11 div.sk-text-repr-fallback {display: none;}</style><div id=\"sk-container-id-11\" class=\"sk-top-container\"><div class=\"sk-text-repr-fallback\"><pre>NeuralNetwork(clip_max=5, early_stopping=True, hidden_nodes=[6, 6],\n",
       "              learning_rate=0.0001, max_iters=5000)</pre><b>In a Jupyter environment, please rerun this cell to show the HTML representation or trust the notebook. <br />On GitHub, the HTML representation is unable to render, please try loading this page with nbviewer.org.</b></div><div class=\"sk-container\" hidden><div class=\"sk-item\"><div class=\"sk-estimator sk-toggleable\"><input class=\"sk-toggleable__control sk-hidden--visually\" id=\"sk-estimator-id-11\" type=\"checkbox\" checked><label for=\"sk-estimator-id-11\" class=\"sk-toggleable__label sk-toggleable__label-arrow\">NeuralNetwork</label><div class=\"sk-toggleable__content\"><pre>NeuralNetwork(clip_max=5, early_stopping=True, hidden_nodes=[6, 6],\n",
       "              learning_rate=0.0001, max_iters=5000)</pre></div></div></div></div></div>"
      ],
      "text/plain": [
       "NeuralNetwork(clip_max=5, early_stopping=True, hidden_nodes=[6, 6],\n",
       "              learning_rate=0.0001, max_iters=5000)"
      ]
     },
     "execution_count": 137,
     "metadata": {},
     "output_type": "execute_result"
    }
   ],
   "source": [
    "sdffskmnn_df_nn.fit(trainx,trainy)"
   ]
  },
  {
   "cell_type": "code",
   "execution_count": 138,
   "metadata": {},
   "outputs": [
    {
     "name": "stdout",
     "output_type": "stream",
     "text": [
      "Training accuracy:  0.5862068965517241\n",
      "Test accuracy:  0.5797101449275363\n"
     ]
    }
   ],
   "source": [
    "y_train_pred = sdffskmnn_df_nn.predict(trainx)\n",
    "\n",
    "y_train_accuracy = accuracy_score(trainy, y_train_pred)\n",
    "\n",
    "print('Training accuracy: ', y_train_accuracy)\n",
    "\n",
    "# Predict labels for test set and assess accuracy\n",
    "y_test_pred = sdffskmnn_df_nn.predict(testx)\n",
    "\n",
    "y_test_accuracy = accuracy_score(testy, y_test_pred)\n",
    "\n",
    "print('Test accuracy: ', y_test_accuracy)"
   ]
  },
  {
   "cell_type": "markdown",
   "metadata": {},
   "source": [
    "### SD FFS GMM"
   ]
  },
  {
   "cell_type": "code",
   "execution_count": 139,
   "metadata": {},
   "outputs": [],
   "source": [
    "# ~ 30s \n",
    "gmm_bic = []\n",
    "gmm_aic = []\n",
    "for i in range(1,25):\n",
    "    gmm = mixture.GaussianMixture(n_components=i, random_state=0).fit(sd_ffs)\n",
    "    gmm_bic.append(gmm.bic(sd_ffs))\n",
    "    gmm_aic.append(gmm.aic(sd_ffs))"
   ]
  },
  {
   "cell_type": "code",
   "execution_count": 140,
   "metadata": {},
   "outputs": [
    {
     "data": {
      "image/png": "[encoded data removed]",
      "text/plain": [
       "<Figure size 432x288 with 1 Axes>"
      ]
     },
     "metadata": {
      "needs_background": "light"
     },
     "output_type": "display_data"
    }
   ],
   "source": [
    "r = np.arange(1,25)\n",
    "plt.plot(r, gmm_aic, gmm_bic)\n",
    "plt.title(\"AIC, BIC by Clusters\")\n",
    "plt.xlabel('Clusters')\n",
    "plt.ylabel('Value')\n",
    "plt.legend(labels = ['AIC', 'BIC'])\n",
    "plt.show()"
   ]
  },
  {
   "cell_type": "code",
   "execution_count": 141,
   "metadata": {},
   "outputs": [
    {
     "name": "stdout",
     "output_type": "stream",
     "text": [
      "True\n"
     ]
    }
   ],
   "source": [
    "# Even though AIC rises after 2, for comparison sake we will take AIC + BIC recommendation for simpler model and set K = 2 \n",
    "gmm = mixture.GaussianMixture(n_components=4).fit(sd_ffs)\n",
    "print(gmm.converged_)"
   ]
  },
  {
   "cell_type": "code",
   "execution_count": 142,
   "metadata": {},
   "outputs": [
    {
     "data": {
      "text/plain": [
       "457"
      ]
     },
     "execution_count": 142,
     "metadata": {},
     "output_type": "execute_result"
    }
   ],
   "source": [
    "labels = gmm.predict(sd_ffs)\n",
    "len(labels)"
   ]
  },
  {
   "cell_type": "code",
   "execution_count": 143,
   "metadata": {},
   "outputs": [
    {
     "data": {
      "text/plain": [
       "<mpl_toolkits.mplot3d.art3d.Path3DCollection at 0x2002cf1ae50>"
      ]
     },
     "execution_count": 143,
     "metadata": {},
     "output_type": "execute_result"
    },
    {
     "data": {
      "image/png": "[encoded data removed]",
      "text/plain": [
       "<Figure size 432x288 with 1 Axes>"
      ]
     },
     "metadata": {
      "needs_background": "light"
     },
     "output_type": "display_data"
    }
   ],
   "source": [
    "fig = plt.figure()\n",
    "ax = plt.axes(projection='3d')\n",
    "ax.scatter3D(sd_ffs.iloc[:,0],sd_ffs.iloc[:,1],sd_ffs.iloc[:,2], c=labels, s=40, cmap='icefire')"
   ]
  },
  {
   "cell_type": "code",
   "execution_count": 144,
   "metadata": {},
   "outputs": [
    {
     "data": {
      "text/plain": [
       "3"
      ]
     },
     "execution_count": 144,
     "metadata": {},
     "output_type": "execute_result"
    }
   ],
   "source": [
    "labels.max()"
   ]
  },
  {
   "cell_type": "code",
   "execution_count": 145,
   "metadata": {},
   "outputs": [],
   "source": [
    "labelsdf = pd.DataFrame(labels, columns=[\"clusters\"])\n",
    "hot = OneHotEncoder().fit_transform(X = labelsdf).toarray()\n",
    "labelsdf2 = pd.DataFrame(hot, columns= ['C1', 'C2', 'C3', 'C4'])"
   ]
  },
  {
   "cell_type": "code",
   "execution_count": 146,
   "metadata": {},
   "outputs": [
    {
     "data": {
      "text/html": [
       "<div>\n",
       "<style scoped>\n",
       "    .dataframe tbody tr th:only-of-type {\n",
       "        vertical-align: middle;\n",
       "    }\n",
       "\n",
       "    .dataframe tbody tr th {\n",
       "        vertical-align: top;\n",
       "    }\n",
       "\n",
       "    .dataframe thead th {\n",
       "        text-align: right;\n",
       "    }\n",
       "</style>\n",
       "<table border=\"1\" class=\"dataframe\">\n",
       "  <thead>\n",
       "    <tr style=\"text-align: right;\">\n",
       "      <th></th>\n",
       "      <th>home_elo</th>\n",
       "      <th>away_elo</th>\n",
       "      <th>spread</th>\n",
       "      <th>h_drives</th>\n",
       "      <th>h_d_explosiveness</th>\n",
       "      <th>h_d_stuffrate</th>\n",
       "      <th>h_o_explosiveness</th>\n",
       "      <th>h_o_successrate</th>\n",
       "      <th>h_o_stuffrate</th>\n",
       "      <th>h_o_totalPPA</th>\n",
       "      <th>C1</th>\n",
       "      <th>C2</th>\n",
       "      <th>C3</th>\n",
       "      <th>C4</th>\n",
       "    </tr>\n",
       "  </thead>\n",
       "  <tbody>\n",
       "    <tr>\n",
       "      <th>0</th>\n",
       "      <td>0.363287</td>\n",
       "      <td>0.560706</td>\n",
       "      <td>0.755814</td>\n",
       "      <td>0.545455</td>\n",
       "      <td>0.525943</td>\n",
       "      <td>0.189655</td>\n",
       "      <td>0.328233</td>\n",
       "      <td>0.530378</td>\n",
       "      <td>0.304348</td>\n",
       "      <td>0.467733</td>\n",
       "      <td>0.0</td>\n",
       "      <td>1.0</td>\n",
       "      <td>0.0</td>\n",
       "      <td>0.0</td>\n",
       "    </tr>\n",
       "    <tr>\n",
       "      <th>1</th>\n",
       "      <td>0.466974</td>\n",
       "      <td>0.458425</td>\n",
       "      <td>0.447674</td>\n",
       "      <td>0.454545</td>\n",
       "      <td>0.311295</td>\n",
       "      <td>0.295699</td>\n",
       "      <td>0.173752</td>\n",
       "      <td>0.677011</td>\n",
       "      <td>0.333333</td>\n",
       "      <td>0.487121</td>\n",
       "      <td>0.0</td>\n",
       "      <td>0.0</td>\n",
       "      <td>1.0</td>\n",
       "      <td>0.0</td>\n",
       "    </tr>\n",
       "    <tr>\n",
       "      <th>2</th>\n",
       "      <td>0.520737</td>\n",
       "      <td>0.178808</td>\n",
       "      <td>0.331395</td>\n",
       "      <td>0.363636</td>\n",
       "      <td>0.504999</td>\n",
       "      <td>0.545045</td>\n",
       "      <td>0.252425</td>\n",
       "      <td>0.599884</td>\n",
       "      <td>0.208333</td>\n",
       "      <td>0.490175</td>\n",
       "      <td>0.0</td>\n",
       "      <td>0.0</td>\n",
       "      <td>0.0</td>\n",
       "      <td>1.0</td>\n",
       "    </tr>\n",
       "    <tr>\n",
       "      <th>3</th>\n",
       "      <td>0.362519</td>\n",
       "      <td>0.406181</td>\n",
       "      <td>0.627907</td>\n",
       "      <td>0.090909</td>\n",
       "      <td>0.430090</td>\n",
       "      <td>0.329060</td>\n",
       "      <td>0.366020</td>\n",
       "      <td>0.433870</td>\n",
       "      <td>0.148148</td>\n",
       "      <td>0.267459</td>\n",
       "      <td>1.0</td>\n",
       "      <td>0.0</td>\n",
       "      <td>0.0</td>\n",
       "      <td>0.0</td>\n",
       "    </tr>\n",
       "    <tr>\n",
       "      <th>4</th>\n",
       "      <td>0.227343</td>\n",
       "      <td>0.507726</td>\n",
       "      <td>0.691860</td>\n",
       "      <td>0.272727</td>\n",
       "      <td>0.260224</td>\n",
       "      <td>0.333333</td>\n",
       "      <td>0.360928</td>\n",
       "      <td>0.414189</td>\n",
       "      <td>0.250000</td>\n",
       "      <td>0.233661</td>\n",
       "      <td>1.0</td>\n",
       "      <td>0.0</td>\n",
       "      <td>0.0</td>\n",
       "      <td>0.0</td>\n",
       "    </tr>\n",
       "    <tr>\n",
       "      <th>...</th>\n",
       "      <td>...</td>\n",
       "      <td>...</td>\n",
       "      <td>...</td>\n",
       "      <td>...</td>\n",
       "      <td>...</td>\n",
       "      <td>...</td>\n",
       "      <td>...</td>\n",
       "      <td>...</td>\n",
       "      <td>...</td>\n",
       "      <td>...</td>\n",
       "      <td>...</td>\n",
       "      <td>...</td>\n",
       "      <td>...</td>\n",
       "      <td>...</td>\n",
       "    </tr>\n",
       "    <tr>\n",
       "      <th>452</th>\n",
       "      <td>0.498464</td>\n",
       "      <td>0.345107</td>\n",
       "      <td>0.325581</td>\n",
       "      <td>0.272727</td>\n",
       "      <td>0.478934</td>\n",
       "      <td>0.392857</td>\n",
       "      <td>0.274292</td>\n",
       "      <td>0.558110</td>\n",
       "      <td>0.750000</td>\n",
       "      <td>0.420685</td>\n",
       "      <td>0.0</td>\n",
       "      <td>0.0</td>\n",
       "      <td>1.0</td>\n",
       "      <td>0.0</td>\n",
       "    </tr>\n",
       "    <tr>\n",
       "      <th>453</th>\n",
       "      <td>0.483103</td>\n",
       "      <td>0.403974</td>\n",
       "      <td>0.488372</td>\n",
       "      <td>0.272727</td>\n",
       "      <td>0.565888</td>\n",
       "      <td>0.458333</td>\n",
       "      <td>0.221948</td>\n",
       "      <td>0.617191</td>\n",
       "      <td>0.470588</td>\n",
       "      <td>0.280414</td>\n",
       "      <td>0.0</td>\n",
       "      <td>0.0</td>\n",
       "      <td>1.0</td>\n",
       "      <td>0.0</td>\n",
       "    </tr>\n",
       "    <tr>\n",
       "      <th>454</th>\n",
       "      <td>0.208909</td>\n",
       "      <td>0.397351</td>\n",
       "      <td>0.744186</td>\n",
       "      <td>0.363636</td>\n",
       "      <td>0.425106</td>\n",
       "      <td>0.134146</td>\n",
       "      <td>0.351512</td>\n",
       "      <td>0.410575</td>\n",
       "      <td>0.214286</td>\n",
       "      <td>0.323153</td>\n",
       "      <td>0.0</td>\n",
       "      <td>1.0</td>\n",
       "      <td>0.0</td>\n",
       "      <td>0.0</td>\n",
       "    </tr>\n",
       "    <tr>\n",
       "      <th>455</th>\n",
       "      <td>0.301075</td>\n",
       "      <td>0.306107</td>\n",
       "      <td>0.529070</td>\n",
       "      <td>0.545455</td>\n",
       "      <td>0.304514</td>\n",
       "      <td>0.396396</td>\n",
       "      <td>0.088698</td>\n",
       "      <td>0.547204</td>\n",
       "      <td>0.212766</td>\n",
       "      <td>0.291999</td>\n",
       "      <td>0.0</td>\n",
       "      <td>0.0</td>\n",
       "      <td>1.0</td>\n",
       "      <td>0.0</td>\n",
       "    </tr>\n",
       "    <tr>\n",
       "      <th>456</th>\n",
       "      <td>0.353303</td>\n",
       "      <td>0.450331</td>\n",
       "      <td>0.639535</td>\n",
       "      <td>0.363636</td>\n",
       "      <td>0.375085</td>\n",
       "      <td>0.333333</td>\n",
       "      <td>0.534938</td>\n",
       "      <td>0.583569</td>\n",
       "      <td>0.437500</td>\n",
       "      <td>0.575431</td>\n",
       "      <td>0.0</td>\n",
       "      <td>0.0</td>\n",
       "      <td>1.0</td>\n",
       "      <td>0.0</td>\n",
       "    </tr>\n",
       "  </tbody>\n",
       "</table>\n",
       "<p>457 rows × 14 columns</p>\n",
       "</div>"
      ],
      "text/plain": [
       "     home_elo  away_elo    spread  h_drives  h_d_explosiveness  h_d_stuffrate  \\\n",
       "0    0.363287  0.560706  0.755814  0.545455           0.525943       0.189655   \n",
       "1    0.466974  0.458425  0.447674  0.454545           0.311295       0.295699   \n",
       "2    0.520737  0.178808  0.331395  0.363636           0.504999       0.545045   \n",
       "3    0.362519  0.406181  0.627907  0.090909           0.430090       0.329060   \n",
       "4    0.227343  0.507726  0.691860  0.272727           0.260224       0.333333   \n",
       "..        ...       ...       ...       ...                ...            ...   \n",
       "452  0.498464  0.345107  0.325581  0.272727           0.478934       0.392857   \n",
       "453  0.483103  0.403974  0.488372  0.272727           0.565888       0.458333   \n",
       "454  0.208909  0.397351  0.744186  0.363636           0.425106       0.134146   \n",
       "455  0.301075  0.306107  0.529070  0.545455           0.304514       0.396396   \n",
       "456  0.353303  0.450331  0.639535  0.363636           0.375085       0.333333   \n",
       "\n",
       "     h_o_explosiveness  h_o_successrate  h_o_stuffrate  h_o_totalPPA   C1  \\\n",
       "0             0.328233         0.530378       0.304348      0.467733  0.0   \n",
       "1             0.173752         0.677011       0.333333      0.487121  0.0   \n",
       "2             0.252425         0.599884       0.208333      0.490175  0.0   \n",
       "3             0.366020         0.433870       0.148148      0.267459  1.0   \n",
       "4             0.360928         0.414189       0.250000      0.233661  1.0   \n",
       "..                 ...              ...            ...           ...  ...   \n",
       "452           0.274292         0.558110       0.750000      0.420685  0.0   \n",
       "453           0.221948         0.617191       0.470588      0.280414  0.0   \n",
       "454           0.351512         0.410575       0.214286      0.323153  0.0   \n",
       "455           0.088698         0.547204       0.212766      0.291999  0.0   \n",
       "456           0.534938         0.583569       0.437500      0.575431  0.0   \n",
       "\n",
       "      C2   C3   C4  \n",
       "0    1.0  0.0  0.0  \n",
       "1    0.0  1.0  0.0  \n",
       "2    0.0  0.0  1.0  \n",
       "3    0.0  0.0  0.0  \n",
       "4    0.0  0.0  0.0  \n",
       "..   ...  ...  ...  \n",
       "452  0.0  1.0  0.0  \n",
       "453  0.0  1.0  0.0  \n",
       "454  1.0  0.0  0.0  \n",
       "455  0.0  1.0  0.0  \n",
       "456  0.0  1.0  0.0  \n",
       "\n",
       "[457 rows x 14 columns]"
      ]
     },
     "execution_count": 146,
     "metadata": {},
     "output_type": "execute_result"
    }
   ],
   "source": [
    "sd_ffs_gmm_nn_df = pd.concat([sd_ffs.reset_index(),labelsdf2], axis=1)\n",
    "sd_ffs_gmm_nn_df = sd_ffs_gmm_nn_df.drop('index',axis=1)\n",
    "sd_ffs_gmm_nn_df"
   ]
  },
  {
   "cell_type": "code",
   "execution_count": 147,
   "metadata": {},
   "outputs": [],
   "source": [
    "trainx, testx, trainy, testy = train_test_split(sd_ffs_gmm_nn_df, sd_target, test_size=.3, random_state=42)"
   ]
  },
  {
   "cell_type": "code",
   "execution_count": 148,
   "metadata": {},
   "outputs": [],
   "source": [
    "sd_ffs_gmm_nn = mlrose.NeuralNetwork(hidden_nodes = [6,6], activation = 'relu', algorithm = 'gradient_descent', max_iters = 5000, bias = True, is_classifier = True, learning_rate = 0.0001,\n",
    "early_stopping = True, clip_max = 5, max_attempts = 1000, random_state = 3)"
   ]
  },
  {
   "cell_type": "code",
   "execution_count": 149,
   "metadata": {},
   "outputs": [
    {
     "data": {
      "text/html": [
       "<style>#sk-container-id-12 {color: black;background-color: white;}#sk-container-id-12 pre{padding: 0;}#sk-container-id-12 div.sk-toggleable {background-color: white;}#sk-container-id-12 label.sk-toggleable__label {cursor: pointer;display: block;width: 100%;margin-bottom: 0;padding: 0.3em;box-sizing: border-box;text-align: center;}#sk-container-id-12 label.sk-toggleable__label-arrow:before {content: \"▸\";float: left;margin-right: 0.25em;color: #696969;}#sk-container-id-12 label.sk-toggleable__label-arrow:hover:before {color: black;}#sk-container-id-12 div.sk-estimator:hover label.sk-toggleable__label-arrow:before {color: black;}#sk-container-id-12 div.sk-toggleable__content {max-height: 0;max-width: 0;overflow: hidden;text-align: left;background-color: #f0f8ff;}#sk-container-id-12 div.sk-toggleable__content pre {margin: 0.2em;color: black;border-radius: 0.25em;background-color: #f0f8ff;}#sk-container-id-12 input.sk-toggleable__control:checked~div.sk-toggleable__content {max-height: 200px;max-width: 100%;overflow: auto;}#sk-container-id-12 input.sk-toggleable__control:checked~label.sk-toggleable__label-arrow:before {content: \"▾\";}#sk-container-id-12 div.sk-estimator input.sk-toggleable__control:checked~label.sk-toggleable__label {background-color: #d4ebff;}#sk-container-id-12 div.sk-label input.sk-toggleable__control:checked~label.sk-toggleable__label {background-color: #d4ebff;}#sk-container-id-12 input.sk-hidden--visually {border: 0;clip: rect(1px 1px 1px 1px);clip: rect(1px, 1px, 1px, 1px);height: 1px;margin: -1px;overflow: hidden;padding: 0;position: absolute;width: 1px;}#sk-container-id-12 div.sk-estimator {font-family: monospace;background-color: #f0f8ff;border: 1px dotted black;border-radius: 0.25em;box-sizing: border-box;margin-bottom: 0.5em;}#sk-container-id-12 div.sk-estimator:hover {background-color: #d4ebff;}#sk-container-id-12 div.sk-parallel-item::after {content: \"\";width: 100%;border-bottom: 1px solid gray;flex-grow: 1;}#sk-container-id-12 div.sk-label:hover label.sk-toggleable__label {background-color: #d4ebff;}#sk-container-id-12 div.sk-serial::before {content: \"\";position: absolute;border-left: 1px solid gray;box-sizing: border-box;top: 0;bottom: 0;left: 50%;z-index: 0;}#sk-container-id-12 div.sk-serial {display: flex;flex-direction: column;align-items: center;background-color: white;padding-right: 0.2em;padding-left: 0.2em;position: relative;}#sk-container-id-12 div.sk-item {position: relative;z-index: 1;}#sk-container-id-12 div.sk-parallel {display: flex;align-items: stretch;justify-content: center;background-color: white;position: relative;}#sk-container-id-12 div.sk-item::before, #sk-container-id-12 div.sk-parallel-item::before {content: \"\";position: absolute;border-left: 1px solid gray;box-sizing: border-box;top: 0;bottom: 0;left: 50%;z-index: -1;}#sk-container-id-12 div.sk-parallel-item {display: flex;flex-direction: column;z-index: 1;position: relative;background-color: white;}#sk-container-id-12 div.sk-parallel-item:first-child::after {align-self: flex-end;width: 50%;}#sk-container-id-12 div.sk-parallel-item:last-child::after {align-self: flex-start;width: 50%;}#sk-container-id-12 div.sk-parallel-item:only-child::after {width: 0;}#sk-container-id-12 div.sk-dashed-wrapped {border: 1px dashed gray;margin: 0 0.4em 0.5em 0.4em;box-sizing: border-box;padding-bottom: 0.4em;background-color: white;}#sk-container-id-12 div.sk-label label {font-family: monospace;font-weight: bold;display: inline-block;line-height: 1.2em;}#sk-container-id-12 div.sk-label-container {text-align: center;}#sk-container-id-12 div.sk-container {/* jupyter's `normalize.less` sets `[hidden] { display: none; }` but bootstrap.min.css set `[hidden] { display: none !important; }` so we also need the `!important` here to be able to override the default hidden behavior on the sphinx rendered scikit-learn.org. See: https://github.com/scikit-learn/scikit-learn/issues/21755 */display: inline-block !important;position: relative;}#sk-container-id-12 div.sk-text-repr-fallback {display: none;}</style><div id=\"sk-container-id-12\" class=\"sk-top-container\"><div class=\"sk-text-repr-fallback\"><pre>NeuralNetwork(clip_max=5, early_stopping=True, hidden_nodes=[6, 6],\n",
       "              learning_rate=0.0001, max_iters=5000)</pre><b>In a Jupyter environment, please rerun this cell to show the HTML representation or trust the notebook. <br />On GitHub, the HTML representation is unable to render, please try loading this page with nbviewer.org.</b></div><div class=\"sk-container\" hidden><div class=\"sk-item\"><div class=\"sk-estimator sk-toggleable\"><input class=\"sk-toggleable__control sk-hidden--visually\" id=\"sk-estimator-id-12\" type=\"checkbox\" checked><label for=\"sk-estimator-id-12\" class=\"sk-toggleable__label sk-toggleable__label-arrow\">NeuralNetwork</label><div class=\"sk-toggleable__content\"><pre>NeuralNetwork(clip_max=5, early_stopping=True, hidden_nodes=[6, 6],\n",
       "              learning_rate=0.0001, max_iters=5000)</pre></div></div></div></div></div>"
      ],
      "text/plain": [
       "NeuralNetwork(clip_max=5, early_stopping=True, hidden_nodes=[6, 6],\n",
       "              learning_rate=0.0001, max_iters=5000)"
      ]
     },
     "execution_count": 149,
     "metadata": {},
     "output_type": "execute_result"
    }
   ],
   "source": [
    "sd_ffs_gmm_nn.fit(trainx,trainy)"
   ]
  },
  {
   "cell_type": "code",
   "execution_count": 150,
   "metadata": {},
   "outputs": [
    {
     "name": "stdout",
     "output_type": "stream",
     "text": [
      "Training accuracy:  0.6206896551724138\n",
      "Test accuracy:  0.5434782608695652\n"
     ]
    }
   ],
   "source": [
    "y_train_pred = sd_ffs_gmm_nn.predict(trainx)\n",
    "\n",
    "y_train_accuracy = accuracy_score(trainy, y_train_pred)\n",
    "\n",
    "print('Training accuracy: ', y_train_accuracy)\n",
    "\n",
    "# Predict labels for test set and assess accuracy\n",
    "y_test_pred = sd_ffs_gmm_nn.predict(testx)\n",
    "\n",
    "y_test_accuracy = accuracy_score(testy, y_test_pred)\n",
    "\n",
    "print('Test accuracy: ', y_test_accuracy)"
   ]
  },
  {
   "cell_type": "code",
   "execution_count": null,
   "metadata": {},
   "outputs": [],
   "source": []
  },
  {
   "cell_type": "code",
   "execution_count": null,
   "metadata": {},
   "outputs": [],
   "source": []
  },
  {
   "cell_type": "code",
   "execution_count": null,
   "metadata": {},
   "outputs": [],
   "source": []
  }
 ],
 "metadata": {
  "kernelspec": {
   "display_name": "Python 3.8.2 64-bit",
   "language": "python",
   "name": "python3"
  },
  "language_info": {
   "codemirror_mode": {
    "name": "ipython",
    "version": 3
   },
   "file_extension": ".py",
   "mimetype": "text/x-python",
   "name": "python",
   "nbconvert_exporter": "python",
   "pygments_lexer": "ipython3",
   "version": "3.8.2"
  },
  "orig_nbformat": 4,
  "vscode": {
   "interpreter": {
    "hash": "570feb405e2e27c949193ac68f46852414290d515b0ba6e5d90d076ed2284471"
   }
  }
 },
 "nbformat": 4,
 "nbformat_minor": 2
}
